{
 "cells": [
  {
   "cell_type": "markdown",
   "id": "d934d768",
   "metadata": {},
   "source": [
    "# 2025.06.05. (THU)"
   ]
  },
  {
   "cell_type": "markdown",
   "id": "1e94c812",
   "metadata": {},
   "source": [
    "## Model\n"
   ]
  },
  {
   "cell_type": "code",
   "execution_count": 2,
   "id": "937bd760",
   "metadata": {},
   "outputs": [
    {
     "data": {
      "text/plain": [
       "'0.3.25'"
      ]
     },
     "execution_count": 2,
     "metadata": {},
     "output_type": "execute_result"
    }
   ],
   "source": [
    "import langchain\n",
    "\n",
    "langchain.__version__"
   ]
  },
  {
   "cell_type": "markdown",
   "id": "9cee0c84",
   "metadata": {},
   "source": [
    "### OpenAI Model\n",
    "\n",
    "* https://platform.openai.com"
   ]
  },
  {
   "cell_type": "markdown",
   "id": "92f27791",
   "metadata": {},
   "source": [
    "### OpenAI LLMs\n",
    "\n",
    "* [LLMs](https://platform.openai.com/docs/models)\n",
    "\n",
    "* [Pricing](https://platform.openai.com/docs/pricing)\n",
    "\n",
    "* [Token Size Confirmation](https://platform.openai.com/tokenizer)\n",
    "\n",
    "    * 1 Token: About 3~4 English letters. About 1~2 Korean letters\n",
    "\n",
    "    * As models continue updating, token size is getting larger as well."
   ]
  },
  {
   "cell_type": "markdown",
   "id": "6b602ccd",
   "metadata": {},
   "source": [
    "### Get API w/ OpenAI Library"
   ]
  },
  {
   "cell_type": "code",
   "execution_count": 4,
   "id": "44b9363b",
   "metadata": {},
   "outputs": [
    {
     "name": "stdout",
     "output_type": "stream",
     "text": [
      "True\n"
     ]
    }
   ],
   "source": [
    "from openai import OpenAI\n",
    "from dotenv import load_dotenv\n",
    "\n",
    "flag = load_dotenv()\n",
    "print(flag)"
   ]
  },
  {
   "cell_type": "code",
   "execution_count": null,
   "id": "9c378b62",
   "metadata": {},
   "outputs": [],
   "source": [
    "client = OpenAI()  # if saved as \"OPENAI_API_KEY\" in environment variable, be able to omit api key input.\n",
    "message = [\n",
    "    {\n",
    "        \"role\":\"user\",   # user, assistant, system\n",
    "        \"content\":\"OpenAI의 LLM 모델은 무엇이 있나요?\"   # prompt\n",
    "    }\n",
    "]\n",
    "response = client.chat.completions.create(\n",
    "    model = 'gpt-4o-mini',    # select a model\n",
    "    messages = message\n",
    ")"
   ]
  },
  {
   "cell_type": "code",
   "execution_count": 6,
   "id": "df71f60f",
   "metadata": {},
   "outputs": [
    {
     "data": {
      "text/plain": [
       "ChatCompletion(id='chatcmpl-Bf70vErBgUihvSSsIIhUxSv7OGxFW', choices=[Choice(finish_reason='stop', index=0, logprobs=None, message=ChatCompletionMessage(content='OpenAI의 LLM(대형 언어 모델)에는 여러 가지 버전이 있습니다. 주로 알려진 모델은 다음과 같습니다:\\n\\n1. **GPT-2**: OpenAI의 두 번째 버전의 생성적 사전 훈련 변환기(Generative Pre-trained Transformer)로, 자연어 이해 및 생성 작업에 탁월한 성능을 보여줍니다.\\n\\n2. **GPT-3**: GPT-2의 후속 모델로, 1750억 개의 매개변수를 가지고 있어 더욱 뛰어난 성능과 다양한 작업에 대한 능력을 제공합니다. GPT-3는 많은 애플리케이션에서 사용되고 있습니다.\\n\\n3. **GPT-3.5**: GPT-3의 개선된 버전으로, 더 나은 성능을 발휘하며 사용자 경험이 향상되었습니다.\\n\\n4. **GPT-4**: 최신 모델로, 이전 모델들보다 더 향상된 성능을 제공합니다. GPT-4는 다양한 맥락을 이해하고 복잡한 작업을 수행하는 데 강력합니다.\\n\\n이 외에도 특정 애플리케이션에 맞춘 다양한 모델이 있을 수 있습니다. OpenAI는 지속적으로 모델을 개선하고 새로운 버전을 개발하고 있습니다.', refusal=None, role='assistant', annotations=[], audio=None, function_call=None, tool_calls=None))], created=1749138109, model='gpt-4o-mini-2024-07-18', object='chat.completion', service_tier='default', system_fingerprint='fp_34a54ae93c', usage=CompletionUsage(completion_tokens=261, prompt_tokens=19, total_tokens=280, completion_tokens_details=CompletionTokensDetails(accepted_prediction_tokens=0, audio_tokens=0, reasoning_tokens=0, rejected_prediction_tokens=0), prompt_tokens_details=PromptTokensDetails(audio_tokens=0, cached_tokens=0)))"
      ]
     },
     "execution_count": 6,
     "metadata": {},
     "output_type": "execute_result"
    }
   ],
   "source": [
    "response"
   ]
  },
  {
   "cell_type": "code",
   "execution_count": 7,
   "id": "cca82138",
   "metadata": {},
   "outputs": [
    {
     "name": "stdout",
     "output_type": "stream",
     "text": [
      "OpenAI의 LLM(대형 언어 모델)에는 여러 가지 버전이 있습니다. 주로 알려진 모델은 다음과 같습니다:\n",
      "\n",
      "1. **GPT-2**: OpenAI의 두 번째 버전의 생성적 사전 훈련 변환기(Generative Pre-trained Transformer)로, 자연어 이해 및 생성 작업에 탁월한 성능을 보여줍니다.\n",
      "\n",
      "2. **GPT-3**: GPT-2의 후속 모델로, 1750억 개의 매개변수를 가지고 있어 더욱 뛰어난 성능과 다양한 작업에 대한 능력을 제공합니다. GPT-3는 많은 애플리케이션에서 사용되고 있습니다.\n",
      "\n",
      "3. **GPT-3.5**: GPT-3의 개선된 버전으로, 더 나은 성능을 발휘하며 사용자 경험이 향상되었습니다.\n",
      "\n",
      "4. **GPT-4**: 최신 모델로, 이전 모델들보다 더 향상된 성능을 제공합니다. GPT-4는 다양한 맥락을 이해하고 복잡한 작업을 수행하는 데 강력합니다.\n",
      "\n",
      "이 외에도 특정 애플리케이션에 맞춘 다양한 모델이 있을 수 있습니다. OpenAI는 지속적으로 모델을 개선하고 새로운 버전을 개발하고 있습니다.\n"
     ]
    }
   ],
   "source": [
    "print(response.choices[0].message.content)"
   ]
  },
  {
   "cell_type": "code",
   "execution_count": 8,
   "id": "2e730d0e",
   "metadata": {},
   "outputs": [
    {
     "data": {
      "text/markdown": [
       "OpenAI의 LLM(대형 언어 모델)에는 여러 가지 버전이 있습니다. 주로 알려진 모델은 다음과 같습니다:\n",
       "\n",
       "1. **GPT-2**: OpenAI의 두 번째 버전의 생성적 사전 훈련 변환기(Generative Pre-trained Transformer)로, 자연어 이해 및 생성 작업에 탁월한 성능을 보여줍니다.\n",
       "\n",
       "2. **GPT-3**: GPT-2의 후속 모델로, 1750억 개의 매개변수를 가지고 있어 더욱 뛰어난 성능과 다양한 작업에 대한 능력을 제공합니다. GPT-3는 많은 애플리케이션에서 사용되고 있습니다.\n",
       "\n",
       "3. **GPT-3.5**: GPT-3의 개선된 버전으로, 더 나은 성능을 발휘하며 사용자 경험이 향상되었습니다.\n",
       "\n",
       "4. **GPT-4**: 최신 모델로, 이전 모델들보다 더 향상된 성능을 제공합니다. GPT-4는 다양한 맥락을 이해하고 복잡한 작업을 수행하는 데 강력합니다.\n",
       "\n",
       "이 외에도 특정 애플리케이션에 맞춘 다양한 모델이 있을 수 있습니다. OpenAI는 지속적으로 모델을 개선하고 새로운 버전을 개발하고 있습니다."
      ],
      "text/plain": [
       "<IPython.core.display.Markdown object>"
      ]
     },
     "execution_count": 8,
     "metadata": {},
     "output_type": "execute_result"
    }
   ],
   "source": [
    "from IPython.display import Markdown\n",
    "\n",
    "Markdown(response.choices[0].message.content)"
   ]
  },
  {
   "cell_type": "markdown",
   "id": "b04ec02d",
   "metadata": {},
   "source": [
    "### OpenAI API w/ Langchain\n",
    "\n",
    "* **ChatOpenAI**\n",
    "\n",
    "    * chat-based model\n",
    "\n",
    "    * default: gpt-3.5-turbo\n",
    "\n",
    "    * type of I/O : `Message`\n",
    "\n",
    "* **OpenAI**\n",
    "\n",
    "    * text completion model\n",
    "\n",
    "    * default: gpt-3.5-turbo-instruct\n",
    "    \n",
    "        * instruct model only\n",
    "\n",
    "    * type of I/O: `str`\n",
    "\n",
    "* Params of Initializer\n",
    "\n",
    "    * `temperature`\n",
    "\n",
    "        * 여기 수정하세용\n",
    "\n",
    "        * 0 ~ 2(float). The greater -> 여기도 수정하세용\n",
    "\n",
    "        * Large value for precise response 여기도\n",
    "\n",
    "    * `model_name`\n",
    "\n",
    "    * `max_tokens`: maximum number of output tokens \n",
    "\n",
    "    * `api_key`\n",
    "    \n",
    "        * when putting API Key directly\n",
    "\n",
    "        * if in environment variables, omit.\n",
    "\n",
    "* Method\n",
    "\n",
    "    * `invoce(message)`: return response of LLM"
   ]
  },
  {
   "cell_type": "markdown",
   "id": "8bcdddc2",
   "metadata": {},
   "source": []
  }
 ],
 "metadata": {
  "kernelspec": {
   "display_name": "lang_env",
   "language": "python",
   "name": "python3"
  },
  "language_info": {
   "codemirror_mode": {
    "name": "ipython",
    "version": 3
   },
   "file_extension": ".py",
   "mimetype": "text/x-python",
   "name": "python",
   "nbconvert_exporter": "python",
   "pygments_lexer": "ipython3",
   "version": "3.12.11"
  }
 },
 "nbformat": 4,
 "nbformat_minor": 5
}
