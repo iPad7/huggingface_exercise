{
 "cells": [
  {
   "cell_type": "markdown",
   "id": "1d3fecb9",
   "metadata": {},
   "source": [
    "# 2025.06.09. (MON)"
   ]
  },
  {
   "cell_type": "code",
   "execution_count": 27,
   "id": "ae09e2f1",
   "metadata": {},
   "outputs": [
    {
     "data": {
      "text/plain": [
       "True"
      ]
     },
     "execution_count": 27,
     "metadata": {},
     "output_type": "execute_result"
    }
   ],
   "source": [
    "from dotenv import load_dotenv\n",
    "\n",
    "load_dotenv()"
   ]
  },
  {
   "cell_type": "markdown",
   "id": "14dc97b6",
   "metadata": {},
   "source": [
    "## Prompt Template"
   ]
  },
  {
   "cell_type": "markdown",
   "id": "09e0e310",
   "metadata": {},
   "source": [
    "### Model I/O\n",
    "\n",
    "* Prompt Template\n",
    "\n",
    "* Language Model\n",
    "\n",
    "* Output Parser"
   ]
  },
  {
   "cell_type": "markdown",
   "id": "a19934d1",
   "metadata": {},
   "source": [
    "### Prompt\n",
    "\n",
    "* input value to let model do certain tasks\n",
    "\n",
    "* mainly by human language"
   ]
  },
  {
   "cell_type": "markdown",
   "id": "df40eec2",
   "metadata": {},
   "source": [
    "### Prompt Engineering\n",
    "\n",
    "* to design and optimize prompts to get the best result\n",
    "\n",
    "* for a constant and precise answer"
   ]
  },
  {
   "cell_type": "markdown",
   "id": "41f78f02",
   "metadata": {},
   "source": [
    "#### Components\n",
    "\n",
    "* Markdown code\n",
    "\n",
    "    * Instruction\n",
    "\n",
    "    * Context\n",
    "\n",
    "    * Input Data\n",
    "\n",
    "    * Output Indicator"
   ]
  },
  {
   "cell_type": "markdown",
   "id": "9de901a8",
   "metadata": {},
   "source": [
    "### Guide\n",
    "\n",
    "1. Clarity\n",
    "\n",
    "2. Specificity\n",
    "\n",
    "3. Conciseness\n",
    "\n",
    "4. Explicit Instruction\n",
    "\n",
    "5. Constraint Prompting\n",
    "\n",
    "6. Persona\n",
    "\n",
    "7. Step-by-Step Instruction\n",
    "\n",
    "8. Zero-shot, One-shot, Few-shot\n",
    "\n",
    "9. Open-ended questioning\n",
    "\n",
    "10. Providing Context\n",
    "\n",
    "11. Ethical Usage"
   ]
  },
  {
   "cell_type": "markdown",
   "id": "51c400ed",
   "metadata": {},
   "source": [
    "### Approaches"
   ]
  },
  {
   "cell_type": "markdown",
   "id": "9d8e5d87",
   "metadata": {},
   "source": [
    "#### CoT(Chain of Thought)\n",
    "\n",
    "* Step-by-step Logic\n",
    "\n",
    "* methods\n",
    "\n",
    "    * Zero-shot CoT: to put a phrase such as '단계적으로 풀어보자', '차근 차근 생각해보자', 'Think step by step' onto our prompts\n",
    "\n",
    "    * Few-shot CoT: to state each steps"
   ]
  },
  {
   "cell_type": "markdown",
   "id": "ca918a46",
   "metadata": {},
   "source": [
    "#### ToT(Tree of Thought)\n",
    "\n",
    "* Not a sequential, but a tree-like logic.\n",
    "\n",
    "* explore & evaluate for each branches.\n",
    "\n",
    "* on mathematical problem, creativity, strategic planning, coding"
   ]
  },
  {
   "cell_type": "markdown",
   "id": "7f2511c4",
   "metadata": {},
   "source": [
    "**References**\n",
    "\n",
    "* Langchain Hub\n",
    "\n",
    "* Promry\n",
    "\n",
    "* 오픈프롬프트\n",
    "\n",
    "* Prompt Hero"
   ]
  },
  {
   "cell_type": "code",
   "execution_count": 28,
   "id": "dc845d99",
   "metadata": {},
   "outputs": [
    {
     "name": "stdout",
     "output_type": "stream",
     "text": [
      "first\n",
      "second\n",
      "third\n"
     ]
    }
   ],
   "source": [
    "from textwrap import dedent, indent\n",
    "\n",
    "def test():\n",
    "    txt = dedent(\"\"\"\n",
    "    first\n",
    "    second\n",
    "    third             \n",
    "    \"\"\")\n",
    "    print(txt.strip())\n",
    "\n",
    "test()"
   ]
  },
  {
   "cell_type": "code",
   "execution_count": 29,
   "id": "8a9e4d66",
   "metadata": {},
   "outputs": [
    {
     "name": "stdout",
     "output_type": "stream",
     "text": [
      "    first\n",
      "    second\n",
      "    third\n"
     ]
    }
   ],
   "source": [
    "txt = \"first\\nsecond\\nthird\"\n",
    "txt = indent(txt, \" \" * 4)\n",
    "print(txt)"
   ]
  },
  {
   "cell_type": "markdown",
   "id": "6a38c519",
   "metadata": {},
   "source": [
    "### Prompt Template\n",
    "\n",
    "* Reusablility\n",
    "\n",
    "* Maintenance Intimacy\n",
    "\n",
    "* Automation Compatibility"
   ]
  },
  {
   "cell_type": "markdown",
   "id": "6edb9a6d",
   "metadata": {},
   "source": [
    "### Common Templates of Langchain\n",
    "\n",
    "* `PromptTemplate`: common format for instruction prompt\n",
    "    \n",
    "    * simple text formatting\n",
    "\n",
    "    * `{}` for variables\n",
    "\n",
    "* `ChatPromptTemplate`\n",
    "\n",
    "    * For chat model\n",
    "\n",
    "    * Various Roles of Speaker(e.g. System, User, AI, ect.)\n",
    "\n",
    "    * Features\n",
    "\n",
    "        * Role-based messages: goot at context-maintaining\n",
    "\n",
    "        * System Message(Order), User Messasge(Input), AI Message(LLM Response), etc.\n",
    "\n",
    "* `FewShotPromptTemplate`\n",
    "\n",
    "    * Few-shot Learning in prompt\n",
    "\n",
    "    ```python\n",
    "    from langchain.prompts import FewShotPromptTemplate, PromptTemplate\n",
    "\n",
    "    examples = [\n",
    "        {'input': '2+2', 'output': '4'},\n",
    "        {'input': '3+5', 'output': '8'}\n",
    "    ]\n",
    "    example_template = PromptTemplate(template='Q: {input}\\nA: {output}')\n",
    "    prompt = FewShotPromptTemplate(\n",
    "        examples = examples,\n",
    "        example_prompt = example_template,\n",
    "        prefix = 'Answer the following math questions:',\n",
    "        suffix = 'Q: {query}\\nA:'\n",
    "    )\n",
    "    prompt.invoke({\"query\":\"8+20\"})\n",
    "    ```\n",
    "\n",
    "    ```output\n",
    "    Answer the following math questions:\n",
    "\n",
    "    Q: 2+2\n",
    "    A: 4\n",
    "\n",
    "    Q: 3+5\n",
    "    A: 8\n",
    "\n",
    "    Q: 8+20\n",
    "    A:\n",
    "    ```"
   ]
  },
  {
   "cell_type": "code",
   "execution_count": 30,
   "id": "16a7c84c",
   "metadata": {},
   "outputs": [
    {
     "name": "stdout",
     "output_type": "stream",
     "text": [
      "Answer the following math questions:\n",
      "\n",
      "Q: 2+2\n",
      "A: 4\n",
      "\n",
      "Q: 3+5\n",
      "A: 8\n",
      "\n",
      "Q: 8+20\n",
      "A:\n"
     ]
    }
   ],
   "source": [
    "from langchain.prompts import FewShotPromptTemplate, PromptTemplate\n",
    "\n",
    "examples = [\n",
    "    {'input': '2+2', 'output': '4'},\n",
    "    {'input': '3+5', 'output': '8'}\n",
    "]\n",
    "example_template = PromptTemplate(template='Q: {input}\\nA: {output}')\n",
    "prompt = FewShotPromptTemplate(\n",
    "    examples = examples,\n",
    "    example_prompt = example_template,\n",
    "    prefix = 'Answer the following math questions:',\n",
    "    suffix = 'Q: {query}\\nA:'\n",
    ")\n",
    "print(prompt.invoke({\"query\":\"8+20\"}).text)"
   ]
  },
  {
   "cell_type": "markdown",
   "id": "a2e2d1f3",
   "metadata": {},
   "source": [
    "### How?\n",
    "\n",
    "* template: 'string'\n",
    "\n",
    "* variables: `{}`\n",
    "\n",
    "* `\"{country}의 수도는 어디인가요?\"`\n",
    "\n",
    "* to `PromptTemplate` Object"
   ]
  },
  {
   "cell_type": "markdown",
   "id": "e7f6425f",
   "metadata": {},
   "source": [
    "#### Common Methods\n",
    "\n",
    "* Template Generation:\n",
    "\n",
    "    * `from_template()`\n",
    "\n",
    "    * `from_messages()`\n",
    "\n",
    "* Prompt Generation:\n",
    "\n",
    "    * `format(variable = value, ...)`\n",
    "\n",
    "    * `format_messages(variable = value, ...)`\n",
    "\n",
    "    * `invoke(dict)`\n",
    "\n",
    "    > `invoke()`\n",
    "    >\n",
    "    > * a common method of `Runnable` class, which is the KEY class of Langchain.\n",
    "    >\n",
    "    > * `Runnable`: Superclass of other task classes composing Chain\n",
    "    >\n",
    "    > * `invoke()` -> result -> next chain"
   ]
  },
  {
   "cell_type": "code",
   "execution_count": 54,
   "id": "6b9b5780",
   "metadata": {},
   "outputs": [
    {
     "name": "stdout",
     "output_type": "stream",
     "text": [
      "input_variables=['country'] input_types={} partial_variables={} template='{country}의 수도는 어디인가요?'\n"
     ]
    }
   ],
   "source": [
    "from langchain.prompts import PromptTemplate, ChatPromptTemplate\n",
    "\n",
    "template = \"{country}의 수도는 어디인가요?\"\n",
    "prompt_template = PromptTemplate(\n",
    "    template = template,\n",
    "    # input_variables = ['country']    # able to omit after v 0.3\n",
    ")\n",
    "print(prompt_template)"
   ]
  },
  {
   "cell_type": "code",
   "execution_count": 55,
   "id": "76304047",
   "metadata": {},
   "outputs": [
    {
     "name": "stdout",
     "output_type": "stream",
     "text": [
      "대한민국의 수도는 어디인가요?\n",
      "미국의 수도는 어디인가요?\n",
      "중국의 수도는 어디인가요?\n"
     ]
    }
   ],
   "source": [
    "print(prompt_template.format(country = '대한민국'))\n",
    "print(prompt_template.format(country = '미국'))\n",
    "print(prompt_template.format(country = '중국'))"
   ]
  },
  {
   "cell_type": "code",
   "execution_count": 56,
   "id": "93243bdf",
   "metadata": {},
   "outputs": [
    {
     "data": {
      "text/plain": [
       "StringPromptValue(text='독일의 수도는 어디인가요?')"
      ]
     },
     "execution_count": 56,
     "metadata": {},
     "output_type": "execute_result"
    }
   ],
   "source": [
    "prompt_template.invoke({'country':'독일'})\n",
    "# prompt_template.invoke({'country':'독일'}).text"
   ]
  },
  {
   "cell_type": "code",
   "execution_count": 57,
   "id": "ff81fa51",
   "metadata": {},
   "outputs": [
    {
     "name": "stdout",
     "output_type": "stream",
     "text": [
      "대한민국의 수도는 서울입니다.\n"
     ]
    }
   ],
   "source": [
    "from langchain_openai import ChatOpenAI\n",
    "\n",
    "prompt = prompt_template.invoke({'country':'대한민국'})\n",
    "model = ChatOpenAI(model = 'gpt-4o-mini')\n",
    "result = model.invoke(prompt)\n",
    "print(result.content)"
   ]
  },
  {
   "cell_type": "code",
   "execution_count": 58,
   "id": "15b148f8",
   "metadata": {},
   "outputs": [],
   "source": [
    "# ChatPromptTemplate\n",
    "# 1. (\"role\", \"content\") -> (\"user\", \"한국의 수도는 어디야?\")\n",
    "# 2. Message Object: managing messages of every roles\n",
    "#         L HumanMessage, AIMessage, SystemMessage\n",
    "#         L HumanMessage(\"한국의 수도는 어디야?\")"
   ]
  },
  {
   "cell_type": "code",
   "execution_count": 64,
   "id": "c523f571",
   "metadata": {},
   "outputs": [
    {
     "name": "stdout",
     "output_type": "stream",
     "text": [
      "input_variables=['domain', 'length', 'query'] input_types={} partial_variables={} messages=[SystemMessagePromptTemplate(prompt=PromptTemplate(input_variables=['domain', 'length'], input_types={}, partial_variables={}, template='당신은 {domain} 전문가입니다. 답변은 {length}글자 이하로 해주세요.'), additional_kwargs={}), HumanMessagePromptTemplate(prompt=PromptTemplate(input_variables=['query'], input_types={}, partial_variables={}, template='{query}'), additional_kwargs={})]\n",
      "[SystemMessage(content='당신은 AI 전문가입니다. 답변은 10글자 이하로 해주세요.', additional_kwargs={}, response_metadata={}), HumanMessage(content='LLM의 3가지 특징을 정리해주세요.', additional_kwargs={}, response_metadata={})]\n"
     ]
    }
   ],
   "source": [
    "template = [\n",
    "    ('system', '당신은 {domain} 전문가입니다. 답변은 {length}글자 이하로 해주세요.'),\n",
    "    (\"user\", \"{query}\")\n",
    "]\n",
    "\n",
    "prompt_template = ChatPromptTemplate(messages = template)\n",
    "print(prompt_template)\n",
    "\n",
    "prompt = prompt_template.format_messages(domain = 'AI', length = 10, query = 'LLM의 3가지 특징을 정리해주세요.')\n",
    "print(prompt)\n",
    "response = model.invoke(prompt)"
   ]
  },
  {
   "cell_type": "code",
   "execution_count": 65,
   "id": "cfe46f18",
   "metadata": {},
   "outputs": [
    {
     "data": {
      "text/plain": [
       "AIMessage(content='대규모, 고유연성, 맥락 이해', additional_kwargs={'refusal': None}, response_metadata={'token_usage': {'completion_tokens': 13, 'prompt_tokens': 42, 'total_tokens': 55, 'completion_tokens_details': {'accepted_prediction_tokens': 0, 'audio_tokens': 0, 'reasoning_tokens': 0, 'rejected_prediction_tokens': 0}, 'prompt_tokens_details': {'audio_tokens': 0, 'cached_tokens': 0}}, 'model_name': 'gpt-4o-mini-2024-07-18', 'system_fingerprint': 'fp_34a54ae93c', 'id': 'chatcmpl-BgSx3PYpJXAb0mll9bjYgsGyg4Jls', 'service_tier': 'default', 'finish_reason': 'stop', 'logprobs': None}, id='run--5bcc0303-679b-424e-90e2-978a1bf6c9fb-0', usage_metadata={'input_tokens': 42, 'output_tokens': 13, 'total_tokens': 55, 'input_token_details': {'audio': 0, 'cache_read': 0}, 'output_token_details': {'audio': 0, 'reasoning': 0}})"
      ]
     },
     "execution_count": 65,
     "metadata": {},
     "output_type": "execute_result"
    }
   ],
   "source": [
    "response"
   ]
  },
  {
   "cell_type": "code",
   "execution_count": 66,
   "id": "26989231",
   "metadata": {},
   "outputs": [],
   "source": [
    "prompt = prompt_template.invoke(\n",
    "    {\"domain\":\"요리\",\n",
    "     \"length\":50,\n",
    "     \"query\": \"와인에 어울리는 요리를 세 가지 추천해주세요.\"}\n",
    ")\n",
    "response = model.invoke(prompt)"
   ]
  },
  {
   "cell_type": "code",
   "execution_count": 67,
   "id": "8703dcc6",
   "metadata": {},
   "outputs": [
    {
     "name": "stdout",
     "output_type": "stream",
     "text": [
      "1. 크림 리소토  \n",
      "2. 양갈비 스테이크  \n",
      "3. 해산물 파스타\n"
     ]
    }
   ],
   "source": [
    "print(response.content)"
   ]
  },
  {
   "cell_type": "markdown",
   "id": "6232566c",
   "metadata": {},
   "source": [
    "### Message Placeholder\n",
    "\n",
    "* Locating Multiple Messages\n",
    "\n",
    "* **Initializer**\n",
    "\n",
    "    * variable_name: str\n",
    "\n",
    "    * optional: bool = False\n",
    "\n",
    "    * n_messages: int"
   ]
  },
  {
   "cell_type": "code",
   "execution_count": 70,
   "id": "e9979609",
   "metadata": {},
   "outputs": [],
   "source": [
    "from langchain.prompts import ChatPromptTemplate, MessagesPlaceholder\n",
    "template = [\n",
    "    ('system', \"당신은 수학 전문가입니다.\"),\n",
    "    MessagesPlaceholder(variable_name = 'history', optional = True),\n",
    "    (\"human\", \"{query}\")\n",
    "]\n",
    "prompt_template = ChatPromptTemplate(template)\n",
    "\n",
    "chat_history = [\n",
    "    (\"human\", \"1 + 2의 결과는?\"),\n",
    "    (\"ai\", \"1 + 2 = 3\"),\n",
    "    (\"human\", \"7 + 5의 결과는?\"),\n",
    "    (\"ai\", \"7 + 5 = 12\")\n",
    "]\n",
    "\n",
    "prompt = prompt_template.invoke({\n",
    "    \"history\":chat_history,\n",
    "    \"query\": \"위 최종 결과에 4제곱하면 얼마인가요?\"\n",
    "})\n",
    "\n",
    "response = model.invoke(prompt)"
   ]
  },
  {
   "cell_type": "code",
   "execution_count": 71,
   "id": "8ec4e45c",
   "metadata": {},
   "outputs": [
    {
     "name": "stdout",
     "output_type": "stream",
     "text": [
      "12의 4제곱은 12^4 = 20736입니다.\n"
     ]
    }
   ],
   "source": [
    "print(response.content)"
   ]
  },
  {
   "cell_type": "code",
   "execution_count": 72,
   "id": "50104830",
   "metadata": {},
   "outputs": [
    {
     "data": {
      "text/plain": [
       "20736"
      ]
     },
     "execution_count": 72,
     "metadata": {},
     "output_type": "execute_result"
    }
   ],
   "source": [
    "12 ** 4"
   ]
  },
  {
   "cell_type": "code",
   "execution_count": 74,
   "id": "8f40f54a",
   "metadata": {},
   "outputs": [
    {
     "data": {
      "text/plain": [
       "AIMessage(content='12의 4제곱은 \\\\( 12^4 \\\\)로 계산할 수 있습니다.\\n\\n\\\\( 12^4 = 12 \\\\times 12 \\\\times 12 \\\\times 12 = 20736 \\\\)\\n\\n따라서 결과는 20736입니다.', additional_kwargs={'refusal': None}, response_metadata={'token_usage': {'completion_tokens': 57, 'prompt_tokens': 80, 'total_tokens': 137, 'completion_tokens_details': {'accepted_prediction_tokens': 0, 'audio_tokens': 0, 'reasoning_tokens': 0, 'rejected_prediction_tokens': 0}, 'prompt_tokens_details': {'audio_tokens': 0, 'cached_tokens': 0}}, 'model_name': 'gpt-4o-mini-2024-07-18', 'system_fingerprint': 'fp_34a54ae93c', 'id': 'chatcmpl-BgT6rtW7gl78X6qk6tSValOP6BEY5', 'service_tier': 'default', 'finish_reason': 'stop', 'logprobs': None}, id='run--80e7faed-80d7-46b6-9461-72abc4cda854-0', usage_metadata={'input_tokens': 80, 'output_tokens': 57, 'total_tokens': 137, 'input_token_details': {'audio': 0, 'cache_read': 0}, 'output_token_details': {'audio': 0, 'reasoning': 0}})"
      ]
     },
     "execution_count": 74,
     "metadata": {},
     "output_type": "execute_result"
    }
   ],
   "source": [
    "# Chain\n",
    "chain = prompt_template | model\n",
    "chain.invoke({\n",
    "    \"history\":chat_history,\n",
    "    \"query\": \"위 최종 결과에 4제곱하면 얼마인가요?\"\n",
    "})"
   ]
  },
  {
   "cell_type": "markdown",
   "id": "10851a08",
   "metadata": {},
   "source": [
    "## Output Parser\n",
    "\n",
    ": to convert Output to appropriate(structurized) format for our App."
   ]
  },
  {
   "cell_type": "markdown",
   "id": "3e409f6b",
   "metadata": {},
   "source": [
    "### Types\n",
    "\n",
    "1. CommaSeperatedListOutputParser\n",
    "\n",
    "* \"Apple, Banana, \"Grape\" -> [\"Apple\", \"Banana\", \"Grape\"]\n",
    "\n",
    "2. JsonOutputParser\n",
    "\n",
    "* `JSON` to Python `dict`\n",
    "\n",
    "3. PydanticOutputParser\n",
    "\n",
    "* `JSON` to Python `Pydantic` model\n",
    "\n",
    "* widely used data validation library for Python\n",
    "\n",
    "4. StrOutputParser\n",
    "\n",
    "* just to string-type data"
   ]
  },
  {
   "cell_type": "markdown",
   "id": "7bc5e904",
   "metadata": {},
   "source": [
    "### Methods\n",
    "\n",
    "* `parse(text: str)`\n",
    "\n",
    "* `get_format_instructions() -> str`"
   ]
  },
  {
   "cell_type": "markdown",
   "id": "f5aaefd0",
   "metadata": {},
   "source": [
    "#### cf. `invoke()`"
   ]
  },
  {
   "cell_type": "markdown",
   "id": "ff00693a",
   "metadata": {},
   "source": [
    "#### StrOutputParser"
   ]
  },
  {
   "cell_type": "code",
   "execution_count": 34,
   "id": "ccf0cd39",
   "metadata": {},
   "outputs": [],
   "source": [
    "from langchain.prompts import ChatPromptTemplate\n",
    "from langchain_openai import ChatOpenAI\n",
    "from langchain_core.output_parsers import StrOutputParser\n",
    "\n",
    "prompt_template = ChatPromptTemplate.from_template(\n",
    "    \"한국의 {topic} 관련된 속담을 {count}개 알려줘.\"\n",
    ")\n",
    "prompt = prompt_template.format(topic = '호랑이', count = 2)\n",
    "# prompt = prompt_template.invoke({\"topic\":\"호랑이\", \"count\":2})\n",
    "prompt\n",
    "\n",
    "\n",
    "model = ChatOpenAI(model = 'gpt-4o-mini')\n",
    "response = model.invoke(prompt)"
   ]
  },
  {
   "cell_type": "code",
   "execution_count": 35,
   "id": "efde321f",
   "metadata": {},
   "outputs": [
    {
     "data": {
      "text/plain": [
       "AIMessage(content='한국의 호랑이와 관련된 속담 중 두 가지는 다음과 같습니다:\\n\\n1. **\"호랑이 굴에 가야 호랑이를 잡는다.\"**  \\n   이 속담은 목표를 이루기 위해서는 그 목표에 직접 나서야 한다는 뜻입니다. 즉, 위험을 감수해야 성과를 얻을 수 있다는 의미입니다.\\n\\n2. **\"호랑이보다 무서운 것이 없다.\"**  \\n   이 속담은 어떤 상황에서 호랑이보다 더 위협적이거나 힘든 것이 없다는 뜻으로, 특히 괴로운 상황이나 두려운 일을 비유적으로 표현할 때 사용됩니다.\\n\\n이 속담들은 호랑이를 통해 인간의 삶의 이치나 감정 등을 전달하고 있습니다.', additional_kwargs={'refusal': None}, response_metadata={'token_usage': {'completion_tokens': 161, 'prompt_tokens': 25, 'total_tokens': 186, 'completion_tokens_details': {'accepted_prediction_tokens': 0, 'audio_tokens': 0, 'reasoning_tokens': 0, 'rejected_prediction_tokens': 0}, 'prompt_tokens_details': {'audio_tokens': 0, 'cached_tokens': 0}}, 'model_name': 'gpt-4o-mini-2024-07-18', 'system_fingerprint': 'fp_34a54ae93c', 'id': 'chatcmpl-BgSo71lnY1gzZeew0r5QJLZPXBzdI', 'service_tier': 'default', 'finish_reason': 'stop', 'logprobs': None}, id='run--12686fb6-fc19-4fe6-b37d-3723c0725b63-0', usage_metadata={'input_tokens': 25, 'output_tokens': 161, 'total_tokens': 186, 'input_token_details': {'audio': 0, 'cache_read': 0}, 'output_token_details': {'audio': 0, 'reasoning': 0}})"
      ]
     },
     "execution_count": 35,
     "metadata": {},
     "output_type": "execute_result"
    }
   ],
   "source": [
    "response"
   ]
  },
  {
   "cell_type": "code",
   "execution_count": 36,
   "id": "d4c9dfc7",
   "metadata": {},
   "outputs": [
    {
     "name": "stdout",
     "output_type": "stream",
     "text": [
      "{'token_usage': {'completion_tokens': 161, 'prompt_tokens': 25, 'total_tokens': 186, 'completion_tokens_details': {'accepted_prediction_tokens': 0, 'audio_tokens': 0, 'reasoning_tokens': 0, 'rejected_prediction_tokens': 0}, 'prompt_tokens_details': {'audio_tokens': 0, 'cached_tokens': 0}}, 'model_name': 'gpt-4o-mini-2024-07-18', 'system_fingerprint': 'fp_34a54ae93c', 'id': 'chatcmpl-BgSo71lnY1gzZeew0r5QJLZPXBzdI', 'service_tier': 'default', 'finish_reason': 'stop', 'logprobs': None}\n",
      "한국의 호랑이와 관련된 속담 중 두 가지는 다음과 같습니다:\n",
      "\n",
      "1. **\"호랑이 굴에 가야 호랑이를 잡는다.\"**  \n",
      "   이 속담은 목표를 이루기 위해서는 그 목표에 직접 나서야 한다는 뜻입니다. 즉, 위험을 감수해야 성과를 얻을 수 있다는 의미입니다.\n",
      "\n",
      "2. **\"호랑이보다 무서운 것이 없다.\"**  \n",
      "   이 속담은 어떤 상황에서 호랑이보다 더 위협적이거나 힘든 것이 없다는 뜻으로, 특히 괴로운 상황이나 두려운 일을 비유적으로 표현할 때 사용됩니다.\n",
      "\n",
      "이 속담들은 호랑이를 통해 인간의 삶의 이치나 감정 등을 전달하고 있습니다.\n"
     ]
    }
   ],
   "source": [
    "print(response.response_metadata)\n",
    "print(response.content)"
   ]
  },
  {
   "cell_type": "code",
   "execution_count": 37,
   "id": "d793c82a",
   "metadata": {},
   "outputs": [
    {
     "name": "stdout",
     "output_type": "stream",
     "text": [
      "한국의 호랑이와 관련된 속담 중 두 가지는 다음과 같습니다:\n",
      "\n",
      "1. **\"호랑이 굴에 가야 호랑이를 잡는다.\"**  \n",
      "   이 속담은 목표를 이루기 위해서는 그 목표에 직접 나서야 한다는 뜻입니다. 즉, 위험을 감수해야 성과를 얻을 수 있다는 의미입니다.\n",
      "\n",
      "2. **\"호랑이보다 무서운 것이 없다.\"**  \n",
      "   이 속담은 어떤 상황에서 호랑이보다 더 위협적이거나 힘든 것이 없다는 뜻으로, 특히 괴로운 상황이나 두려운 일을 비유적으로 표현할 때 사용됩니다.\n",
      "\n",
      "이 속담들은 호랑이를 통해 인간의 삶의 이치나 감정 등을 전달하고 있습니다.\n"
     ]
    }
   ],
   "source": [
    "parser = StrOutputParser()\n",
    "res = parser.invoke(response)\n",
    "print(res)"
   ]
  },
  {
   "cell_type": "code",
   "execution_count": 38,
   "id": "4adcd877",
   "metadata": {},
   "outputs": [
    {
     "name": "stdout",
     "output_type": "stream",
     "text": [
      "한국의 정신력과 관련된 속담은 다음과 같습니다:\n",
      "\n",
      "1. **\"바늘 도둑이 소 도둑 된다.\"**  \n",
      "   - 작은 잘못을 가볍게 여기면 큰 잘못으로 이어질 수 있다는 의미로, 작은 실패에도 굴하지 않고 꾸준히 노력해야 한다는 교훈을 줍니다.\n",
      "\n",
      "2. **\"시작이 반이다.\"**  \n",
      "   - 어떤 일을 시작하는 것이 그 일의 절반이라는 의미로, 실행에 옮기는 것이 중요함을 강조합니다. 정신력을 발휘해 일단 시작하는 것이 중요합니다.\n",
      "\n",
      "3. **\"고생 끝에 낙이 온다.\"**  \n",
      "   - 힘든 과정을 겪은 후에야 좋은 결과가 온다는 의미로, 인내와 노력의 중요성을 강조합니다. 힘든 상황에서도 포기하지 않고 버티는 정신력을 배울 수 있습니다.\n",
      "\n",
      "이 속담들은 어려운 시기를 이겨내고, 정신적으로 강해지기 위한 중요한 교훈을 담고 있습니다.\n"
     ]
    }
   ],
   "source": [
    "# What is the difference between response.content and parser.invoke(response)?\n",
    "# Critical when chaining\n",
    "\n",
    "# prompt_template -> model -> parser\n",
    "chain = prompt_template | model | parser\n",
    "res = chain.invoke({\"topic\":\"사람의 정신력\", \"count\":3})\n",
    "print(res)\n",
    "\n",
    "# what if below:\n",
    "# chain = prompt_template | model\n",
    "# res = chain.invoke({\"topic\":\"사람의 정신력\", \"count\":3})\n",
    "# print(res)"
   ]
  },
  {
   "cell_type": "markdown",
   "id": "d99368a9",
   "metadata": {},
   "source": [
    "#### CommaSeparatedListOutputParser"
   ]
  },
  {
   "cell_type": "code",
   "execution_count": 39,
   "id": "84789601",
   "metadata": {},
   "outputs": [
    {
     "name": "stdout",
     "output_type": "stream",
     "text": [
      "['사과', '배', '귤수박', '오렌지']\n"
     ]
    }
   ],
   "source": [
    "from langchain_core.output_parsers import CommaSeparatedListOutputParser\n",
    "\n",
    "parser = CommaSeparatedListOutputParser()\n",
    "res_txt = '사과, 배, 귤수박, 오렌지'\n",
    "print(parser.invoke(res_txt))"
   ]
  },
  {
   "cell_type": "code",
   "execution_count": 40,
   "id": "40c64b2e",
   "metadata": {},
   "outputs": [
    {
     "name": "stdout",
     "output_type": "stream",
     "text": [
      "Your response should be a list of comma separated values, eg: `foo, bar, baz` or `foo,bar,baz`\n"
     ]
    }
   ],
   "source": [
    "# Output format preset\n",
    "format_string = parser.get_format_instructions()\n",
    "print(format_string)"
   ]
  },
  {
   "cell_type": "code",
   "execution_count": 41,
   "id": "1f0ac98a",
   "metadata": {},
   "outputs": [
    {
     "data": {
      "text/plain": [
       "AIMessage(content='고양이, 개, 소, 말, 토끼', additional_kwargs={'refusal': None}, response_metadata={'token_usage': {'completion_tokens': 12, 'prompt_tokens': 58, 'total_tokens': 70, 'completion_tokens_details': {'accepted_prediction_tokens': 0, 'audio_tokens': 0, 'reasoning_tokens': 0, 'rejected_prediction_tokens': 0}, 'prompt_tokens_details': {'audio_tokens': 0, 'cached_tokens': 0}}, 'model_name': 'gpt-4o-mini-2024-07-18', 'system_fingerprint': 'fp_34a54ae93c', 'id': 'chatcmpl-BgSoFzhTRIxZ5RAFePzHh0Dn6Gp7A', 'service_tier': 'default', 'finish_reason': 'stop', 'logprobs': None}, id='run--ad8ff8a6-ac5e-46c1-a9df-c57cc021bbba-0', usage_metadata={'input_tokens': 58, 'output_tokens': 12, 'total_tokens': 70, 'input_token_details': {'audio': 0, 'cache_read': 0}, 'output_token_details': {'audio': 0, 'reasoning': 0}})"
      ]
     },
     "execution_count": 41,
     "metadata": {},
     "output_type": "execute_result"
    }
   ],
   "source": [
    "from textwrap import dedent\n",
    "prompt_template = ChatPromptTemplate.from_template(\n",
    "    dedent(\"\"\"\n",
    "    # instruction\n",
    "    {subject}의 이름 다섯 개를 나열해주세요.\n",
    "\n",
    "    # output indicator\n",
    "    {format_instructions}\n",
    "    # \"\"\"),\n",
    "    partial_variables = {'format_instructions' : parser.get_format_instructions()}\n",
    "    # to initialize placeholder value when creating PromptTemplate object.\n",
    "    # when we get values by calling functions or methods.\n",
    ")\n",
    "\n",
    "model = ChatOpenAI(model = 'gpt-4o-mini')\n",
    "prompt = prompt_template.invoke({'subject':'동물'})\n",
    "response = model.invoke(prompt)\n",
    "response"
   ]
  },
  {
   "cell_type": "code",
   "execution_count": 42,
   "id": "6fbc48c6",
   "metadata": {},
   "outputs": [
    {
     "name": "stdout",
     "output_type": "stream",
     "text": [
      "고양이, 개, 소, 말, 토끼\n"
     ]
    }
   ],
   "source": [
    "print(response.content)"
   ]
  },
  {
   "cell_type": "code",
   "execution_count": 43,
   "id": "5b57b45f",
   "metadata": {},
   "outputs": [
    {
     "name": "stdout",
     "output_type": "stream",
     "text": [
      "<class 'list'>\n",
      "['고양이', '개', '소', '말', '토끼']\n"
     ]
    }
   ],
   "source": [
    "res = parser.invoke(response)\n",
    "print(type(res))\n",
    "print(res)"
   ]
  },
  {
   "cell_type": "code",
   "execution_count": 44,
   "id": "67017c5a",
   "metadata": {},
   "outputs": [
    {
     "data": {
      "text/plain": [
       "['고양이', ' 개', ' 소', ' 말', ' 토끼']"
      ]
     },
     "execution_count": 44,
     "metadata": {},
     "output_type": "execute_result"
    }
   ],
   "source": [
    "response.content.split(',')"
   ]
  },
  {
   "cell_type": "code",
   "execution_count": 45,
   "id": "766abadc",
   "metadata": {},
   "outputs": [
    {
     "name": "stdout",
     "output_type": "stream",
     "text": [
      "['현대 아반떼', '기아 K5', 'BMW 3시리즈', '테슬라 모델 S', '토요타 캠리']\n"
     ]
    }
   ],
   "source": [
    "# chaining\n",
    "chain = prompt_template | model | parser\n",
    "\n",
    "res = chain.invoke({\"subject\" : \"자동차\"})\n",
    "print(res)"
   ]
  },
  {
   "cell_type": "markdown",
   "id": "2c343f21",
   "metadata": {},
   "source": [
    "#### JsonOutputParser"
   ]
  },
  {
   "cell_type": "code",
   "execution_count": 46,
   "id": "9aa82a75",
   "metadata": {},
   "outputs": [
    {
     "name": "stdout",
     "output_type": "stream",
     "text": [
      "<class 'dict'>\n"
     ]
    },
    {
     "data": {
      "text/plain": [
       "('홍길동', '서울')"
      ]
     },
     "execution_count": 46,
     "metadata": {},
     "output_type": "execute_result"
    }
   ],
   "source": [
    "from langchain_core.output_parsers import JsonOutputParser\n",
    "\n",
    "parser = JsonOutputParser()\n",
    "res_text = \"\"\"\n",
    "{\n",
    "    \"name\":\"홍길동\",\n",
    "    \"age\":20,\n",
    "    \"address\":\"서울\",\n",
    "    \"hobby\":[\"독서\", \"게임\"]\n",
    "}\n",
    "\"\"\"\n",
    "res_dict = parser.invoke(res_text)\n",
    "print(type(res_dict))\n",
    "res_dict\n",
    "res_dict['name'], res_dict['address']"
   ]
  },
  {
   "cell_type": "code",
   "execution_count": 47,
   "id": "de048c5e",
   "metadata": {},
   "outputs": [
    {
     "data": {
      "text/plain": [
       "'Return a JSON object.'"
      ]
     },
     "execution_count": 47,
     "metadata": {},
     "output_type": "execute_result"
    }
   ],
   "source": [
    "parser.get_format_instructions()"
   ]
  },
  {
   "cell_type": "code",
   "execution_count": 48,
   "id": "2b5e92e7",
   "metadata": {},
   "outputs": [],
   "source": [
    "prompt_template = ChatPromptTemplate.from_template(\n",
    "    \"{name}에 대해 설명해줘.\\n{format_instructions}\",\n",
    "    partial_variables = {'format_instructions':parser.get_format_instructions()}\n",
    ")\n",
    "model = ChatOpenAI(model = 'gpt-4o-mini')\n",
    "prompt = prompt_template.invoke({\"name\":\"아이폰\"})\n",
    "res = model.invoke(prompt)"
   ]
  },
  {
   "cell_type": "code",
   "execution_count": 49,
   "id": "4b43bae3",
   "metadata": {},
   "outputs": [
    {
     "name": "stdout",
     "output_type": "stream",
     "text": [
      "```json\n",
      "{\n",
      "  \"아이폰\": {\n",
      "    \"설명\": \"아이폰은 Apple Inc.에서 개발한 스마트폰으로, iOS 운영 체제를 기반으로 합니다. 기본적으로 전화 기능 외에도 인터넷 탐색, 사진 촬영, 비디오 녹화, 음악 감상 등 다양한 기능을 제공합니다.\",\n",
      "    \"출시연도\": 2007,\n",
      "    \"주요특징\": {\n",
      "      \"디자인\": \"세련된 디자인과 고급스러운 소재 사용\",\n",
      "      \"운영체제\": \"iOS, 정기적인 업데이트 및 보안 패치 제공\",\n",
      "      \"앱생태계\": \"App Store를 통해 수백만 개의 애플리케이션 이용 가능\",\n",
      "      \"카메라\": \"고품질 사진 및 동영상 촬영 기능\",\n",
      "      \"보안\": \"Face ID, Touch ID 등 생체 인식 기술 도입\"\n",
      "    },\n",
      "    \"모델\": [\n",
      "      {\n",
      "        \"이름\": \"아이폰 14\",\n",
      "        \"출시연도\": 2022\n",
      "      },\n",
      "      {\n",
      "        \"이름\": \"아이폰 13\",\n",
      "        \"출시연도\": 2021\n",
      "      },\n",
      "      {\n",
      "        \"이름\": \"아이폰 12\",\n",
      "        \"출시연도\": 2020\n",
      "      }\n",
      "    ],\n",
      "    \"경쟁사\": [\"삼성\", \"구글\", \"화웨이\"]\n",
      "  }\n",
      "}\n",
      "```\n"
     ]
    }
   ],
   "source": [
    "print(res.content)"
   ]
  },
  {
   "cell_type": "code",
   "execution_count": 50,
   "id": "3470cd44",
   "metadata": {},
   "outputs": [
    {
     "name": "stdout",
     "output_type": "stream",
     "text": [
      "<class 'str'> <class 'dict'>\n"
     ]
    },
    {
     "ename": "KeyError",
     "evalue": "'모델'",
     "output_type": "error",
     "traceback": [
      "\u001b[31m---------------------------------------------------------------------------\u001b[39m",
      "\u001b[31mKeyError\u001b[39m                                  Traceback (most recent call last)",
      "\u001b[36mCell\u001b[39m\u001b[36m \u001b[39m\u001b[32mIn[50]\u001b[39m\u001b[32m, line 3\u001b[39m\n\u001b[32m      1\u001b[39m res_dict = parser.invoke(res)\n\u001b[32m      2\u001b[39m \u001b[38;5;28mprint\u001b[39m(\u001b[38;5;28mtype\u001b[39m(res.content), \u001b[38;5;28mtype\u001b[39m(res_dict))\n\u001b[32m----> \u001b[39m\u001b[32m3\u001b[39m \u001b[43mres_dict\u001b[49m\u001b[43m[\u001b[49m\u001b[33;43m'\u001b[39;49m\u001b[33;43m모델\u001b[39;49m\u001b[33;43m'\u001b[39;49m\u001b[43m]\u001b[49m[:\u001b[32m3\u001b[39m]\n",
      "\u001b[31mKeyError\u001b[39m: '모델'"
     ]
    }
   ],
   "source": [
    "res_dict = parser.invoke(res)\n",
    "print(type(res.content), type(res_dict))\n",
    "res_dict['모델'][:3]"
   ]
  },
  {
   "cell_type": "code",
   "execution_count": null,
   "id": "fe9caf6b",
   "metadata": {},
   "outputs": [
    {
     "name": "stdout",
     "output_type": "stream",
     "text": [
      "```json\n",
      "{\n",
      "  \"brand\": \"제네시스\",\n",
      "  \"description\": \"제네시스는 현대자동차의 프리미엄 자동차 브랜드로, 2015년에 독립 브랜드로 출범했습니다. 고급스러운 디자인과 첨단 기술을 바탕으로 한 다양한 차량을 제공합니다.\",\n",
      "  \"key_features\": [\n",
      "    \"고급스러운 인테리어 및 외관 디자인\",\n",
      "    \"첨단 안전 기술 및 운전 보조 시스템\",\n",
      "    \"강력한 성능의 엔진 옵션\",\n",
      "    \"최신 인포테인먼트 시스템\"\n",
      "  ],\n",
      "  \"model_range\": [\n",
      "    {\n",
      "      \"name\": \"G70\",\n",
      "      \"type\": \"세단\",\n",
      "      \"features\": \"스포츠 주행 성능과 고급스러운 내부 공간\"\n",
      "    },\n",
      "    {\n",
      "      \"name\": \"G80\",\n",
      "      \"type\": \"세단\",\n",
      "      \"features\": \"프리미엄 세단으로 고급스러운 편안함 제공\"\n",
      "    },\n",
      "    {\n",
      "      \"name\": \"G90\",\n",
      "      \"type\": \"플래그십 세단\",\n",
      "      \"features\": \"최고급 사양과 최신 기술이 적용된 모델\"\n",
      "    },\n",
      "    {\n",
      "      \"name\": \"GV70\",\n",
      "      \"type\": \"SUV\",\n",
      "      \"features\": \"스포티한 디자인과 실용성을 갖춘 중형 SUV\"\n",
      "    },\n",
      "    {\n",
      "      \"name\": \"GV80\",\n",
      "      \"type\": \"SUV\",\n",
      "      \"features\": \"럭셔리 대형 SUV로 가족 및 장거리 여행에 적합\"\n",
      "    }\n",
      "  ],\n",
      "  \"mission\": \"제네시스는 고급 자동차 시장에서 고객에게 우수한 품질과 만족도를 제공하는 것을 목표로 하고 있습니다.\"\n",
      "}\n",
      "```\n"
     ]
    }
   ],
   "source": [
    "prompt_template = ChatPromptTemplate.from_template(\n",
    "    \"{name}에 대해 설명해줘.\\n{format_instructions}\",\n",
    "    partial_variables = {'format_instructions':parser.get_format_instructions()}\n",
    ")\n",
    "model = ChatOpenAI(model = 'gpt-4o-mini')\n",
    "prompt = prompt_template.invoke({\"name\":\"제네시스\"})\n",
    "res = model.invoke(prompt)\n",
    "print(res.content)"
   ]
  },
  {
   "cell_type": "code",
   "execution_count": null,
   "id": "2aeb7459",
   "metadata": {},
   "outputs": [],
   "source": [
    "# catecory might be changed every time we run."
   ]
  },
  {
   "cell_type": "code",
   "execution_count": null,
   "id": "60d3147e",
   "metadata": {},
   "outputs": [],
   "source": [
    "from pydantic import BaseModel, Field\n",
    "\n",
    "class ItemSchema(BaseModel):\n",
    "    name: str = Field(description = \"제품의 이름\")\n",
    "    info: str = Field(description = \"제품에 대한 정보\")\n",
    "    release_date: str = Field(description = \"제품이 출시된 일시. yyyy-mm-dd 형시\")\n",
    "    price: int = Field(description = \"제품의 한국 발매 가격\")"
   ]
  },
  {
   "cell_type": "code",
   "execution_count": null,
   "id": "e1ec3ca4",
   "metadata": {},
   "outputs": [
    {
     "name": "stdout",
     "output_type": "stream",
     "text": [
      "The output should be formatted as a JSON instance that conforms to the JSON schema below.\n",
      "\n",
      "As an example, for the schema {\"properties\": {\"foo\": {\"title\": \"Foo\", \"description\": \"a list of strings\", \"type\": \"array\", \"items\": {\"type\": \"string\"}}}, \"required\": [\"foo\"]}\n",
      "the object {\"foo\": [\"bar\", \"baz\"]} is a well-formatted instance of the schema. The object {\"properties\": {\"foo\": [\"bar\", \"baz\"]}} is not well-formatted.\n",
      "\n",
      "Here is the output schema:\n",
      "```\n",
      "{\"properties\": {\"name\": {\"description\": \"제품의 이름\", \"title\": \"Name\", \"type\": \"string\"}, \"info\": {\"description\": \"제품에 대한 정보\", \"title\": \"Info\", \"type\": \"string\"}, \"release_date\": {\"description\": \"제품이 출시된 일시. yyyy-mm-dd 형시\", \"title\": \"Release Date\", \"type\": \"string\"}, \"price\": {\"description\": \"제품의 한국 발매 가격\", \"title\": \"Price\", \"type\": \"integer\"}}, \"required\": [\"name\", \"info\", \"release_date\", \"price\"]}\n",
      "```\n"
     ]
    }
   ],
   "source": [
    "parser = JsonOutputParser(pydantic_object = ItemSchema)\n",
    "print(parser.get_format_instructions())"
   ]
  },
  {
   "cell_type": "code",
   "execution_count": null,
   "id": "2e8f8471",
   "metadata": {},
   "outputs": [
    {
     "name": "stdout",
     "output_type": "stream",
     "text": [
      "\n",
      "# Instruction\n",
      "Galaxy 핸드폰에 대해 설명해주세요.\n",
      "# Output Indicator\n",
      "The output should be formatted as a JSON instance that conforms to the JSON schema below.\n",
      "\n",
      "As an example, for the schema {\"properties\": {\"foo\": {\"title\": \"Foo\", \"description\": \"a list of strings\", \"type\": \"array\", \"items\": {\"type\": \"string\"}}}, \"required\": [\"foo\"]}\n",
      "the object {\"foo\": [\"bar\", \"baz\"]} is a well-formatted instance of the schema. The object {\"properties\": {\"foo\": [\"bar\", \"baz\"]}} is not well-formatted.\n",
      "\n",
      "Here is the output schema:\n",
      "```\n",
      "{\"properties\": {\"name\": {\"description\": \"제품의 이름\", \"title\": \"Name\", \"type\": \"string\"}, \"info\": {\"description\": \"제품에 대한 정보\", \"title\": \"Info\", \"type\": \"string\"}, \"release_date\": {\"description\": \"제품이 출시된 일시. yyyy-mm-dd 형시\", \"title\": \"Release Date\", \"type\": \"string\"}, \"price\": {\"description\": \"제품의 한국 발매 가격\", \"title\": \"Price\", \"type\": \"integer\"}}, \"required\": [\"name\", \"info\", \"release_date\", \"price\"]}\n",
      "```\n",
      "\n"
     ]
    }
   ],
   "source": [
    "prompt_template = ChatPromptTemplate.from_template(\n",
    "    dedent(\"\"\"\n",
    "    # Instruction\n",
    "    {name}에 대해 설명해주세요.\n",
    "    # Output Indicator\n",
    "    {format_instructions}\n",
    "    \"\"\")\n",
    "    , partial_variables = {'format_instructions':parser.get_format_instructions()}\n",
    ")\n",
    "prompt = prompt_template.invoke({'name':'Galaxy 핸드폰'})\n",
    "print(prompt.messages[0].content)\n",
    "model = ChatOpenAI(model = 'gpt-4o-mini')\n",
    "response = model.invoke(prompt)"
   ]
  },
  {
   "cell_type": "code",
   "execution_count": null,
   "id": "fd33083c",
   "metadata": {},
   "outputs": [
    {
     "name": "stdout",
     "output_type": "stream",
     "text": [
      "```json\n",
      "{\n",
      "  \"name\": \"Galaxy S23\",\n",
      "  \"info\": \"삼성의 최신 플래그십 스마트폰으로, 강력한 성능과 고급스러운 디자인을 자랑하며, 세련된 카메라 기능과 긴 배터리 수명을 제공합니다.\",\n",
      "  \"release_date\": \"2023-02-17\",\n",
      "  \"price\": 1099000\n",
      "}\n",
      "```\n"
     ]
    },
    {
     "data": {
      "text/plain": [
       "str"
      ]
     },
     "execution_count": 116,
     "metadata": {},
     "output_type": "execute_result"
    }
   ],
   "source": [
    "print(response.content)"
   ]
  },
  {
   "cell_type": "code",
   "execution_count": null,
   "id": "7a886c3d",
   "metadata": {},
   "outputs": [
    {
     "data": {
      "text/plain": [
       "{'name': 'Galaxy S23',\n",
       " 'info': '삼성의 최신 플래그십 스마트폰으로, 강력한 성능과 고급스러운 디자인을 자랑하며, 세련된 카메라 기능과 긴 배터리 수명을 제공합니다.',\n",
       " 'release_date': '2023-02-17',\n",
       " 'price': 1099000}"
      ]
     },
     "execution_count": 115,
     "metadata": {},
     "output_type": "execute_result"
    }
   ],
   "source": [
    "parsed_response  = parser.invoke(response)\n",
    "parsed_response"
   ]
  },
  {
   "cell_type": "markdown",
   "id": "a02865a6",
   "metadata": {},
   "source": [
    "#### PydanticOutputParser"
   ]
  },
  {
   "cell_type": "code",
   "execution_count": null,
   "id": "a6aadbd4",
   "metadata": {},
   "outputs": [],
   "source": [
    "from langchain_core.output_parsers import PydanticOutputParser\n",
    "\n",
    "parser = PydanticOutputParser(pydantic_object = ItemSchema)\n",
    "# JSON ----Parser----> Pydantic Model Object"
   ]
  },
  {
   "cell_type": "code",
   "execution_count": null,
   "id": "0c4a52c1",
   "metadata": {},
   "outputs": [
    {
     "name": "stdout",
     "output_type": "stream",
     "text": [
      "The output should be formatted as a JSON instance that conforms to the JSON schema below.\n",
      "\n",
      "As an example, for the schema {\"properties\": {\"foo\": {\"title\": \"Foo\", \"description\": \"a list of strings\", \"type\": \"array\", \"items\": {\"type\": \"string\"}}}, \"required\": [\"foo\"]}\n",
      "the object {\"foo\": [\"bar\", \"baz\"]} is a well-formatted instance of the schema. The object {\"properties\": {\"foo\": [\"bar\", \"baz\"]}} is not well-formatted.\n",
      "\n",
      "Here is the output schema:\n",
      "```\n",
      "{\"properties\": {\"name\": {\"description\": \"제품의 이름\", \"title\": \"Name\", \"type\": \"string\"}, \"info\": {\"description\": \"제품에 대한 정보\", \"title\": \"Info\", \"type\": \"string\"}, \"release_date\": {\"description\": \"제품이 출시된 일시. yyyy-mm-dd 형시\", \"title\": \"Release Date\", \"type\": \"string\"}, \"price\": {\"description\": \"제품의 한국 발매 가격\", \"title\": \"Price\", \"type\": \"integer\"}}, \"required\": [\"name\", \"info\", \"release_date\", \"price\"]}\n",
      "```\n"
     ]
    }
   ],
   "source": [
    "# same as JsonOutputParser\n",
    "print(parser.get_format_instructions())"
   ]
  },
  {
   "cell_type": "code",
   "execution_count": null,
   "id": "106f3c3c",
   "metadata": {},
   "outputs": [
    {
     "name": "stdout",
     "output_type": "stream",
     "text": [
      "messages=[HumanMessage(content='\\n# Instruction\\nMac Book에 대해 설명해주세요.\\n# Output Indicator\\nThe output should be formatted as a JSON instance that conforms to the JSON schema below.\\n\\nAs an example, for the schema {\"properties\": {\"foo\": {\"title\": \"Foo\", \"description\": \"a list of strings\", \"type\": \"array\", \"items\": {\"type\": \"string\"}}}, \"required\": [\"foo\"]}\\nthe object {\"foo\": [\"bar\", \"baz\"]} is a well-formatted instance of the schema. The object {\"properties\": {\"foo\": [\"bar\", \"baz\"]}} is not well-formatted.\\n\\nHere is the output schema:\\n```\\n{\"properties\": {\"name\": {\"description\": \"제품의 이름\", \"title\": \"Name\", \"type\": \"string\"}, \"info\": {\"description\": \"제품에 대한 정보\", \"title\": \"Info\", \"type\": \"string\"}, \"release_date\": {\"description\": \"제품이 출시된 일시. yyyy-mm-dd 형시\", \"title\": \"Release Date\", \"type\": \"string\"}, \"price\": {\"description\": \"제품의 한국 발매 가격\", \"title\": \"Price\", \"type\": \"integer\"}}, \"required\": [\"name\", \"info\", \"release_date\", \"price\"]}\\n```\\n', additional_kwargs={}, response_metadata={})]\n"
     ]
    }
   ],
   "source": [
    "prompt_template = ChatPromptTemplate.from_template(\n",
    "    dedent(\"\"\"\n",
    "    # Instruction\n",
    "    {name}에 대해 설명해주세요.\n",
    "    # Output Indicator\n",
    "    {format_instructions}\n",
    "    \"\"\")\n",
    "    , partial_variables = {'format_instructions':parser.get_format_instructions()}\n",
    ")\n",
    "prompt = prompt_template.invoke({'name':'Mac Book'})\n",
    "print(prompt)\n",
    "model = ChatOpenAI(model = 'gpt-4o-mini')\n",
    "response = model.invoke(prompt)\n",
    "parsed_response = parser.invoke(response)"
   ]
  },
  {
   "cell_type": "code",
   "execution_count": null,
   "id": "8977b676",
   "metadata": {},
   "outputs": [
    {
     "name": "stdout",
     "output_type": "stream",
     "text": [
      "<class '__main__.ItemSchema'>\n",
      "name='MacBook Air' info='MacBook Air는 Apple에서 제작한 슬림한 디자인의 노트북으로, 인텔 및 Apple M 시리즈의 프로세서를 탑재하여 높은 성능과 효율성을 자랑합니다. Retina 디스플레이와 긴 배터리 수명이 특징입니다.' release_date='2022-06-01' price=1799000\n"
     ]
    }
   ],
   "source": [
    "print(type(parsed_response)) # not a dictionary\n",
    "print(parsed_response)"
   ]
  },
  {
   "cell_type": "code",
   "execution_count": null,
   "id": "956451dd",
   "metadata": {},
   "outputs": [
    {
     "name": "stdout",
     "output_type": "stream",
     "text": [
      "MacBook Air\n",
      "MacBook Air는 Apple에서 제작한 슬림한 디자인의 노트북으로, 인텔 및 Apple M 시리즈의 프로세서를 탑재하여 높은 성능과 효율성을 자랑합니다. Retina 디스플레이와 긴 배터리 수명이 특징입니다.\n",
      "2022-06-01\n",
      "1799000\n"
     ]
    }
   ],
   "source": [
    "print(parsed_response.name, parsed_response.info, parsed_response.release_date, parsed_response.price, sep = '\\n')"
   ]
  },
  {
   "cell_type": "code",
   "execution_count": null,
   "id": "40b72445",
   "metadata": {},
   "outputs": [],
   "source": [
    "chain = prompt_template | model | parser\n",
    "chained_response = chain.invoke(prompt)"
   ]
  },
  {
   "cell_type": "code",
   "execution_count": null,
   "id": "27fea895",
   "metadata": {},
   "outputs": [
    {
     "name": "stdout",
     "output_type": "stream",
     "text": [
      "MacBook Air\n",
      "Apple의 MacBook Air는 얇고 가벼운 노트북으로, 뛰어난 휴대성과 긴 배터리 수명을 자랑합니다. M1 칩을 사용하여 높은 성능과 효율성을 제공합니다. 또한, Retina 디스플레이와 쾌적한 키보드를 갖춰 사용자가 다양한 작업을 쉽게 수행할 수 있습니다.\n",
      "2020-11-10\n",
      "1249000\n"
     ]
    }
   ],
   "source": [
    "print(chained_response.name, chained_response.info, chained_response.release_date, chained_response.price, sep = '\\n')"
   ]
  },
  {
   "cell_type": "markdown",
   "id": "49811bc0",
   "metadata": {},
   "source": [
    "#### cf. Typehint\n",
    "\n",
    "```python\n",
    "import typing\n",
    "```"
   ]
  },
  {
   "cell_type": "markdown",
   "id": "7865d3e7",
   "metadata": {},
   "source": [
    "* `variable_name: type [= value]`\n",
    "* `def function(parameter: type) -> return_type:`"
   ]
  },
  {
   "cell_type": "markdown",
   "id": "110b8a7d",
   "metadata": {},
   "source": [
    "**Datatype Class**\n",
    "\n",
    "* Collections\n",
    "\n",
    "    * `List[T]`\n",
    "\n",
    "    * `Dict[K, V]`\n",
    "\n",
    "    * `Tuple[T1, T2]`\n",
    "\n",
    "    * `Set[T]`\n",
    "\n",
    "* Special\n",
    "\n",
    "    * `Optional[T]`\n",
    "\n",
    "    * `Union[T1, T2]`\n",
    "\n",
    "    * `Final[T]`\n",
    "\n",
    "    * `Callable[[ArgType], ReturnType]`\n",
    "\n",
    "    * `Iterable[T]`"
   ]
  },
  {
   "cell_type": "markdown",
   "id": "9747da81",
   "metadata": {},
   "source": [
    "**After Python 3.9+**\n",
    "\n",
    "We can finally use python built-in type classes as typehints.\n",
    "```python\n",
    "numbers: list[int] = [1, 2, 3]\n",
    "settings: dict[str, str]: {'name':'value'}\n",
    "```"
   ]
  },
  {
   "cell_type": "markdown",
   "id": "daa0fb6a",
   "metadata": {},
   "source": [
    "**After Python 3.10+**\n",
    "\n",
    "* Union -> `|`\n",
    "```python\n",
    "# Before\n",
    "num: Union[int, float] = 1\n",
    "# After\n",
    "num: int | float = 1\n",
    "```\n",
    "\n",
    "* TypeAlias Available\n",
    "```python\n",
    "from typing import TypeAlias\n",
    "vector: TypeAlias = list[float]\n",
    "\n",
    "num_list: vector\n",
    "```"
   ]
  },
  {
   "cell_type": "markdown",
   "id": "00964440",
   "metadata": {},
   "source": [
    "**Pydantic**\n",
    "\n",
    "* to help to define data-type class\n",
    "\n",
    "* Type Validity Authentication\n",
    "\n",
    "* Automated Type Conversion\n",
    "\n",
    "* Default Value Preset\n",
    "\n",
    "* Complex Data Structure\n",
    "\n",
    "* Data Serialization & Deserialization"
   ]
  },
  {
   "cell_type": "markdown",
   "id": "f0051331",
   "metadata": {},
   "source": [
    "**HOW??**\n",
    "\n",
    "* Subclass succeeding `BaseModel`\n",
    "\n",
    "* `Field` for validation constraints."
   ]
  },
  {
   "cell_type": "code",
   "execution_count": null,
   "id": "4ea236a0",
   "metadata": {},
   "outputs": [
    {
     "name": "stdout",
     "output_type": "stream",
     "text": [
      "홍길동 20 서울\n"
     ]
    }
   ],
   "source": [
    "# Common case\n",
    "class Person:\n",
    "\n",
    "    def __init__(self, name, age, address):  # attributes\n",
    "        self.name = name\n",
    "        if isinstance(age, int):\n",
    "            self.age = age\n",
    "        else:\n",
    "            raise Exception(\"나이 타입이 아닙니다.\")\n",
    "        self.address = address\n",
    "\n",
    "p = Person(\"홍길동\", 20, \"서울\")\n",
    "# p = Person(\"홍길동\", \"서른\", \"서울\")\n",
    "print(p.name, p.age, p.address)\n",
    "# we want to prevent users from putting other data-types into self.age"
   ]
  },
  {
   "cell_type": "code",
   "execution_count": null,
   "id": "7ed5bf25",
   "metadata": {},
   "outputs": [],
   "source": [
    "from pydantic import BaseModel\n",
    "\n",
    "class Member(BaseModel):\n",
    "    # Set attributes by defining CLASS VARIABLES\n",
    "    name: str\n",
    "    age: int | float\n",
    "    nickname: str | None = None\n",
    "    hobby: list[str]"
   ]
  },
  {
   "cell_type": "code",
   "execution_count": null,
   "id": "485be24f",
   "metadata": {},
   "outputs": [
    {
     "data": {
      "text/plain": [
       "Member(name='이순신', age=30, nickname='거북선', hobby=['게임', '영화'])"
      ]
     },
     "execution_count": 160,
     "metadata": {},
     "output_type": "execute_result"
    }
   ],
   "source": [
    "m = Member(name = '이순신', age = 30, nickname = '거북선', hobby = ['게임', '영화'])\n",
    "m"
   ]
  },
  {
   "cell_type": "code",
   "execution_count": null,
   "id": "83f002af",
   "metadata": {},
   "outputs": [
    {
     "data": {
      "text/plain": [
       "Member(name='이순신', age=30.5, nickname='거북선', hobby=['게임', '영화'])"
      ]
     },
     "execution_count": 161,
     "metadata": {},
     "output_type": "execute_result"
    }
   ],
   "source": [
    "m.age = 30.5\n",
    "m"
   ]
  },
  {
   "cell_type": "code",
   "execution_count": null,
   "id": "50248738",
   "metadata": {},
   "outputs": [
    {
     "ename": "ValidationError",
     "evalue": "2 validation errors for Member\nage.int\n  Input should be a valid integer, unable to parse string as an integer [type=int_parsing, input_value='서른살', input_type=str]\n    For further information visit https://errors.pydantic.dev/2.11/v/int_parsing\nage.float\n  Input should be a valid number, unable to parse string as a number [type=float_parsing, input_value='서른살', input_type=str]\n    For further information visit https://errors.pydantic.dev/2.11/v/float_parsing",
     "output_type": "error",
     "traceback": [
      "\u001b[31m---------------------------------------------------------------------------\u001b[39m",
      "\u001b[31mValidationError\u001b[39m                           Traceback (most recent call last)",
      "\u001b[36mCell\u001b[39m\u001b[36m \u001b[39m\u001b[32mIn[162]\u001b[39m\u001b[32m, line 1\u001b[39m\n\u001b[32m----> \u001b[39m\u001b[32m1\u001b[39m m = \u001b[43mMember\u001b[49m\u001b[43m(\u001b[49m\u001b[43mname\u001b[49m\u001b[43m \u001b[49m\u001b[43m=\u001b[49m\u001b[43m \u001b[49m\u001b[33;43m'\u001b[39;49m\u001b[33;43m이순신\u001b[39;49m\u001b[33;43m'\u001b[39;49m\u001b[43m,\u001b[49m\u001b[43m \u001b[49m\u001b[43mage\u001b[49m\u001b[43m \u001b[49m\u001b[43m=\u001b[49m\u001b[43m \u001b[49m\u001b[33;43m'\u001b[39;49m\u001b[33;43m서른살\u001b[39;49m\u001b[33;43m'\u001b[39;49m\u001b[43m,\u001b[49m\u001b[43m \u001b[49m\u001b[43mnickname\u001b[49m\u001b[43m \u001b[49m\u001b[43m=\u001b[49m\u001b[43m \u001b[49m\u001b[33;43m'\u001b[39;49m\u001b[33;43m거북선\u001b[39;49m\u001b[33;43m'\u001b[39;49m\u001b[43m,\u001b[49m\u001b[43m \u001b[49m\u001b[43mhobby\u001b[49m\u001b[43m \u001b[49m\u001b[43m=\u001b[49m\u001b[43m \u001b[49m\u001b[43m[\u001b[49m\u001b[33;43m'\u001b[39;49m\u001b[33;43m게임\u001b[39;49m\u001b[33;43m'\u001b[39;49m\u001b[43m,\u001b[49m\u001b[43m \u001b[49m\u001b[33;43m'\u001b[39;49m\u001b[33;43m영화\u001b[39;49m\u001b[33;43m'\u001b[39;49m\u001b[43m]\u001b[49m\u001b[43m)\u001b[49m\n\u001b[32m      2\u001b[39m m\n",
      "\u001b[36mFile \u001b[39m\u001b[32mc:\\Users\\Jaebeom\\anaconda3\\envs\\lang_env\\Lib\\site-packages\\pydantic\\main.py:253\u001b[39m, in \u001b[36mBaseModel.__init__\u001b[39m\u001b[34m(self, **data)\u001b[39m\n\u001b[32m    251\u001b[39m \u001b[38;5;66;03m# `__tracebackhide__` tells pytest and some other tools to omit this function from tracebacks\u001b[39;00m\n\u001b[32m    252\u001b[39m __tracebackhide__ = \u001b[38;5;28;01mTrue\u001b[39;00m\n\u001b[32m--> \u001b[39m\u001b[32m253\u001b[39m validated_self = \u001b[38;5;28;43mself\u001b[39;49m\u001b[43m.\u001b[49m\u001b[43m__pydantic_validator__\u001b[49m\u001b[43m.\u001b[49m\u001b[43mvalidate_python\u001b[49m\u001b[43m(\u001b[49m\u001b[43mdata\u001b[49m\u001b[43m,\u001b[49m\u001b[43m \u001b[49m\u001b[43mself_instance\u001b[49m\u001b[43m=\u001b[49m\u001b[38;5;28;43mself\u001b[39;49m\u001b[43m)\u001b[49m\n\u001b[32m    254\u001b[39m \u001b[38;5;28;01mif\u001b[39;00m \u001b[38;5;28mself\u001b[39m \u001b[38;5;129;01mis\u001b[39;00m \u001b[38;5;129;01mnot\u001b[39;00m validated_self:\n\u001b[32m    255\u001b[39m     warnings.warn(\n\u001b[32m    256\u001b[39m         \u001b[33m'\u001b[39m\u001b[33mA custom validator is returning a value other than `self`.\u001b[39m\u001b[38;5;130;01m\\n\u001b[39;00m\u001b[33m'\u001b[39m\n\u001b[32m    257\u001b[39m         \u001b[33m\"\u001b[39m\u001b[33mReturning anything other than `self` from a top level model validator isn\u001b[39m\u001b[33m'\u001b[39m\u001b[33mt supported when validating via `__init__`.\u001b[39m\u001b[38;5;130;01m\\n\u001b[39;00m\u001b[33m\"\u001b[39m\n\u001b[32m    258\u001b[39m         \u001b[33m'\u001b[39m\u001b[33mSee the `model_validator` docs (https://docs.pydantic.dev/latest/concepts/validators/#model-validators) for more details.\u001b[39m\u001b[33m'\u001b[39m,\n\u001b[32m    259\u001b[39m         stacklevel=\u001b[32m2\u001b[39m,\n\u001b[32m    260\u001b[39m     )\n",
      "\u001b[31mValidationError\u001b[39m: 2 validation errors for Member\nage.int\n  Input should be a valid integer, unable to parse string as an integer [type=int_parsing, input_value='서른살', input_type=str]\n    For further information visit https://errors.pydantic.dev/2.11/v/int_parsing\nage.float\n  Input should be a valid number, unable to parse string as a number [type=float_parsing, input_value='서른살', input_type=str]\n    For further information visit https://errors.pydantic.dev/2.11/v/float_parsing"
     ]
    }
   ],
   "source": [
    "m = Member(name = '이순신', age = '서른살', nickname = '거북선', hobby = ['게임', '영화'])\n",
    "m"
   ]
  },
  {
   "cell_type": "markdown",
   "id": "7fefbcad",
   "metadata": {},
   "source": [
    "**Field**\n",
    "\n",
    "further constraints."
   ]
  },
  {
   "cell_type": "code",
   "execution_count": null,
   "id": "5efd6ab7",
   "metadata": {},
   "outputs": [],
   "source": [
    "# Filed\n",
    "from pydantic import BaseModel, Field\n",
    "\n",
    "class Member(BaseModel):\n",
    "    name: str = Field(title = '회원이름', decription = '회원의 이름을 저장')\n",
    "    age: int | float = Field(title = '회원나이', description = '회원의 나이를 저장.', gt = 0)\n",
    "    nickname: str | None = Field(default = None, title = '별칭', description = '회원의 별명')\n",
    "    hobby: list[str] = Field(title = '취미', description = '회원의 취미', max_length = 2, min_length = 1)\n",
    "    # If no default setting: it's a necessary attribute."
   ]
  },
  {
   "cell_type": "code",
   "execution_count": null,
   "id": "3017ada7",
   "metadata": {},
   "outputs": [
    {
     "data": {
      "text/plain": [
       "Member(name='홍길동', age=20, nickname='의적', hobby=['독서', '게임'])"
      ]
     },
     "execution_count": 172,
     "metadata": {},
     "output_type": "execute_result"
    }
   ],
   "source": [
    "m = Member(name = '홍길동', age = 20, nickname = '의적', hobby = ['독서', '게임'])\n",
    "m"
   ]
  },
  {
   "cell_type": "code",
   "execution_count": null,
   "id": "6b51bd90",
   "metadata": {},
   "outputs": [
    {
     "data": {
      "text/plain": [
       "Member(name='홍길동', age=20, nickname=None, hobby=['독서', '게임'])"
      ]
     },
     "execution_count": 174,
     "metadata": {},
     "output_type": "execute_result"
    }
   ],
   "source": [
    "m = Member(age = 20, hobby = ['독서', '게임'])\n",
    "m"
   ]
  }
 ],
 "metadata": {
  "kernelspec": {
   "display_name": "lang_env",
   "language": "python",
   "name": "python3"
  },
  "language_info": {
   "codemirror_mode": {
    "name": "ipython",
    "version": 3
   },
   "file_extension": ".py",
   "mimetype": "text/x-python",
   "name": "python",
   "nbconvert_exporter": "python",
   "pygments_lexer": "ipython3",
   "version": "3.12.11"
  }
 },
 "nbformat": 4,
 "nbformat_minor": 5
}
