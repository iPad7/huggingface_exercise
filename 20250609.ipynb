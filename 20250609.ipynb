{
 "cells": [
  {
   "cell_type": "markdown",
   "id": "1d3fecb9",
   "metadata": {},
   "source": [
    "# 2025.06.09. (MON)"
   ]
  },
  {
   "cell_type": "code",
   "execution_count": 1,
   "id": "ae09e2f1",
   "metadata": {},
   "outputs": [
    {
     "data": {
      "text/plain": [
       "True"
      ]
     },
     "execution_count": 1,
     "metadata": {},
     "output_type": "execute_result"
    }
   ],
   "source": [
    "from dotenv import load_dotenv\n",
    "\n",
    "load_dotenv()"
   ]
  },
  {
   "cell_type": "markdown",
   "id": "14dc97b6",
   "metadata": {},
   "source": [
    "## Prompt Template"
   ]
  },
  {
   "cell_type": "markdown",
   "id": "09e0e310",
   "metadata": {},
   "source": [
    "### Model I/O\n",
    "\n",
    "* Prompt Template\n",
    "\n",
    "* Language Model\n",
    "\n",
    "* Output Parser"
   ]
  },
  {
   "cell_type": "markdown",
   "id": "a19934d1",
   "metadata": {},
   "source": [
    "### Prompt\n",
    "\n",
    "* input value to let model do certain tasks\n",
    "\n",
    "* mainly by human language"
   ]
  },
  {
   "cell_type": "markdown",
   "id": "df40eec2",
   "metadata": {},
   "source": [
    "### Prompt Engineering\n",
    "\n",
    "* to design and optimize prompts to get the best result\n",
    "\n",
    "* for a constant and precise answer"
   ]
  },
  {
   "cell_type": "markdown",
   "id": "41f78f02",
   "metadata": {},
   "source": [
    "#### Components\n",
    "\n",
    "* Markdown code\n",
    "\n",
    "    * Instruction\n",
    "\n",
    "    * Context\n",
    "\n",
    "    * Input Data\n",
    "\n",
    "    * Output Indicator"
   ]
  },
  {
   "cell_type": "markdown",
   "id": "9de901a8",
   "metadata": {},
   "source": [
    "### Guide\n",
    "\n",
    "1. Clarity\n",
    "\n",
    "2. Specificity\n",
    "\n",
    "3. Conciseness\n",
    "\n",
    "4. Explicit Instruction\n",
    "\n",
    "5. Constraint Prompting\n",
    "\n",
    "6. Persona\n",
    "\n",
    "7. Step-by-Step Instruction\n",
    "\n",
    "8. Zero-shot, One-shot, Few-shot\n",
    "\n",
    "9. Open-ended questioning\n",
    "\n",
    "10. Providing Context\n",
    "\n",
    "11. Ethical Usage"
   ]
  },
  {
   "cell_type": "markdown",
   "id": "51c400ed",
   "metadata": {},
   "source": [
    "### Approaches"
   ]
  },
  {
   "cell_type": "markdown",
   "id": "9d8e5d87",
   "metadata": {},
   "source": [
    "#### CoT(Chain of Thought)\n",
    "\n",
    "* Step-by-step Logic\n",
    "\n",
    "* methods\n",
    "\n",
    "    * Zero-shot CoT: to put a phrase such as '단계적으로 풀어보자', '차근 차근 생각해보자', 'Think step by step' onto our prompts\n",
    "\n",
    "    * Few-shot CoT: to state each steps"
   ]
  },
  {
   "cell_type": "markdown",
   "id": "ca918a46",
   "metadata": {},
   "source": [
    "#### ToT(Tree of Thought)\n",
    "\n",
    "* Not a sequential, but a tree-like logic.\n",
    "\n",
    "* explore & evaluate for each branches.\n",
    "\n",
    "* on mathematical problem, creativity, strategic planning, coding"
   ]
  },
  {
   "cell_type": "markdown",
   "id": "6a38c519",
   "metadata": {},
   "source": [
    "### Prompt Template"
   ]
  },
  {
   "cell_type": "markdown",
   "id": "10851a08",
   "metadata": {},
   "source": [
    "## Output Parser\n",
    "\n",
    ": to convert Output to appropriate(structurized) format for our App."
   ]
  },
  {
   "cell_type": "markdown",
   "id": "3e409f6b",
   "metadata": {},
   "source": [
    "### Types\n",
    "\n",
    "1. CommaSeperatedListOutputParser\n",
    "\n",
    "* \"Apple, Banana, \"Grape\" -> [\"Apple\", \"Banana\", \"Grape\"]\n",
    "\n",
    "2. JsonOutputParser\n",
    "\n",
    "* `JSON` to Python `dict`\n",
    "\n",
    "3. PydanticOutputParser\n",
    "\n",
    "* `JSON` to Python `Pydantic` model\n",
    "\n",
    "* widely used data validation library for Python\n",
    "\n",
    "4. StrOutputParser\n",
    "\n",
    "* just to string-type data"
   ]
  },
  {
   "cell_type": "markdown",
   "id": "7bc5e904",
   "metadata": {},
   "source": [
    "### Methods\n",
    "\n",
    "* `parse(text: str)`\n",
    "\n",
    "* `get_format_instructions() -> str`"
   ]
  },
  {
   "cell_type": "markdown",
   "id": "f5aaefd0",
   "metadata": {},
   "source": [
    "#### cf. `invoke()`"
   ]
  },
  {
   "cell_type": "markdown",
   "id": "ff00693a",
   "metadata": {},
   "source": [
    "#### StrOutputParser"
   ]
  },
  {
   "cell_type": "code",
   "execution_count": 8,
   "id": "ccf0cd39",
   "metadata": {},
   "outputs": [],
   "source": [
    "from langchain.prompts import ChatPromptTemplate\n",
    "from langchain_openai import ChatOpenAI\n",
    "from langchain_core.output_parsers import StrOutputParser\n",
    "\n",
    "prompt_template = ChatPromptTemplate.from_template(\n",
    "    \"한국의 {topic} 관련된 속담을 {count}개 알려줘.\"\n",
    ")\n",
    "prompt = prompt_template.format(topic = '호랑이', count = 2)\n",
    "# prompt = prompt_template.invoke({\"topic\":\"호랑이\", \"count\":2})\n",
    "prompt\n",
    "\n",
    "\n",
    "model = ChatOpenAI(model = 'gpt-4o-mini')\n",
    "response = model.invoke(prompt)"
   ]
  },
  {
   "cell_type": "code",
   "execution_count": 9,
   "id": "efde321f",
   "metadata": {},
   "outputs": [
    {
     "data": {
      "text/plain": [
       "AIMessage(content='물론입니다! 한국의 호랑이와 관련된 속담 두 가지를 소개해드릴게요.\\n\\n1. **호랑이 굴에 가야 호랑이 새끼를 잡는다**  \\n   이 속담은 목표를 이루기 위해서는 위험을 감수해야 한다는 의미로, 큰 성과를 원한다면 어려운 상황을 겪어야 한다는 교훈을 담고 있습니다.\\n\\n2. **호랑이는 죽어서 가죽을 남기고, 사람은 죽어서 이름을 남긴다**  \\n   이 속담은 호랑이가 죽어서도 그 가죽이 남듯이, 사람도 죽은 후에 자신의 업적이나 명성을 남기는 것이 중요하다는 의미입니다.\\n\\n이 두 가지 속담은 호랑이를 통해 삶의 교훈을 주는 경우가 많습니다.', additional_kwargs={'refusal': None}, response_metadata={'token_usage': {'completion_tokens': 178, 'prompt_tokens': 25, 'total_tokens': 203, 'completion_tokens_details': {'accepted_prediction_tokens': 0, 'audio_tokens': 0, 'reasoning_tokens': 0, 'rejected_prediction_tokens': 0}, 'prompt_tokens_details': {'audio_tokens': 0, 'cached_tokens': 0}}, 'model_name': 'gpt-4o-mini-2024-07-18', 'system_fingerprint': 'fp_34a54ae93c', 'id': 'chatcmpl-BgLTAlc7AFN9oAuKOW3yrEdVjWGsC', 'service_tier': 'default', 'finish_reason': 'stop', 'logprobs': None}, id='run--2c539f08-55fd-4c65-9d51-68cfafe08ff0-0', usage_metadata={'input_tokens': 25, 'output_tokens': 178, 'total_tokens': 203, 'input_token_details': {'audio': 0, 'cache_read': 0}, 'output_token_details': {'audio': 0, 'reasoning': 0}})"
      ]
     },
     "execution_count": 9,
     "metadata": {},
     "output_type": "execute_result"
    }
   ],
   "source": [
    "response"
   ]
  },
  {
   "cell_type": "code",
   "execution_count": 13,
   "id": "d4c9dfc7",
   "metadata": {},
   "outputs": [
    {
     "name": "stdout",
     "output_type": "stream",
     "text": [
      "{'token_usage': {'completion_tokens': 178, 'prompt_tokens': 25, 'total_tokens': 203, 'completion_tokens_details': {'accepted_prediction_tokens': 0, 'audio_tokens': 0, 'reasoning_tokens': 0, 'rejected_prediction_tokens': 0}, 'prompt_tokens_details': {'audio_tokens': 0, 'cached_tokens': 0}}, 'model_name': 'gpt-4o-mini-2024-07-18', 'system_fingerprint': 'fp_34a54ae93c', 'id': 'chatcmpl-BgLTAlc7AFN9oAuKOW3yrEdVjWGsC', 'service_tier': 'default', 'finish_reason': 'stop', 'logprobs': None}\n",
      "물론입니다! 한국의 호랑이와 관련된 속담 두 가지를 소개해드릴게요.\n",
      "\n",
      "1. **호랑이 굴에 가야 호랑이 새끼를 잡는다**  \n",
      "   이 속담은 목표를 이루기 위해서는 위험을 감수해야 한다는 의미로, 큰 성과를 원한다면 어려운 상황을 겪어야 한다는 교훈을 담고 있습니다.\n",
      "\n",
      "2. **호랑이는 죽어서 가죽을 남기고, 사람은 죽어서 이름을 남긴다**  \n",
      "   이 속담은 호랑이가 죽어서도 그 가죽이 남듯이, 사람도 죽은 후에 자신의 업적이나 명성을 남기는 것이 중요하다는 의미입니다.\n",
      "\n",
      "이 두 가지 속담은 호랑이를 통해 삶의 교훈을 주는 경우가 많습니다.\n"
     ]
    }
   ],
   "source": [
    "print(response.response_metadata)\n",
    "print(response.content)"
   ]
  },
  {
   "cell_type": "code",
   "execution_count": null,
   "id": "d793c82a",
   "metadata": {},
   "outputs": [
    {
     "name": "stdout",
     "output_type": "stream",
     "text": [
      "물론입니다! 한국의 호랑이와 관련된 속담 두 가지를 소개해드릴게요.\n",
      "\n",
      "1. **호랑이 굴에 가야 호랑이 새끼를 잡는다**  \n",
      "   이 속담은 목표를 이루기 위해서는 위험을 감수해야 한다는 의미로, 큰 성과를 원한다면 어려운 상황을 겪어야 한다는 교훈을 담고 있습니다.\n",
      "\n",
      "2. **호랑이는 죽어서 가죽을 남기고, 사람은 죽어서 이름을 남긴다**  \n",
      "   이 속담은 호랑이가 죽어서도 그 가죽이 남듯이, 사람도 죽은 후에 자신의 업적이나 명성을 남기는 것이 중요하다는 의미입니다.\n",
      "\n",
      "이 두 가지 속담은 호랑이를 통해 삶의 교훈을 주는 경우가 많습니다.\n"
     ]
    }
   ],
   "source": [
    "parser = StrOutputParser()\n",
    "res = parser.invoke(response)\n",
    "print(res)"
   ]
  },
  {
   "cell_type": "code",
   "execution_count": null,
   "id": "4adcd877",
   "metadata": {},
   "outputs": [
    {
     "name": "stdout",
     "output_type": "stream",
     "text": [
      "한국의 정신력과 관련된 속담 몇 가지를 알려드리겠습니다.\n",
      "\n",
      "1. **\"고생 끝에 낙이 온다.\"** - 힘든 과정을 겪어야 결국 좋은 결과를 얻을 수 있다는 의미로, 인내와 노력의 중요성을 강조합니다.\n",
      "\n",
      "2. **\"호랑이 굴에 가야 호랑이를 잡는다.\"** - 위험을 감수하고 도전해야만 큰 성과를 얻을 수 있다는 뜻으로, 용기와 결단력을 뜻합니다.\n",
      "\n",
      "3. **\"시작이 반이다.\"** - 어떤 일이든 시작하는 것이 중요하며, 일단 시작하면 절반은 이룬 것과 같다는 의미로, 정신력을 발휘해 첫 발을 내딛는 것이 중요함을 강조합니다.\n",
      "\n",
      "이 속담들은 한국 사람들에게 정신력을 강조하고, 어려움을 이겨내는 데 큰 힘을 주는 메시지를 담고 있습니다.\n"
     ]
    }
   ],
   "source": [
    "# What is the difference between response.content and parser.invoke(response)?\n",
    "# Critical when chaining\n",
    "\n",
    "# prompt_template -> model -> parser\n",
    "chain = prompt_template | model | parser\n",
    "res = chain.invoke({\"topic\":\"사람의 정신력\", \"count\":3})\n",
    "print(res)\n",
    "\n",
    "# what if below:\n",
    "# chain = prompt_template | model\n",
    "# res = chain.invoke({\"topic\":\"사람의 정신력\", \"count\":3})\n",
    "# print(res)"
   ]
  },
  {
   "cell_type": "markdown",
   "id": "d99368a9",
   "metadata": {},
   "source": [
    "#### CommaSeparatedListOutputParser"
   ]
  },
  {
   "cell_type": "code",
   "execution_count": 29,
   "id": "84789601",
   "metadata": {},
   "outputs": [
    {
     "name": "stdout",
     "output_type": "stream",
     "text": [
      "['사과', '배', '귤수박', '오렌지']\n"
     ]
    }
   ],
   "source": [
    "from langchain_core.output_parsers import CommaSeparatedListOutputParser\n",
    "\n",
    "parser = CommaSeparatedListOutputParser()\n",
    "res_txt = '사과, 배, 귤수박, 오렌지'\n",
    "print(parser.invoke(res_txt))"
   ]
  },
  {
   "cell_type": "code",
   "execution_count": 32,
   "id": "40c64b2e",
   "metadata": {},
   "outputs": [
    {
     "name": "stdout",
     "output_type": "stream",
     "text": [
      "Your response should be a list of comma separated values, eg: `foo, bar, baz` or `foo,bar,baz`\n"
     ]
    }
   ],
   "source": [
    "# Output format preset\n",
    "format_string = parser.get_format_instructions()\n",
    "print(format_string)"
   ]
  },
  {
   "cell_type": "code",
   "execution_count": 47,
   "id": "1f0ac98a",
   "metadata": {},
   "outputs": [
    {
     "data": {
      "text/plain": [
       "AIMessage(content='사자,호랑이,코끼리,기린,원숭이', additional_kwargs={'refusal': None}, response_metadata={'token_usage': {'completion_tokens': 18, 'prompt_tokens': 58, 'total_tokens': 76, 'completion_tokens_details': {'accepted_prediction_tokens': 0, 'audio_tokens': 0, 'reasoning_tokens': 0, 'rejected_prediction_tokens': 0}, 'prompt_tokens_details': {'audio_tokens': 0, 'cached_tokens': 0}}, 'model_name': 'gpt-4o-mini-2024-07-18', 'system_fingerprint': 'fp_62a23a81ef', 'id': 'chatcmpl-BgMQ1elqXXG0eGYvlmsqRshDGyQDE', 'service_tier': 'default', 'finish_reason': 'stop', 'logprobs': None}, id='run--f5100c09-2e16-4d5e-b1f1-c5f37627bf8f-0', usage_metadata={'input_tokens': 58, 'output_tokens': 18, 'total_tokens': 76, 'input_token_details': {'audio': 0, 'cache_read': 0}, 'output_token_details': {'audio': 0, 'reasoning': 0}})"
      ]
     },
     "execution_count": 47,
     "metadata": {},
     "output_type": "execute_result"
    }
   ],
   "source": [
    "from textwrap import dedent\n",
    "prompt_template = ChatPromptTemplate.from_template(\n",
    "    dedent(\"\"\"\n",
    "    # instruction\n",
    "    {subject}의 이름 다섯 개를 나열해주세요.\n",
    "\n",
    "    # output indicator\n",
    "    {format_instructions}\n",
    "    # \"\"\"),\n",
    "    partial_variables = {'format_instructions' : parser.get_format_instructions()}\n",
    "    # to initialize placeholder value when creating PromptTemplate object.\n",
    "    # when we get values by calling functions or methods.\n",
    ")\n",
    "\n",
    "model = ChatOpenAI(model = 'gpt-4o-mini')\n",
    "prompt = prompt_template.invoke({'subject':'동물'})\n",
    "response = model.invoke(prompt)\n",
    "response"
   ]
  },
  {
   "cell_type": "code",
   "execution_count": 48,
   "id": "6fbc48c6",
   "metadata": {},
   "outputs": [
    {
     "name": "stdout",
     "output_type": "stream",
     "text": [
      "사자,호랑이,코끼리,기린,원숭이\n"
     ]
    }
   ],
   "source": [
    "print(response.content)"
   ]
  },
  {
   "cell_type": "code",
   "execution_count": 49,
   "id": "5b57b45f",
   "metadata": {},
   "outputs": [
    {
     "name": "stdout",
     "output_type": "stream",
     "text": [
      "<class 'list'>\n",
      "['사자', '호랑이', '코끼리', '기린', '원숭이']\n"
     ]
    }
   ],
   "source": [
    "res = parser.invoke(response)\n",
    "print(type(res))\n",
    "print(res)"
   ]
  },
  {
   "cell_type": "code",
   "execution_count": 50,
   "id": "67017c5a",
   "metadata": {},
   "outputs": [
    {
     "data": {
      "text/plain": [
       "['사자', '호랑이', '코끼리', '기린', '원숭이']"
      ]
     },
     "execution_count": 50,
     "metadata": {},
     "output_type": "execute_result"
    }
   ],
   "source": [
    "response.content.split(',')"
   ]
  },
  {
   "cell_type": "code",
   "execution_count": 51,
   "id": "766abadc",
   "metadata": {},
   "outputs": [
    {
     "name": "stdout",
     "output_type": "stream",
     "text": [
      "['현대 아반떼', '기아 K5', '토요타 캠리', '포드 머스탱', 'BMW 3시리즈']\n"
     ]
    }
   ],
   "source": [
    "# chaining\n",
    "chain = prompt_template | model | parser\n",
    "\n",
    "res = chain.invoke({\"subject\" : \"자동차\"})\n",
    "print(res)"
   ]
  },
  {
   "cell_type": "markdown",
   "id": "2c343f21",
   "metadata": {},
   "source": [
    "#### JsonOutputParser"
   ]
  },
  {
   "cell_type": "code",
   "execution_count": 56,
   "id": "9aa82a75",
   "metadata": {},
   "outputs": [
    {
     "name": "stdout",
     "output_type": "stream",
     "text": [
      "<class 'dict'>\n"
     ]
    },
    {
     "data": {
      "text/plain": [
       "('홍길동', '서울')"
      ]
     },
     "execution_count": 56,
     "metadata": {},
     "output_type": "execute_result"
    }
   ],
   "source": [
    "from langchain_core.output_parsers import JsonOutputParser\n",
    "\n",
    "parser = JsonOutputParser()\n",
    "res_text = \"\"\"\n",
    "{\n",
    "    \"name\":\"홍길동\",\n",
    "    \"age\":20,\n",
    "    \"address\":\"서울\",\n",
    "    \"hobby\":[\"독서\", \"게임\"]\n",
    "}\n",
    "\"\"\"\n",
    "res_dict = parser.invoke(res_text)\n",
    "print(type(res_dict))\n",
    "res_dict\n",
    "res_dict['name'], res_dict['address']"
   ]
  },
  {
   "cell_type": "code",
   "execution_count": 57,
   "id": "de048c5e",
   "metadata": {},
   "outputs": [
    {
     "data": {
      "text/plain": [
       "'Return a JSON object.'"
      ]
     },
     "execution_count": 57,
     "metadata": {},
     "output_type": "execute_result"
    }
   ],
   "source": [
    "parser.get_format_instructions()"
   ]
  },
  {
   "cell_type": "code",
   "execution_count": 73,
   "id": "2b5e92e7",
   "metadata": {},
   "outputs": [],
   "source": [
    "prompt_template = ChatPromptTemplate.from_template(\n",
    "    \"{name}에 대해 설명해줘.\\n{format_instructions}\",\n",
    "    partial_variables = {'format_instructions':parser.get_format_instructions()}\n",
    ")\n",
    "model = ChatOpenAI(model = 'gpt-4o-mini')\n",
    "prompt = prompt_template.invoke({\"name\":\"아이폰\"})\n",
    "res = model.invoke(prompt)"
   ]
  },
  {
   "cell_type": "code",
   "execution_count": 74,
   "id": "4b43bae3",
   "metadata": {},
   "outputs": [
    {
     "name": "stdout",
     "output_type": "stream",
     "text": [
      "```json\n",
      "{\n",
      "  \"제품명\": \"아이폰\",\n",
      "  \"제조사\": \"애플 (Apple Inc.)\",\n",
      "  \"출시연도\": \"2007년\",\n",
      "  \"운영체제\": \"iOS\",\n",
      "  \"디스플레이\": {\n",
      "    \"종류\": \"레티나 디스플레이\",\n",
      "    \"해상도\": \"모델에 따라 다름\"\n",
      "  },\n",
      "  \"카메라\": {\n",
      "    \"후면\": \"단일 또는 다중 카메라 시스템\",\n",
      "    \"전면\": \"Selfie 카메라 및 얼굴 인식 기능 지원\"\n",
      "  },\n",
      "  \"주요기능\": [\n",
      "    \"전화 통화\",\n",
      "    \"문자 메시지\",\n",
      "    \"인터넷 브라우징\",\n",
      "    \"앱 다운로드 (App Store)\",\n",
      "    \"iCloud를 통한 데이터 저장 및 동기화\"\n",
      "  ],\n",
      "  \"연결성\": [\n",
      "    \"Wi-Fi\",\n",
      "    \"Bluetooth\",\n",
      "    \"셀룰러 네트워크 (4G, 5G)\",\n",
      "    \"NFC (Apple Pay 지원)\"\n",
      "  ],\n",
      "  \"특징\": {\n",
      "    \"보안\": \"Face ID 또는 Touch ID\",\n",
      "    \"에코시스템\": \"Apple 제품과의 호환성 (Mac, iPad 등)\",\n",
      "    \"소프트웨어 업데이트\": \"정기적인 iOS 업데이트\"\n",
      "  },\n",
      "  \"모델\": [\n",
      "    \"아이폰 14\",\n",
      "    \"아이폰 14 프로\",\n",
      "    \"아이폰 SE (3세대)\",\n",
      "    \"아이폰 13 시리즈\",\n",
      "    \"아이폰 12 시리즈\"\n",
      "  ]\n",
      "}\n",
      "```\n"
     ]
    }
   ],
   "source": [
    "print(res.content)"
   ]
  },
  {
   "cell_type": "code",
   "execution_count": 78,
   "id": "3470cd44",
   "metadata": {},
   "outputs": [
    {
     "name": "stdout",
     "output_type": "stream",
     "text": [
      "<class 'str'> <class 'dict'>\n"
     ]
    },
    {
     "data": {
      "text/plain": [
       "['아이폰 14', '아이폰 14 프로', '아이폰 SE (3세대)']"
      ]
     },
     "execution_count": 78,
     "metadata": {},
     "output_type": "execute_result"
    }
   ],
   "source": [
    "res_dict = parser.invoke(res)\n",
    "print(type(res.content), type(res_dict))\n",
    "res_dict['모델'][:3]"
   ]
  },
  {
   "cell_type": "code",
   "execution_count": 80,
   "id": "fe9caf6b",
   "metadata": {},
   "outputs": [
    {
     "name": "stdout",
     "output_type": "stream",
     "text": [
      "```json\n",
      "{\n",
      "  \"brand\": \"제네시스\",\n",
      "  \"description\": \"제네시스는 현대자동차의 프리미엄 자동차 브랜드로, 2015년에 독립 브랜드로 출범했습니다. 고급스러운 디자인과 첨단 기술을 바탕으로 한 다양한 차량을 제공합니다.\",\n",
      "  \"key_features\": [\n",
      "    \"고급스러운 인테리어 및 외관 디자인\",\n",
      "    \"첨단 안전 기술 및 운전 보조 시스템\",\n",
      "    \"강력한 성능의 엔진 옵션\",\n",
      "    \"최신 인포테인먼트 시스템\"\n",
      "  ],\n",
      "  \"model_range\": [\n",
      "    {\n",
      "      \"name\": \"G70\",\n",
      "      \"type\": \"세단\",\n",
      "      \"features\": \"스포츠 주행 성능과 고급스러운 내부 공간\"\n",
      "    },\n",
      "    {\n",
      "      \"name\": \"G80\",\n",
      "      \"type\": \"세단\",\n",
      "      \"features\": \"프리미엄 세단으로 고급스러운 편안함 제공\"\n",
      "    },\n",
      "    {\n",
      "      \"name\": \"G90\",\n",
      "      \"type\": \"플래그십 세단\",\n",
      "      \"features\": \"최고급 사양과 최신 기술이 적용된 모델\"\n",
      "    },\n",
      "    {\n",
      "      \"name\": \"GV70\",\n",
      "      \"type\": \"SUV\",\n",
      "      \"features\": \"스포티한 디자인과 실용성을 갖춘 중형 SUV\"\n",
      "    },\n",
      "    {\n",
      "      \"name\": \"GV80\",\n",
      "      \"type\": \"SUV\",\n",
      "      \"features\": \"럭셔리 대형 SUV로 가족 및 장거리 여행에 적합\"\n",
      "    }\n",
      "  ],\n",
      "  \"mission\": \"제네시스는 고급 자동차 시장에서 고객에게 우수한 품질과 만족도를 제공하는 것을 목표로 하고 있습니다.\"\n",
      "}\n",
      "```\n"
     ]
    }
   ],
   "source": [
    "prompt_template = ChatPromptTemplate.from_template(\n",
    "    \"{name}에 대해 설명해줘.\\n{format_instructions}\",\n",
    "    partial_variables = {'format_instructions':parser.get_format_instructions()}\n",
    ")\n",
    "model = ChatOpenAI(model = 'gpt-4o-mini')\n",
    "prompt = prompt_template.invoke({\"name\":\"제네시스\"})\n",
    "res = model.invoke(prompt)\n",
    "print(res.content)"
   ]
  },
  {
   "cell_type": "code",
   "execution_count": null,
   "id": "2aeb7459",
   "metadata": {},
   "outputs": [],
   "source": [
    "# catecory might be changed every time we run."
   ]
  },
  {
   "cell_type": "code",
   "execution_count": 103,
   "id": "60d3147e",
   "metadata": {},
   "outputs": [],
   "source": [
    "from pydantic import BaseModel, Field\n",
    "\n",
    "class ItemSchema(BaseModel):\n",
    "    name: str = Field(description = \"제품의 이름\")\n",
    "    info: str = Field(description = \"제품에 대한 정보\")\n",
    "    release_date: str = Field(description = \"제품이 출시된 일시. yyyy-mm-dd 형시\")\n",
    "    price: int = Field(description = \"제품의 한국 발매 가격\")"
   ]
  },
  {
   "cell_type": "code",
   "execution_count": 104,
   "id": "e1ec3ca4",
   "metadata": {},
   "outputs": [
    {
     "name": "stdout",
     "output_type": "stream",
     "text": [
      "The output should be formatted as a JSON instance that conforms to the JSON schema below.\n",
      "\n",
      "As an example, for the schema {\"properties\": {\"foo\": {\"title\": \"Foo\", \"description\": \"a list of strings\", \"type\": \"array\", \"items\": {\"type\": \"string\"}}}, \"required\": [\"foo\"]}\n",
      "the object {\"foo\": [\"bar\", \"baz\"]} is a well-formatted instance of the schema. The object {\"properties\": {\"foo\": [\"bar\", \"baz\"]}} is not well-formatted.\n",
      "\n",
      "Here is the output schema:\n",
      "```\n",
      "{\"properties\": {\"name\": {\"description\": \"제품의 이름\", \"title\": \"Name\", \"type\": \"string\"}, \"info\": {\"description\": \"제품에 대한 정보\", \"title\": \"Info\", \"type\": \"string\"}, \"release_date\": {\"description\": \"제품이 출시된 일시. yyyy-mm-dd 형시\", \"title\": \"Release Date\", \"type\": \"string\"}, \"price\": {\"description\": \"제품의 한국 발매 가격\", \"title\": \"Price\", \"type\": \"integer\"}}, \"required\": [\"name\", \"info\", \"release_date\", \"price\"]}\n",
      "```\n"
     ]
    }
   ],
   "source": [
    "parser = JsonOutputParser(pydantic_object = ItemSchema)\n",
    "print(parser.get_format_instructions())"
   ]
  },
  {
   "cell_type": "code",
   "execution_count": 113,
   "id": "2e8f8471",
   "metadata": {},
   "outputs": [
    {
     "name": "stdout",
     "output_type": "stream",
     "text": [
      "\n",
      "# Instruction\n",
      "Galaxy 핸드폰에 대해 설명해주세요.\n",
      "# Output Indicator\n",
      "The output should be formatted as a JSON instance that conforms to the JSON schema below.\n",
      "\n",
      "As an example, for the schema {\"properties\": {\"foo\": {\"title\": \"Foo\", \"description\": \"a list of strings\", \"type\": \"array\", \"items\": {\"type\": \"string\"}}}, \"required\": [\"foo\"]}\n",
      "the object {\"foo\": [\"bar\", \"baz\"]} is a well-formatted instance of the schema. The object {\"properties\": {\"foo\": [\"bar\", \"baz\"]}} is not well-formatted.\n",
      "\n",
      "Here is the output schema:\n",
      "```\n",
      "{\"properties\": {\"name\": {\"description\": \"제품의 이름\", \"title\": \"Name\", \"type\": \"string\"}, \"info\": {\"description\": \"제품에 대한 정보\", \"title\": \"Info\", \"type\": \"string\"}, \"release_date\": {\"description\": \"제품이 출시된 일시. yyyy-mm-dd 형시\", \"title\": \"Release Date\", \"type\": \"string\"}, \"price\": {\"description\": \"제품의 한국 발매 가격\", \"title\": \"Price\", \"type\": \"integer\"}}, \"required\": [\"name\", \"info\", \"release_date\", \"price\"]}\n",
      "```\n",
      "\n"
     ]
    }
   ],
   "source": [
    "prompt_template = ChatPromptTemplate.from_template(\n",
    "    dedent(\"\"\"\n",
    "    # Instruction\n",
    "    {name}에 대해 설명해주세요.\n",
    "    # Output Indicator\n",
    "    {format_instructions}\n",
    "    \"\"\")\n",
    "    , partial_variables = {'format_instructions':parser.get_format_instructions()}\n",
    ")\n",
    "prompt = prompt_template.invoke({'name':'Galaxy 핸드폰'})\n",
    "print(prompt.messages[0].content)\n",
    "model = ChatOpenAI(model = 'gpt-4o-mini')\n",
    "response = model.invoke(prompt)"
   ]
  },
  {
   "cell_type": "code",
   "execution_count": null,
   "id": "fd33083c",
   "metadata": {},
   "outputs": [
    {
     "name": "stdout",
     "output_type": "stream",
     "text": [
      "```json\n",
      "{\n",
      "  \"name\": \"Galaxy S23\",\n",
      "  \"info\": \"삼성의 최신 플래그십 스마트폰으로, 강력한 성능과 고급스러운 디자인을 자랑하며, 세련된 카메라 기능과 긴 배터리 수명을 제공합니다.\",\n",
      "  \"release_date\": \"2023-02-17\",\n",
      "  \"price\": 1099000\n",
      "}\n",
      "```\n"
     ]
    },
    {
     "data": {
      "text/plain": [
       "str"
      ]
     },
     "execution_count": 116,
     "metadata": {},
     "output_type": "execute_result"
    }
   ],
   "source": [
    "print(response.content)"
   ]
  },
  {
   "cell_type": "code",
   "execution_count": 115,
   "id": "7a886c3d",
   "metadata": {},
   "outputs": [
    {
     "data": {
      "text/plain": [
       "{'name': 'Galaxy S23',\n",
       " 'info': '삼성의 최신 플래그십 스마트폰으로, 강력한 성능과 고급스러운 디자인을 자랑하며, 세련된 카메라 기능과 긴 배터리 수명을 제공합니다.',\n",
       " 'release_date': '2023-02-17',\n",
       " 'price': 1099000}"
      ]
     },
     "execution_count": 115,
     "metadata": {},
     "output_type": "execute_result"
    }
   ],
   "source": [
    "parsed_response  = parser.invoke(response)\n",
    "parsed_response"
   ]
  },
  {
   "cell_type": "markdown",
   "id": "a02865a6",
   "metadata": {},
   "source": [
    "#### PydanticOutputParser"
   ]
  },
  {
   "cell_type": "code",
   "execution_count": 118,
   "id": "a6aadbd4",
   "metadata": {},
   "outputs": [],
   "source": [
    "from langchain_core.output_parsers import PydanticOutputParser\n",
    "\n",
    "parser = PydanticOutputParser(pydantic_object = ItemSchema)\n",
    "# JSON ----Parser----> Pydantic Model Object"
   ]
  },
  {
   "cell_type": "code",
   "execution_count": 120,
   "id": "0c4a52c1",
   "metadata": {},
   "outputs": [
    {
     "name": "stdout",
     "output_type": "stream",
     "text": [
      "The output should be formatted as a JSON instance that conforms to the JSON schema below.\n",
      "\n",
      "As an example, for the schema {\"properties\": {\"foo\": {\"title\": \"Foo\", \"description\": \"a list of strings\", \"type\": \"array\", \"items\": {\"type\": \"string\"}}}, \"required\": [\"foo\"]}\n",
      "the object {\"foo\": [\"bar\", \"baz\"]} is a well-formatted instance of the schema. The object {\"properties\": {\"foo\": [\"bar\", \"baz\"]}} is not well-formatted.\n",
      "\n",
      "Here is the output schema:\n",
      "```\n",
      "{\"properties\": {\"name\": {\"description\": \"제품의 이름\", \"title\": \"Name\", \"type\": \"string\"}, \"info\": {\"description\": \"제품에 대한 정보\", \"title\": \"Info\", \"type\": \"string\"}, \"release_date\": {\"description\": \"제품이 출시된 일시. yyyy-mm-dd 형시\", \"title\": \"Release Date\", \"type\": \"string\"}, \"price\": {\"description\": \"제품의 한국 발매 가격\", \"title\": \"Price\", \"type\": \"integer\"}}, \"required\": [\"name\", \"info\", \"release_date\", \"price\"]}\n",
      "```\n"
     ]
    }
   ],
   "source": [
    "# same as JsonOutputParser\n",
    "print(parser.get_format_instructions())"
   ]
  },
  {
   "cell_type": "code",
   "execution_count": 122,
   "id": "106f3c3c",
   "metadata": {},
   "outputs": [
    {
     "name": "stdout",
     "output_type": "stream",
     "text": [
      "messages=[HumanMessage(content='\\n# Instruction\\nMac Book에 대해 설명해주세요.\\n# Output Indicator\\nThe output should be formatted as a JSON instance that conforms to the JSON schema below.\\n\\nAs an example, for the schema {\"properties\": {\"foo\": {\"title\": \"Foo\", \"description\": \"a list of strings\", \"type\": \"array\", \"items\": {\"type\": \"string\"}}}, \"required\": [\"foo\"]}\\nthe object {\"foo\": [\"bar\", \"baz\"]} is a well-formatted instance of the schema. The object {\"properties\": {\"foo\": [\"bar\", \"baz\"]}} is not well-formatted.\\n\\nHere is the output schema:\\n```\\n{\"properties\": {\"name\": {\"description\": \"제품의 이름\", \"title\": \"Name\", \"type\": \"string\"}, \"info\": {\"description\": \"제품에 대한 정보\", \"title\": \"Info\", \"type\": \"string\"}, \"release_date\": {\"description\": \"제품이 출시된 일시. yyyy-mm-dd 형시\", \"title\": \"Release Date\", \"type\": \"string\"}, \"price\": {\"description\": \"제품의 한국 발매 가격\", \"title\": \"Price\", \"type\": \"integer\"}}, \"required\": [\"name\", \"info\", \"release_date\", \"price\"]}\\n```\\n', additional_kwargs={}, response_metadata={})]\n"
     ]
    }
   ],
   "source": [
    "prompt_template = ChatPromptTemplate.from_template(\n",
    "    dedent(\"\"\"\n",
    "    # Instruction\n",
    "    {name}에 대해 설명해주세요.\n",
    "    # Output Indicator\n",
    "    {format_instructions}\n",
    "    \"\"\")\n",
    "    , partial_variables = {'format_instructions':parser.get_format_instructions()}\n",
    ")\n",
    "prompt = prompt_template.invoke({'name':'Mac Book'})\n",
    "print(prompt)\n",
    "model = ChatOpenAI(model = 'gpt-4o-mini')\n",
    "response = model.invoke(prompt)\n",
    "parsed_response = parser.invoke(response)"
   ]
  },
  {
   "cell_type": "code",
   "execution_count": 128,
   "id": "8977b676",
   "metadata": {},
   "outputs": [
    {
     "name": "stdout",
     "output_type": "stream",
     "text": [
      "<class '__main__.ItemSchema'>\n",
      "name='MacBook Air' info='MacBook Air는 Apple에서 제작한 슬림한 디자인의 노트북으로, 인텔 및 Apple M 시리즈의 프로세서를 탑재하여 높은 성능과 효율성을 자랑합니다. Retina 디스플레이와 긴 배터리 수명이 특징입니다.' release_date='2022-06-01' price=1799000\n"
     ]
    }
   ],
   "source": [
    "print(type(parsed_response)) # not a dictionary\n",
    "print(parsed_response)"
   ]
  },
  {
   "cell_type": "code",
   "execution_count": 129,
   "id": "956451dd",
   "metadata": {},
   "outputs": [
    {
     "name": "stdout",
     "output_type": "stream",
     "text": [
      "MacBook Air\n",
      "MacBook Air는 Apple에서 제작한 슬림한 디자인의 노트북으로, 인텔 및 Apple M 시리즈의 프로세서를 탑재하여 높은 성능과 효율성을 자랑합니다. Retina 디스플레이와 긴 배터리 수명이 특징입니다.\n",
      "2022-06-01\n",
      "1799000\n"
     ]
    }
   ],
   "source": [
    "print(parsed_response.name, parsed_response.info, parsed_response.release_date, parsed_response.price, sep = '\\n')"
   ]
  },
  {
   "cell_type": "code",
   "execution_count": 135,
   "id": "40b72445",
   "metadata": {},
   "outputs": [],
   "source": [
    "chain = prompt_template | model | parser\n",
    "chained_response = chain.invoke(prompt)"
   ]
  },
  {
   "cell_type": "code",
   "execution_count": 136,
   "id": "27fea895",
   "metadata": {},
   "outputs": [
    {
     "name": "stdout",
     "output_type": "stream",
     "text": [
      "MacBook Air\n",
      "Apple의 MacBook Air는 얇고 가벼운 노트북으로, 뛰어난 휴대성과 긴 배터리 수명을 자랑합니다. M1 칩을 사용하여 높은 성능과 효율성을 제공합니다. 또한, Retina 디스플레이와 쾌적한 키보드를 갖춰 사용자가 다양한 작업을 쉽게 수행할 수 있습니다.\n",
      "2020-11-10\n",
      "1249000\n"
     ]
    }
   ],
   "source": [
    "print(chained_response.name, chained_response.info, chained_response.release_date, chained_response.price, sep = '\\n')"
   ]
  },
  {
   "cell_type": "markdown",
   "id": "49811bc0",
   "metadata": {},
   "source": [
    "#### cf. Typehint\n",
    "\n",
    "```python\n",
    "import typing\n",
    "```"
   ]
  },
  {
   "cell_type": "markdown",
   "id": "7865d3e7",
   "metadata": {},
   "source": [
    "* `variable_name: type [= value]`\n",
    "* `def function(parameter: type) -> return_type:`"
   ]
  },
  {
   "cell_type": "markdown",
   "id": "110b8a7d",
   "metadata": {},
   "source": [
    "**Datatype Class**\n",
    "\n",
    "* Collections\n",
    "\n",
    "    * `List[T]`\n",
    "\n",
    "    * `Dict[K, V]`\n",
    "\n",
    "    * `Tuple[T1, T2]`\n",
    "\n",
    "    * `Set[T]`\n",
    "\n",
    "* Special\n",
    "\n",
    "    * `Optional[T]`\n",
    "\n",
    "    * `Union[T1, T2]`\n",
    "\n",
    "    * `Final[T]`\n",
    "\n",
    "    * `Callable[[ArgType], ReturnType]`\n",
    "\n",
    "    * `Iterable[T]`"
   ]
  },
  {
   "cell_type": "markdown",
   "id": "9747da81",
   "metadata": {},
   "source": [
    "**After Python 3.9+**\n",
    "\n",
    "We can finally use python built-in type classes as typehints.\n",
    "```python\n",
    "numbers: list[int] = [1, 2, 3]\n",
    "settings: dict[str, str]: {'name':'value'}\n",
    "```"
   ]
  },
  {
   "cell_type": "markdown",
   "id": "daa0fb6a",
   "metadata": {},
   "source": [
    "**After Python 3.10+**\n",
    "\n",
    "* Union -> `|`\n",
    "```python\n",
    "# Before\n",
    "num: Union[int, float] = 1\n",
    "# After\n",
    "num: int | float = 1\n",
    "```\n",
    "\n",
    "* TypeAlias Available\n",
    "```python\n",
    "from typing import TypeAlias\n",
    "vector: TypeAlias = list[float]\n",
    "\n",
    "num_list: vector\n",
    "```"
   ]
  },
  {
   "cell_type": "markdown",
   "id": "00964440",
   "metadata": {},
   "source": [
    "**Pydantic**\n",
    "\n",
    "* to help to define data-type class\n",
    "\n",
    "* Type Validity Authentication\n",
    "\n",
    "* Automated Type Conversion\n",
    "\n",
    "* Default Value Preset\n",
    "\n",
    "* Complex Data Structure\n",
    "\n",
    "* Data Serialization & Deserialization"
   ]
  },
  {
   "cell_type": "markdown",
   "id": "f0051331",
   "metadata": {},
   "source": [
    "**HOW??**\n",
    "\n",
    "* Subclass succeeding `BaseModel`\n",
    "\n",
    "* `Field` for validation constraints."
   ]
  },
  {
   "cell_type": "code",
   "execution_count": null,
   "id": "4ea236a0",
   "metadata": {},
   "outputs": [
    {
     "name": "stdout",
     "output_type": "stream",
     "text": [
      "홍길동 20 서울\n"
     ]
    }
   ],
   "source": [
    "# Common case\n",
    "class Person:\n",
    "\n",
    "    def __init__(self, name, age, address):  # attributes\n",
    "        self.name = name\n",
    "        if isinstance(age, int):\n",
    "            self.age = age\n",
    "        else:\n",
    "            raise Exception(\"나이 타입이 아닙니다.\")\n",
    "        self.address = address\n",
    "\n",
    "p = Person(\"홍길동\", 20, \"서울\")\n",
    "# p = Person(\"홍길동\", \"서른\", \"서울\")\n",
    "print(p.name, p.age, p.address)\n",
    "# we want to prevent users from putting other data-types into self.age"
   ]
  },
  {
   "cell_type": "code",
   "execution_count": 155,
   "id": "7ed5bf25",
   "metadata": {},
   "outputs": [],
   "source": [
    "from pydantic import BaseModel\n",
    "\n",
    "class Member(BaseModel):\n",
    "    # Set attributes by defining CLASS VARIABLES\n",
    "    name: str\n",
    "    age: int | float\n",
    "    nickname: str | None = None\n",
    "    hobby: list[str]"
   ]
  },
  {
   "cell_type": "code",
   "execution_count": 160,
   "id": "485be24f",
   "metadata": {},
   "outputs": [
    {
     "data": {
      "text/plain": [
       "Member(name='이순신', age=30, nickname='거북선', hobby=['게임', '영화'])"
      ]
     },
     "execution_count": 160,
     "metadata": {},
     "output_type": "execute_result"
    }
   ],
   "source": [
    "m = Member(name = '이순신', age = 30, nickname = '거북선', hobby = ['게임', '영화'])\n",
    "m"
   ]
  },
  {
   "cell_type": "code",
   "execution_count": 161,
   "id": "83f002af",
   "metadata": {},
   "outputs": [
    {
     "data": {
      "text/plain": [
       "Member(name='이순신', age=30.5, nickname='거북선', hobby=['게임', '영화'])"
      ]
     },
     "execution_count": 161,
     "metadata": {},
     "output_type": "execute_result"
    }
   ],
   "source": [
    "m.age = 30.5\n",
    "m"
   ]
  },
  {
   "cell_type": "code",
   "execution_count": 162,
   "id": "50248738",
   "metadata": {},
   "outputs": [
    {
     "ename": "ValidationError",
     "evalue": "2 validation errors for Member\nage.int\n  Input should be a valid integer, unable to parse string as an integer [type=int_parsing, input_value='서른살', input_type=str]\n    For further information visit https://errors.pydantic.dev/2.11/v/int_parsing\nage.float\n  Input should be a valid number, unable to parse string as a number [type=float_parsing, input_value='서른살', input_type=str]\n    For further information visit https://errors.pydantic.dev/2.11/v/float_parsing",
     "output_type": "error",
     "traceback": [
      "\u001b[31m---------------------------------------------------------------------------\u001b[39m",
      "\u001b[31mValidationError\u001b[39m                           Traceback (most recent call last)",
      "\u001b[36mCell\u001b[39m\u001b[36m \u001b[39m\u001b[32mIn[162]\u001b[39m\u001b[32m, line 1\u001b[39m\n\u001b[32m----> \u001b[39m\u001b[32m1\u001b[39m m = \u001b[43mMember\u001b[49m\u001b[43m(\u001b[49m\u001b[43mname\u001b[49m\u001b[43m \u001b[49m\u001b[43m=\u001b[49m\u001b[43m \u001b[49m\u001b[33;43m'\u001b[39;49m\u001b[33;43m이순신\u001b[39;49m\u001b[33;43m'\u001b[39;49m\u001b[43m,\u001b[49m\u001b[43m \u001b[49m\u001b[43mage\u001b[49m\u001b[43m \u001b[49m\u001b[43m=\u001b[49m\u001b[43m \u001b[49m\u001b[33;43m'\u001b[39;49m\u001b[33;43m서른살\u001b[39;49m\u001b[33;43m'\u001b[39;49m\u001b[43m,\u001b[49m\u001b[43m \u001b[49m\u001b[43mnickname\u001b[49m\u001b[43m \u001b[49m\u001b[43m=\u001b[49m\u001b[43m \u001b[49m\u001b[33;43m'\u001b[39;49m\u001b[33;43m거북선\u001b[39;49m\u001b[33;43m'\u001b[39;49m\u001b[43m,\u001b[49m\u001b[43m \u001b[49m\u001b[43mhobby\u001b[49m\u001b[43m \u001b[49m\u001b[43m=\u001b[49m\u001b[43m \u001b[49m\u001b[43m[\u001b[49m\u001b[33;43m'\u001b[39;49m\u001b[33;43m게임\u001b[39;49m\u001b[33;43m'\u001b[39;49m\u001b[43m,\u001b[49m\u001b[43m \u001b[49m\u001b[33;43m'\u001b[39;49m\u001b[33;43m영화\u001b[39;49m\u001b[33;43m'\u001b[39;49m\u001b[43m]\u001b[49m\u001b[43m)\u001b[49m\n\u001b[32m      2\u001b[39m m\n",
      "\u001b[36mFile \u001b[39m\u001b[32mc:\\Users\\Jaebeom\\anaconda3\\envs\\lang_env\\Lib\\site-packages\\pydantic\\main.py:253\u001b[39m, in \u001b[36mBaseModel.__init__\u001b[39m\u001b[34m(self, **data)\u001b[39m\n\u001b[32m    251\u001b[39m \u001b[38;5;66;03m# `__tracebackhide__` tells pytest and some other tools to omit this function from tracebacks\u001b[39;00m\n\u001b[32m    252\u001b[39m __tracebackhide__ = \u001b[38;5;28;01mTrue\u001b[39;00m\n\u001b[32m--> \u001b[39m\u001b[32m253\u001b[39m validated_self = \u001b[38;5;28;43mself\u001b[39;49m\u001b[43m.\u001b[49m\u001b[43m__pydantic_validator__\u001b[49m\u001b[43m.\u001b[49m\u001b[43mvalidate_python\u001b[49m\u001b[43m(\u001b[49m\u001b[43mdata\u001b[49m\u001b[43m,\u001b[49m\u001b[43m \u001b[49m\u001b[43mself_instance\u001b[49m\u001b[43m=\u001b[49m\u001b[38;5;28;43mself\u001b[39;49m\u001b[43m)\u001b[49m\n\u001b[32m    254\u001b[39m \u001b[38;5;28;01mif\u001b[39;00m \u001b[38;5;28mself\u001b[39m \u001b[38;5;129;01mis\u001b[39;00m \u001b[38;5;129;01mnot\u001b[39;00m validated_self:\n\u001b[32m    255\u001b[39m     warnings.warn(\n\u001b[32m    256\u001b[39m         \u001b[33m'\u001b[39m\u001b[33mA custom validator is returning a value other than `self`.\u001b[39m\u001b[38;5;130;01m\\n\u001b[39;00m\u001b[33m'\u001b[39m\n\u001b[32m    257\u001b[39m         \u001b[33m\"\u001b[39m\u001b[33mReturning anything other than `self` from a top level model validator isn\u001b[39m\u001b[33m'\u001b[39m\u001b[33mt supported when validating via `__init__`.\u001b[39m\u001b[38;5;130;01m\\n\u001b[39;00m\u001b[33m\"\u001b[39m\n\u001b[32m    258\u001b[39m         \u001b[33m'\u001b[39m\u001b[33mSee the `model_validator` docs (https://docs.pydantic.dev/latest/concepts/validators/#model-validators) for more details.\u001b[39m\u001b[33m'\u001b[39m,\n\u001b[32m    259\u001b[39m         stacklevel=\u001b[32m2\u001b[39m,\n\u001b[32m    260\u001b[39m     )\n",
      "\u001b[31mValidationError\u001b[39m: 2 validation errors for Member\nage.int\n  Input should be a valid integer, unable to parse string as an integer [type=int_parsing, input_value='서른살', input_type=str]\n    For further information visit https://errors.pydantic.dev/2.11/v/int_parsing\nage.float\n  Input should be a valid number, unable to parse string as a number [type=float_parsing, input_value='서른살', input_type=str]\n    For further information visit https://errors.pydantic.dev/2.11/v/float_parsing"
     ]
    }
   ],
   "source": [
    "m = Member(name = '이순신', age = '서른살', nickname = '거북선', hobby = ['게임', '영화'])\n",
    "m"
   ]
  },
  {
   "cell_type": "markdown",
   "id": "7fefbcad",
   "metadata": {},
   "source": [
    "**Field**\n",
    "\n",
    "further constraints."
   ]
  },
  {
   "cell_type": "code",
   "execution_count": null,
   "id": "5efd6ab7",
   "metadata": {},
   "outputs": [],
   "source": [
    "# Filed\n",
    "from pydantic import BaseModel, Field\n",
    "\n",
    "class Member(BaseModel):\n",
    "    name: str = Field(title = '회원이름', decription = '회원의 이름을 저장')\n",
    "    age: int | float = Field(title = '회원나이', description = '회원의 나이를 저장.', gt = 0)\n",
    "    nickname: str | None = Field(default = None, title = '별칭', description = '회원의 별명')\n",
    "    hobby: list[str] = Field(title = '취미', description = '회원의 취미', max_length = 2, min_length = 1)\n",
    "    # If no default setting: it's a necessary attribute."
   ]
  },
  {
   "cell_type": "code",
   "execution_count": 172,
   "id": "3017ada7",
   "metadata": {},
   "outputs": [
    {
     "data": {
      "text/plain": [
       "Member(name='홍길동', age=20, nickname='의적', hobby=['독서', '게임'])"
      ]
     },
     "execution_count": 172,
     "metadata": {},
     "output_type": "execute_result"
    }
   ],
   "source": [
    "m = Member(name = '홍길동', age = 20, nickname = '의적', hobby = ['독서', '게임'])\n",
    "m"
   ]
  },
  {
   "cell_type": "code",
   "execution_count": null,
   "id": "6b51bd90",
   "metadata": {},
   "outputs": [
    {
     "data": {
      "text/plain": [
       "Member(name='홍길동', age=20, nickname=None, hobby=['독서', '게임'])"
      ]
     },
     "execution_count": 174,
     "metadata": {},
     "output_type": "execute_result"
    }
   ],
   "source": [
    "m = Member(age = 20, hobby = ['독서', '게임'])\n",
    "m"
   ]
  },
  {
   "cell_type": "code",
   "execution_count": null,
   "id": "a5389d0d",
   "metadata": {},
   "outputs": [],
   "source": []
  }
 ],
 "metadata": {
  "kernelspec": {
   "display_name": "lang_env",
   "language": "python",
   "name": "python3"
  },
  "language_info": {
   "codemirror_mode": {
    "name": "ipython",
    "version": 3
   },
   "file_extension": ".py",
   "mimetype": "text/x-python",
   "name": "python",
   "nbconvert_exporter": "python",
   "pygments_lexer": "ipython3",
   "version": "3.12.11"
  }
 },
 "nbformat": 4,
 "nbformat_minor": 5
}
