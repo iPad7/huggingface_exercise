{
 "cells": [
  {
   "cell_type": "markdown",
   "id": "a4555c73",
   "metadata": {},
   "source": [
    "# 2025.06.13. (FRI)"
   ]
  },
  {
   "cell_type": "code",
   "execution_count": 1,
   "id": "6f5a64ae",
   "metadata": {},
   "outputs": [
    {
     "data": {
      "text/plain": [
       "True"
      ]
     },
     "execution_count": 1,
     "metadata": {},
     "output_type": "execute_result"
    }
   ],
   "source": [
    "from dotenv import load_dotenv\n",
    "\n",
    "load_dotenv()"
   ]
  },
  {
   "cell_type": "markdown",
   "id": "8ef5dbda",
   "metadata": {},
   "source": [
    "## RAG(Retrieval Augmented Generation)"
   ]
  },
  {
   "cell_type": "markdown",
   "id": "9798abb7",
   "metadata": {},
   "source": [
    "### Chunking\n",
    "\n",
    "1. Resolving Context Number Limitation\n",
    "\n",
    "2. Searching Performance Increase(Indexing)\n",
    "\n",
    "3. Computation Efficiency(Similarity, Embedding: fast at small units)"
   ]
  },
  {
   "cell_type": "markdown",
   "id": "089e2553",
   "metadata": {},
   "source": [
    "### Splitter\n",
    "\n",
    "* `CharacterTextSplitter`: `\\n\\n`\n",
    "\n",
    "    * `chunk_size`, `separator(str)`\n",
    "\n",
    "* `RecursiveCharacterTextSplitter`: `\\n\\n` -> `\\n` -> `\" \"` -> `\"\"`\n",
    "\n",
    "    * `chunk_size`, `chunk_overlap`, `separators(list)`\n",
    "\n",
    "* Params workflow: Separation(`separator`) -> If sum of neighbor chunks smaller than `chunk_size`, CONCATENATION!\n",
    "\n",
    "* `splitter.split_document(Iterable[Document]) -> list[Document]`\n",
    "\n",
    "* `splitter.split_text(str) -> list[str]`"
   ]
  },
  {
   "cell_type": "code",
   "execution_count": 2,
   "id": "e47211bb",
   "metadata": {},
   "outputs": [],
   "source": [
    "text = \"\"\"가각간갇갈갉갊감갑값갓갔강갖갗같갚갛개객갠갤갬갭갯갰\n",
    "\n",
    "aadlskfjadklsfjakldfjadklsjadfskl갸갹갼걀걋걍걔걘걜거걱건걷걸걺검겁것겉겊겋게겐\n",
    "\n",
    "띱띳띵라락란랄람랍랏랐\n",
    "\n",
    "랑랒랖랗래랙랜랠램랩랫랬랭랴략랸럇량러럭런럴럼럽럿렀렁렇레렉렌렐렘렙렛렝나낙낚ASDFFGHJJKKLLLQWE\n",
    "\n",
    "멨멩며 \n",
    "\n",
    "멱면멸몃몄명몇몌모목몫몬몰몲몸몹못몽뫄뫈뫘뫙뫼묀묄묍묏묑묘묜묠묩묫무묵묶문묻물묽묾뭄뭅뭇뭉뭍뭏ABCDEFGHIJ\"\"\""
   ]
  },
  {
   "cell_type": "code",
   "execution_count": 3,
   "id": "401c8183",
   "metadata": {},
   "outputs": [
    {
     "data": {
      "text/plain": [
       "(6, list)"
      ]
     },
     "execution_count": 3,
     "metadata": {},
     "output_type": "execute_result"
    }
   ],
   "source": [
    "from langchain.text_splitter import CharacterTextSplitter, RecursiveCharacterTextSplitter\n",
    "\n",
    "splitter = CharacterTextSplitter(\n",
    "    chunk_size = 60,\n",
    "    chunk_overlap = 10,\n",
    "    # separator = \"\" # default = '\\n\\n'\n",
    ")\n",
    "\n",
    "docs = splitter.split_text(text)\n",
    "len(docs), type(docs)"
   ]
  },
  {
   "cell_type": "code",
   "execution_count": 4,
   "id": "43d5c4ab",
   "metadata": {},
   "outputs": [
    {
     "name": "stdout",
     "output_type": "stream",
     "text": [
      "26  가각간갇갈갉갊감갑값갓갔강갖갗같갚갛개객갠갤갬갭갯갰\n",
      "56  aadlskfjadklsfjakldfjadklsjadfskl갸갹갼걀걋걍걔걘걜거걱건걷걸걺검겁것겉겊겋게겐\n",
      "11  띱띳띵라락란랄람랍랏랐\n",
      "56  랑랒랖랗래랙랜랠램랩랫랬랭랴략랸럇량러럭런럴럼럽럿렀렁렇레렉렌렐렘렙렛렝나낙낚ASDFFGHJJKKLLLQWE\n",
      " 3  멨멩며\n",
      "57  멱면멸몃몄명몇몌모목몫몬몰몲몸몹못몽뫄뫈뫘뫙뫼묀묄묍묏묑묘묜묠묩묫무묵묶문묻물묽묾뭄뭅뭇뭉뭍뭏ABCDEFGHIJ\n"
     ]
    }
   ],
   "source": [
    "for doc in docs:\n",
    "    print(f\"{len(doc):^3}\", doc)"
   ]
  },
  {
   "cell_type": "code",
   "execution_count": 5,
   "id": "5e4cff27",
   "metadata": {},
   "outputs": [
    {
     "data": {
      "text/plain": [
       "(5, list)"
      ]
     },
     "execution_count": 5,
     "metadata": {},
     "output_type": "execute_result"
    }
   ],
   "source": [
    "splitter = CharacterTextSplitter(\n",
    "    chunk_size = 60,\n",
    "    chunk_overlap = 10,\n",
    "    separator = \"\"\n",
    ")\n",
    "\n",
    "docs = splitter.split_text(text)\n",
    "len(docs), type(docs)"
   ]
  },
  {
   "cell_type": "code",
   "execution_count": 6,
   "id": "bf605543",
   "metadata": {},
   "outputs": [
    {
     "name": "stdout",
     "output_type": "stream",
     "text": [
      "60  가각간갇갈갉갊감갑값갓갔강갖갗같갚갛개객갠갤갬갭갯갰\n",
      "\n",
      "aadlskfjadklsfjakldfjadklsjadfsk\n",
      "60  dklsjadfskl갸갹갼걀걋걍걔걘걜거걱건걷걸걺검겁것겉겊겋게겐\n",
      "\n",
      "띱띳띵라락란랄람랍랏랐\n",
      "\n",
      "랑랒랖랗래랙랜랠램랩랫\n",
      "60  랒랖랗래랙랜랠램랩랫랬랭랴략랸럇량러럭런럴럼럽럿렀렁렇레렉렌렐렘렙렛렝나낙낚ASDFFGHJJKKLLLQWE\n",
      "\n",
      "멨멩며\n",
      "60  LLQWE\n",
      "\n",
      "멨멩며 \n",
      "\n",
      "멱면멸몃몄명몇몌모목몫몬몰몲몸몹못몽뫄뫈뫘뫙뫼묀묄묍묏묑묘묜묠묩묫무묵묶문묻물묽묾뭄뭅뭇뭉뭍뭏\n",
      "20  묻물묽묾뭄뭅뭇뭉뭍뭏ABCDEFGHIJ\n"
     ]
    }
   ],
   "source": [
    "for doc in docs:\n",
    "    print(f\"{len(doc):^3}\", doc)"
   ]
  },
  {
   "cell_type": "code",
   "execution_count": 7,
   "id": "f6c187f1",
   "metadata": {},
   "outputs": [
    {
     "data": {
      "text/plain": [
       "(list, 5, langchain_core.documents.base.Document)"
      ]
     },
     "execution_count": 7,
     "metadata": {},
     "output_type": "execute_result"
    }
   ],
   "source": [
    "from langchain_core.documents import Document\n",
    "document = Document(page_content = text)\n",
    "docs2 = splitter.split_documents([document])\n",
    "type(docs2), len(docs2), type(docs2[0])"
   ]
  },
  {
   "cell_type": "code",
   "execution_count": 8,
   "id": "1c3f7512",
   "metadata": {},
   "outputs": [
    {
     "name": "stdout",
     "output_type": "stream",
     "text": [
      "page_content='가각간갇갈갉갊감갑값갓갔강갖갗같갚갛개객갠갤갬갭갯갰\n",
      "\n",
      "aadlskfjadklsfjakldfjadklsjadfsk'\n",
      "page_content='dklsjadfskl갸갹갼걀걋걍걔걘걜거걱건걷걸걺검겁것겉겊겋게겐\n",
      "\n",
      "띱띳띵라락란랄람랍랏랐\n",
      "\n",
      "랑랒랖랗래랙랜랠램랩랫'\n",
      "page_content='랒랖랗래랙랜랠램랩랫랬랭랴략랸럇량러럭런럴럼럽럿렀렁렇레렉렌렐렘렙렛렝나낙낚ASDFFGHJJKKLLLQWE\n",
      "\n",
      "멨멩며'\n",
      "page_content='LLQWE\n",
      "\n",
      "멨멩며 \n",
      "\n",
      "멱면멸몃몄명몇몌모목몫몬몰몲몸몹못몽뫄뫈뫘뫙뫼묀묄묍묏묑묘묜묠묩묫무묵묶문묻물묽묾뭄뭅뭇뭉뭍뭏'\n",
      "page_content='묻물묽묾뭄뭅뭇뭉뭍뭏ABCDEFGHIJ'\n"
     ]
    }
   ],
   "source": [
    "for d in docs2:\n",
    "    print(d)"
   ]
  },
  {
   "cell_type": "code",
   "execution_count": 9,
   "id": "16311530",
   "metadata": {},
   "outputs": [],
   "source": [
    "splitter2 = RecursiveCharacterTextSplitter(\n",
    "    chunk_size = 50,\n",
    "    chunk_overlap = 10,\n",
    "    # separators = []\n",
    ")"
   ]
  },
  {
   "cell_type": "code",
   "execution_count": 10,
   "id": "69488137",
   "metadata": {},
   "outputs": [
    {
     "name": "stdout",
     "output_type": "stream",
     "text": [
      "<class 'list'> 9\n"
     ]
    }
   ],
   "source": [
    "result = splitter2.split_text(text)\n",
    "print(type(result), len(result))"
   ]
  },
  {
   "cell_type": "code",
   "execution_count": 11,
   "id": "87728039",
   "metadata": {},
   "outputs": [
    {
     "name": "stdout",
     "output_type": "stream",
     "text": [
      "26  가각간갇갈갉갊감갑값갓갔강갖갗같갚갛개객갠갤갬갭갯갰\n",
      "======================================================================\n",
      "49  aadlskfjadklsfjakldfjadklsjadfskl갸갹갼걀걋걍걔걘걜거걱건걷걸걺검\n",
      "======================================================================\n",
      "17  걔걘걜거걱건걷걸걺검겁것겉겊겋게겐\n",
      "======================================================================\n",
      "11  띱띳띵라락란랄람랍랏랐\n",
      "======================================================================\n",
      "49  랑랒랖랗래랙랜랠램랩랫랬랭랴략랸럇량러럭런럴럼럽럿렀렁렇레렉렌렐렘렙렛렝나낙낚ASDFFGHJJK\n",
      "======================================================================\n",
      "17  ASDFFGHJJKKLLLQWE\n",
      "======================================================================\n",
      "3   멨멩며\n",
      "======================================================================\n",
      "49  멱면멸몃몄명몇몌모목몫몬몰몲몸몹못몽뫄뫈뫘뫙뫼묀묄묍묏묑묘묜묠묩묫무묵묶문묻물묽묾뭄뭅뭇뭉뭍뭏AB\n",
      "======================================================================\n",
      "18  묽묾뭄뭅뭇뭉뭍뭏ABCDEFGHIJ\n",
      "======================================================================\n"
     ]
    }
   ],
   "source": [
    "for r in result:\n",
    "    print(f\"{len(r):<3}\", r)\n",
    "    print(\"=\"*70)"
   ]
  },
  {
   "cell_type": "code",
   "execution_count": 12,
   "id": "62a55f18",
   "metadata": {},
   "outputs": [
    {
     "data": {
      "text/plain": [
       "9"
      ]
     },
     "execution_count": 12,
     "metadata": {},
     "output_type": "execute_result"
    }
   ],
   "source": [
    "result2 = splitter2.split_documents([document])\n",
    "len(result2)"
   ]
  },
  {
   "cell_type": "code",
   "execution_count": 13,
   "id": "7f4576af",
   "metadata": {},
   "outputs": [
    {
     "data": {
      "text/plain": [
       "[Document(metadata={}, page_content='가각간갇갈갉갊감갑값갓갔강갖갗같갚갛개객갠갤갬갭갯갰'),\n",
       " Document(metadata={}, page_content='aadlskfjadklsfjakldfjadklsjadfskl갸갹갼걀걋걍걔걘걜거걱건걷걸걺검'),\n",
       " Document(metadata={}, page_content='걔걘걜거걱건걷걸걺검겁것겉겊겋게겐'),\n",
       " Document(metadata={}, page_content='띱띳띵라락란랄람랍랏랐'),\n",
       " Document(metadata={}, page_content='랑랒랖랗래랙랜랠램랩랫랬랭랴략랸럇량러럭런럴럼럽럿렀렁렇레렉렌렐렘렙렛렝나낙낚ASDFFGHJJK'),\n",
       " Document(metadata={}, page_content='ASDFFGHJJKKLLLQWE'),\n",
       " Document(metadata={}, page_content='멨멩며'),\n",
       " Document(metadata={}, page_content='멱면멸몃몄명몇몌모목몫몬몰몲몸몹못몽뫄뫈뫘뫙뫼묀묄묍묏묑묘묜묠묩묫무묵묶문묻물묽묾뭄뭅뭇뭉뭍뭏AB'),\n",
       " Document(metadata={}, page_content='묽묾뭄뭅뭇뭉뭍뭏ABCDEFGHIJ')]"
      ]
     },
     "execution_count": 13,
     "metadata": {},
     "output_type": "execute_result"
    }
   ],
   "source": [
    "result2"
   ]
  },
  {
   "cell_type": "code",
   "execution_count": 14,
   "id": "4847d89e",
   "metadata": {},
   "outputs": [
    {
     "data": {
      "text/plain": [
       "61"
      ]
     },
     "execution_count": 14,
     "metadata": {},
     "output_type": "execute_result"
    }
   ],
   "source": [
    "# Load and Split\n",
    "\n",
    "from langchain_community.document_loaders import TextLoader\n",
    "from langchain.text_splitter import RecursiveCharacterTextSplitter\n",
    "\n",
    "path = 'data/olympic.txt'\n",
    "loader = TextLoader(path)\n",
    "text_file = loader.load()\n",
    "# text_content = [doc.page_content for doc in text_file]\n",
    "\n",
    "splitter = RecursiveCharacterTextSplitter(chunk_size = 500, chunk_overlap = 100)\n",
    "split_docs = splitter.split_documents(text_file)\n",
    "len(split_docs)"
   ]
  },
  {
   "cell_type": "code",
   "execution_count": 15,
   "id": "cb6fcd10",
   "metadata": {},
   "outputs": [
    {
     "data": {
      "text/plain": [
       "[3,\n",
       " 498,\n",
       " 403,\n",
       " 414,\n",
       " 239,\n",
       " 262,\n",
       " 5,\n",
       " 496,\n",
       " 222,\n",
       " 270,\n",
       " 338,\n",
       " 310,\n",
       " 434,\n",
       " 456,\n",
       " 498,\n",
       " 5,\n",
       " 496,\n",
       " 135,\n",
       " 446,\n",
       " 413,\n",
       " 4,\n",
       " 498,\n",
       " 120,\n",
       " 356,\n",
       " 233,\n",
       " 400,\n",
       " 392,\n",
       " 310,\n",
       " 221,\n",
       " 496,\n",
       " 226,\n",
       " 428,\n",
       " 362,\n",
       " 495,\n",
       " 379,\n",
       " 311,\n",
       " 355,\n",
       " 268,\n",
       " 405,\n",
       " 2,\n",
       " 495,\n",
       " 495,\n",
       " 242,\n",
       " 362,\n",
       " 493,\n",
       " 374,\n",
       " 236,\n",
       " 329,\n",
       " 297,\n",
       " 459,\n",
       " 498,\n",
       " 154,\n",
       " 401,\n",
       " 444,\n",
       " 466,\n",
       " 352,\n",
       " 499,\n",
       " 111,\n",
       " 10,\n",
       " 498,\n",
       " 217]"
      ]
     },
     "execution_count": 15,
     "metadata": {},
     "output_type": "execute_result"
    }
   ],
   "source": [
    "len_list = [len(d.page_content) for d in split_docs]\n",
    "len_list"
   ]
  },
  {
   "cell_type": "code",
   "execution_count": 16,
   "id": "dce5cbe2",
   "metadata": {},
   "outputs": [
    {
     "data": {
      "text/plain": [
       "'올림픽'"
      ]
     },
     "execution_count": 16,
     "metadata": {},
     "output_type": "execute_result"
    }
   ],
   "source": [
    "split_docs[0].page_content"
   ]
  },
  {
   "cell_type": "code",
   "execution_count": 17,
   "id": "4f2a9b3e",
   "metadata": {},
   "outputs": [
    {
     "name": "stdout",
     "output_type": "stream",
     "text": [
      "Index 3   또한 20세기에 올림픽 운동이 발전함에 따라, IOC는 변화하는 세계의 사회 환경에 적응해야 했다. 이러한 변화의 예로는 얼음과 눈을 이용한 경기 종목을 다루는 동계 올림픽, 장애인이 참여하는 패럴림픽, 스페셜 올림픽, 데플림픽, 10대 선수들이 참여하는 유스 올림픽 등을 들 수 있다. 그 뿐만 아니라 IOC는 20세기의 변화하는 경제, 정치, 기술 환경에도 적응해야 했다. 그리하여 올림픽은 피에르 드 쿠베르탱이 기대했던 순수한 아마추어 정신에서 벗어나서, 프로 선수도 참가할 수 있게 되었다. 올림픽은 점차 대중 매체의 중요성이 커짐에 따라 올림픽의 상업화와 기업 후원을 놓고도 논란이 생겨났다. 또한 올림픽을 치르며 발생한 보이콧, 도핑, 심판 매수, 테러와 같은 수많은 일들은 올림픽이 더욱 굳건히 성장할 수 있는 원동력이 되었다.\n"
     ]
    }
   ],
   "source": [
    "idx = 3\n",
    "print(f\"Index {idx:<3}\",split_docs[idx].page_content)"
   ]
  },
  {
   "cell_type": "code",
   "execution_count": 18,
   "id": "6b1c5ca3",
   "metadata": {},
   "outputs": [
    {
     "data": {
      "text/plain": [
       "39"
      ]
     },
     "execution_count": 18,
     "metadata": {},
     "output_type": "execute_result"
    }
   ],
   "source": [
    "from langchain_community.document_loaders import PyPDFLoader\n",
    "\n",
    "path = \"data/novel/메밀꽃_필_무렵_이효석.pdf\"\n",
    "loader = PyPDFLoader(path)\n",
    "memilkot = loader.load()\n",
    "\n",
    "split_memilkot = splitter.split_documents(memilkot)\n",
    "len(split_memilkot)"
   ]
  },
  {
   "cell_type": "code",
   "execution_count": 19,
   "id": "bda6b6a9",
   "metadata": {},
   "outputs": [
    {
     "name": "stdout",
     "output_type": "stream",
     "text": [
      "1 \n",
      "메밀꽃  필  무렵\n",
      "Exported from Wikisource on 2024 년  11 월  24 일\n"
     ]
    }
   ],
   "source": [
    "idx = 0\n",
    "print(split_memilkot[idx].page_content)"
   ]
  },
  {
   "cell_type": "code",
   "execution_count": 20,
   "id": "4470c777",
   "metadata": {},
   "outputs": [
    {
     "data": {
      "text/plain": [
       "39"
      ]
     },
     "execution_count": 20,
     "metadata": {},
     "output_type": "execute_result"
    }
   ],
   "source": [
    "split_docs = loader.load_and_split(splitter)   # both loading and splitting\n",
    "len(split_docs)"
   ]
  },
  {
   "cell_type": "markdown",
   "id": "559f6e6c",
   "metadata": {},
   "source": [
    "### Tokenbase Splittng\n",
    "\n",
    "* LLM has a limitation of the number of input tokens"
   ]
  },
  {
   "cell_type": "code",
   "execution_count": 21,
   "id": "acc6c190",
   "metadata": {},
   "outputs": [
    {
     "data": {
      "text/plain": [
       "60"
      ]
     },
     "execution_count": 21,
     "metadata": {},
     "output_type": "execute_result"
    }
   ],
   "source": [
    "splitter = RecursiveCharacterTextSplitter.from_tiktoken_encoder(\n",
    "    model_name = 'gpt-4o-mini',\n",
    "    chunk_size = 200,\n",
    "    chunk_overlap = 0)\n",
    "\n",
    "docs = loader.load_and_split(splitter)\n",
    "len(docs)"
   ]
  },
  {
   "cell_type": "code",
   "execution_count": 22,
   "id": "d3089b3a",
   "metadata": {},
   "outputs": [
    {
     "name": "stdout",
     "output_type": "stream",
     "text": [
      "1 \n",
      "메밀꽃  필  무렵\n",
      "Exported from Wikisource on 2024 년  11 월  24 일\n"
     ]
    }
   ],
   "source": [
    "idx = 0\n",
    "print(docs[idx].page_content)"
   ]
  },
  {
   "cell_type": "code",
   "execution_count": 23,
   "id": "3d3731eb",
   "metadata": {},
   "outputs": [
    {
     "data": {
      "text/plain": [
       "20"
      ]
     },
     "execution_count": 23,
     "metadata": {},
     "output_type": "execute_result"
    }
   ],
   "source": [
    "from transformers import AutoTokenizer\n",
    "\n",
    "model_id = 'beomi/kcbert-base'\n",
    "tokenizer = AutoTokenizer.from_pretrained(model_id)\n",
    "splitter = RecursiveCharacterTextSplitter.from_huggingface_tokenizer(\n",
    "    tokenizer = tokenizer,\n",
    "    chunk_size = 500,\n",
    "    chunk_overlap = 0 \n",
    ")\n",
    "\n",
    "docs = loader.load_and_split(splitter)\n",
    "len(docs)"
   ]
  },
  {
   "cell_type": "code",
   "execution_count": 24,
   "id": "86ebd1cc",
   "metadata": {},
   "outputs": [
    {
     "name": "stdout",
     "output_type": "stream",
     "text": [
      "1 1 \n",
      "조그만  전방이나  하나  벌이구  식구들을  부르겠어 . 사시장천\n",
      "[20] 뚜벅뚜벅  걷기란  여 간이래야 지 .”\n",
      "“ 옛  처녀나  만나면  같이나  살까 - 난  꺼꾸러질  때까지  이  길\n",
      "걷고  저  달  볼  테야 .”\n",
      "산길을  벗어 나니  큰길로  틔어 졌다 . 꽁무니의  동이도  앞 으로\n",
      "나서  나귀들은  가로  늘어 섰다 .\n",
      "“ 총각두  젊겠다 , 지금이  한창  시절이렸다 . 충주집에 서는  그\n",
      "만  실수를  해서  그  꼴이  되었 으나  설게  생각  말게 .”\n",
      "“ 처 , 천만에 요 . 되려  부끄러워요 . 계집이란  지금  웬  제격인가\n",
      "요 . 자나깨나  어 머니  생각뿐인데요 .”\n",
      "허  생원의  이야 기로  실심해  한  끝이라  동이의  어 조는  한풀\n",
      "수그러진  것이었 다 .\n",
      "“ 아 비  어 미란  말에  가슴이  터지는  것도  같았 으나  제겐  아 버\n",
      "지가  없 어 요 . 피붙이라고는  어 머니  하나뿐인  걸요 .”\n",
      "“ 돌아 가셨나 ?”\n",
      "“ 당초부터  없 어 요 .”\n",
      "“ 그런  법이  세상에 …”\n",
      "생원과  선달이  야 단스럽게  껄껄들  웃으니 , 동이는  정색하고\n",
      "우길  수밖에 는  없 었 다 .\n"
     ]
    }
   ],
   "source": [
    "idx = 10\n",
    "print(docs[idx].page_content)"
   ]
  },
  {
   "cell_type": "markdown",
   "id": "ab262f5e",
   "metadata": {},
   "source": [
    "## Vector DB\n",
    "\n",
    "* Chunks to embedding vectors\n",
    "\n",
    "* Langchain makes whole different embedding models unify as a single interface.\n",
    "\n",
    "* `embed_documents(texts: list[str])`\n",
    "\n",
    "* `embed_query(text: str)`"
   ]
  },
  {
   "cell_type": "code",
   "execution_count": 25,
   "id": "4adb460c",
   "metadata": {},
   "outputs": [],
   "source": [
    "docs = [\n",
    "        \"나는 고양이와 개 중 어떤 반려동물로 개를 키우고 싶습니다.\",\n",
    "        \"이 강아지 품종은 진도개 입니다. 국제 표준으로 중대형견으로 분류되며 다리가 길어 체고가 높은 편에 속합니다.\",\n",
    "        \"日本の市内バスの運賃は主に距離によって決まり、地域やバス会社によって異なる場合があります\",                  # 일본의 시내버스 요금은 주로 거리에 따라 결정되며, 지역 및 버스 회사에 따라 다를 수 있습니다.\n",
    "        \"Bus fares in the United States vary from city to city, but are generally around $2.90 for a regular bus.\",  # 미국의 버스 요금은 도시마다 다르지만, 일반적으로 정기 버스의 경우 2.90달러 정도입니다.\n",
    "        \"광역버스 요금은 일반 3000원, 청소는 1800원, 어린이 1500원 입니다.\", \n",
    "]"
   ]
  },
  {
   "cell_type": "code",
   "execution_count": 26,
   "id": "16d646ec",
   "metadata": {},
   "outputs": [],
   "source": [
    "# OpenAI\n",
    "from langchain_openai import OpenAIEmbeddings\n",
    "\n",
    "# e_model_id = 'text-embedding-3-small'   # 1536\n",
    "e_model_id = 'text-embedding-3-large'   # 3072\n",
    "embedding_model = OpenAIEmbeddings(model = e_model_id)"
   ]
  },
  {
   "cell_type": "code",
   "execution_count": 27,
   "id": "4d5aac1e",
   "metadata": {},
   "outputs": [],
   "source": [
    "from langchain_ollama import OllamaEmbeddings\n",
    "\n",
    "e_model_id = 'bge-m3'\n",
    "embedding_model = OllamaEmbeddings(model = e_model_id)"
   ]
  },
  {
   "cell_type": "code",
   "execution_count": 28,
   "id": "aed0d42d",
   "metadata": {},
   "outputs": [
    {
     "data": {
      "text/plain": [
       "(list, list)"
      ]
     },
     "execution_count": 28,
     "metadata": {},
     "output_type": "execute_result"
    }
   ],
   "source": [
    "embedded_docs = embedding_model.embed_documents(docs)\n",
    "type(embedded_docs), type(embedded_docs[0])"
   ]
  },
  {
   "cell_type": "code",
   "execution_count": 29,
   "id": "b0bea69a",
   "metadata": {},
   "outputs": [
    {
     "data": {
      "text/plain": [
       "(5, 1024)"
      ]
     },
     "execution_count": 29,
     "metadata": {},
     "output_type": "execute_result"
    }
   ],
   "source": [
    "import numpy as np\n",
    "np.shape(embedded_docs)"
   ]
  },
  {
   "cell_type": "code",
   "execution_count": 30,
   "id": "327ffa89",
   "metadata": {},
   "outputs": [
    {
     "data": {
      "text/plain": [
       "0.015883999"
      ]
     },
     "execution_count": 30,
     "metadata": {},
     "output_type": "execute_result"
    }
   ],
   "source": [
    "embedded_docs[0][1]"
   ]
  },
  {
   "cell_type": "code",
   "execution_count": 31,
   "id": "86ff45ff",
   "metadata": {},
   "outputs": [
    {
     "data": {
      "text/plain": [
       "((1024,), list)"
      ]
     },
     "execution_count": 31,
     "metadata": {},
     "output_type": "execute_result"
    }
   ],
   "source": [
    "query = \"당신이 좋아하는 동물은 무엇인가요?\"\n",
    "embedded_query = embedding_model.embed_query(query)\n",
    "np.shape(embedded_query), type(embedded_query)"
   ]
  },
  {
   "cell_type": "code",
   "execution_count": 32,
   "id": "a1642272",
   "metadata": {},
   "outputs": [],
   "source": [
    "import numpy as np\n",
    "\n",
    "def cosine_similarity(v1:np.ndarray|list[np.ndarray], v2:np.ndarray|list[np.ndarray]) -> float:\n",
    "    v1 = np.array(v1)\n",
    "    v2 = np.array(v2)\n",
    "    return (v1 @ v2) / (np.linalg.norm(v1) * np.linalg.norm(v2))"
   ]
  },
  {
   "cell_type": "code",
   "execution_count": 33,
   "id": "be361c5b",
   "metadata": {},
   "outputs": [
    {
     "data": {
      "text/plain": [
       "((1024,), list)"
      ]
     },
     "execution_count": 33,
     "metadata": {},
     "output_type": "execute_result"
    }
   ],
   "source": [
    "query = \"당신이 좋아하는 동물은 무엇인가요?\"\n",
    "query = \"진도개는 한국산 개 품종입니까?\"\n",
    "query = \"성인 버스 요금 얼마에여?\"\n",
    "\n",
    "embedded_query = embedding_model.embed_query(query)\n",
    "np.shape(embedded_query), type(embedded_query)"
   ]
  },
  {
   "cell_type": "code",
   "execution_count": 34,
   "id": "a5f8d433",
   "metadata": {},
   "outputs": [
    {
     "name": "stdout",
     "output_type": "stream",
     "text": [
      "1  || 0.345441457421292\n",
      "2  || 0.29094026456051714\n",
      "3  || 0.6028324996259586\n",
      "4  || 0.6843165644294562\n",
      "5  || 0.7022415500992569\n"
     ]
    }
   ],
   "source": [
    "for i, ev in enumerate(embedded_docs, 1):\n",
    "    print(f\"{i:<3}|| {cosine_similarity(embedded_query, ev)}\")\n",
    "\n",
    "# 1 and 2 were related with animals.\n",
    "# 3, 4 and 5 were related with bus toll. They are near to each others even though the written languages are different."
   ]
  },
  {
   "cell_type": "code",
   "execution_count": 35,
   "id": "0f1d4d01",
   "metadata": {},
   "outputs": [
    {
     "data": {
      "application/vnd.jupyter.widget-view+json": {
       "model_id": "6c9024d7a6974062a2c4f695611a6c54",
       "version_major": 2,
       "version_minor": 0
      },
      "text/plain": [
       "tokenizer_config.json:   0%|          | 0.00/418 [00:00<?, ?B/s]"
      ]
     },
     "metadata": {},
     "output_type": "display_data"
    },
    {
     "name": "stderr",
     "output_type": "stream",
     "text": [
      "c:\\Users\\Jaebeom\\anaconda3\\envs\\lang_env\\Lib\\site-packages\\huggingface_hub\\file_download.py:143: UserWarning: `huggingface_hub` cache-system uses symlinks by default to efficiently store duplicated files but your machine does not support them in C:\\Users\\Jaebeom\\.cache\\huggingface\\hub\\models--intfloat--multilingual-e5-large. Caching files will still work but in a degraded version that might require more space on your disk. This warning can be disabled by setting the `HF_HUB_DISABLE_SYMLINKS_WARNING` environment variable. For more details, see https://huggingface.co/docs/huggingface_hub/how-to-cache#limitations.\n",
      "To support symlinks on Windows, you either need to activate Developer Mode or to run Python as an administrator. In order to activate developer mode, see this article: https://docs.microsoft.com/en-us/windows/apps/get-started/enable-your-device-for-development\n",
      "  warnings.warn(message)\n"
     ]
    },
    {
     "data": {
      "application/vnd.jupyter.widget-view+json": {
       "model_id": "70e263cd218049ce828d1dc6a8a23791",
       "version_major": 2,
       "version_minor": 0
      },
      "text/plain": [
       "sentencepiece.bpe.model:   0%|          | 0.00/5.07M [00:00<?, ?B/s]"
      ]
     },
     "metadata": {},
     "output_type": "display_data"
    },
    {
     "data": {
      "application/vnd.jupyter.widget-view+json": {
       "model_id": "ab2114af40344873a4c51e43da26ec55",
       "version_major": 2,
       "version_minor": 0
      },
      "text/plain": [
       "tokenizer.json:   0%|          | 0.00/17.1M [00:00<?, ?B/s]"
      ]
     },
     "metadata": {},
     "output_type": "display_data"
    },
    {
     "data": {
      "application/vnd.jupyter.widget-view+json": {
       "model_id": "21163e2adbb84de29454171b15d935d0",
       "version_major": 2,
       "version_minor": 0
      },
      "text/plain": [
       "special_tokens_map.json:   0%|          | 0.00/280 [00:00<?, ?B/s]"
      ]
     },
     "metadata": {},
     "output_type": "display_data"
    },
    {
     "data": {
      "application/vnd.jupyter.widget-view+json": {
       "model_id": "d06c6b2e151b4ebe9b76ca3787aaeb6c",
       "version_major": 2,
       "version_minor": 0
      },
      "text/plain": [
       "config.json:   0%|          | 0.00/201 [00:00<?, ?B/s]"
      ]
     },
     "metadata": {},
     "output_type": "display_data"
    }
   ],
   "source": [
    "## Huggingface Embedding Model\n",
    "from langchain_huggingface import HuggingFaceEmbeddings\n",
    "\n",
    "e_model_id = \"intfloat/multilingual-e5-large\"\n",
    "embedding_model = HuggingFaceEmbeddings(model = e_model_id)"
   ]
  },
  {
   "cell_type": "code",
   "execution_count": 36,
   "id": "983b68a9",
   "metadata": {},
   "outputs": [
    {
     "data": {
      "text/plain": [
       "(list, list)"
      ]
     },
     "execution_count": 36,
     "metadata": {},
     "output_type": "execute_result"
    }
   ],
   "source": [
    "embedded_docs = embedding_model.embed_documents(docs)\n",
    "type(embedded_docs), type(embedded_docs[0])"
   ]
  },
  {
   "cell_type": "code",
   "execution_count": 37,
   "id": "2e180d0b",
   "metadata": {},
   "outputs": [
    {
     "data": {
      "text/plain": [
       "(5, 1024)"
      ]
     },
     "execution_count": 37,
     "metadata": {},
     "output_type": "execute_result"
    }
   ],
   "source": [
    "import numpy as np\n",
    "np.shape(embedded_docs)"
   ]
  },
  {
   "cell_type": "code",
   "execution_count": 38,
   "id": "336bda14",
   "metadata": {},
   "outputs": [
    {
     "data": {
      "text/plain": [
       "((1024,), list)"
      ]
     },
     "execution_count": 38,
     "metadata": {},
     "output_type": "execute_result"
    }
   ],
   "source": [
    "query = \"당신이 좋아하는 동물은 무엇인가요?\"\n",
    "query = \"진도개는 한국산 개 품종입니까?\"\n",
    "query = \"성인 버스 요금 얼마에여?\"\n",
    "\n",
    "embedded_query = embedding_model.embed_query(query)\n",
    "np.shape(embedded_query), type(embedded_query)"
   ]
  },
  {
   "cell_type": "code",
   "execution_count": 39,
   "id": "dbf942e3",
   "metadata": {},
   "outputs": [
    {
     "name": "stdout",
     "output_type": "stream",
     "text": [
      "1  || 0.7775887163091252\n",
      "2  || 0.7434450726314537\n",
      "3  || 0.779067901292892\n",
      "4  || 0.804639191778276\n",
      "5  || 0.8592516981438896\n"
     ]
    }
   ],
   "source": [
    "for i, ev in enumerate(embedded_docs, 1):\n",
    "    print(f\"{i:<3}|| {cosine_similarity(embedded_query, ev)}\")\n",
    "\n",
    "# 1 and 2 were related with animals.\n",
    "# 3, 4 and 5 were related with bus toll. They are near to each others even though the written languages are different."
   ]
  },
  {
   "cell_type": "code",
   "execution_count": null,
   "id": "ee0163a8",
   "metadata": {},
   "outputs": [],
   "source": [
    "# cf. Embedding Model Also Tunable."
   ]
  },
  {
   "cell_type": "markdown",
   "id": "859d21cb",
   "metadata": {},
   "source": [
    "### Vector DB\n",
    "\n",
    "* Vector --**SimilarityComputation**--> Search Result\n",
    "\n",
    "* unstructured-data\n",
    "\n",
    "* Indexing: to search certain vectors in the Vector DB\n",
    "\n",
    "* Key: to choose **the best embedding model for us**."
   ]
  },
  {
   "cell_type": "markdown",
   "id": "8a08d5b8",
   "metadata": {},
   "source": [
    "### Features\n",
    "\n",
    "* High Dimensionality Data\n",
    "\n",
    "* Similiarity-based Search(Cosine, Euclidean, Manhattan)\n",
    "\n",
    "* Mainly Unstructured Data"
   ]
  },
  {
   "cell_type": "markdown",
   "id": "85b43b7b",
   "metadata": {},
   "source": [
    "### Vector DB and DL\n",
    "\n",
    "* Feature Vector"
   ]
  },
  {
   "cell_type": "markdown",
   "id": "f5e6a830",
   "metadata": {},
   "source": [
    "### Tasks\n",
    "\n",
    "1. Save\n",
    "\n",
    "2. Search: It differs from various models.\n",
    "\n",
    "3. Return Result"
   ]
  },
  {
   "cell_type": "markdown",
   "id": "31c04041",
   "metadata": {},
   "source": [
    "### Frameworks\n",
    "\n",
    "* Pinecone\n",
    "\n",
    "* Chroma"
   ]
  },
  {
   "cell_type": "markdown",
   "id": "21cb8598",
   "metadata": {},
   "source": [
    "### InMemoryVectorStore by LangChain\n",
    "\n",
    "* `dict`\n",
    "\n",
    "* Cosine Similarity\n",
    "\n",
    "* `VectorStore.from_document()` & `VectorStore.from_text()`"
   ]
  },
  {
   "cell_type": "code",
   "execution_count": null,
   "id": "0ad79bcf",
   "metadata": {},
   "outputs": [],
   "source": [
    "from langchain_openai import OpenAIEmbeddings\n",
    "from langchain_core.vectorstores import InMemoryVectorStore\n",
    "\n",
    "embedding_model = OpenAIEmbeddings(model = 'text-embedding-3-small')"
   ]
  },
  {
   "cell_type": "code",
   "execution_count": 7,
   "id": "e53f2ade",
   "metadata": {},
   "outputs": [
    {
     "data": {
      "text/plain": [
       "['1', '2', '3']"
      ]
     },
     "execution_count": 7,
     "metadata": {},
     "output_type": "execute_result"
    }
   ],
   "source": [
    "# Exercise: DB Connection\n",
    "# putting EMBEDDING MODEL in\n",
    "\n",
    "from langchain_core.documents import Document\n",
    "\n",
    "vector_store = InMemoryVectorStore(\n",
    "    embedding = embedding_model\n",
    ")\n",
    "\n",
    "d1 = Document(\n",
    "    id = '1', \n",
    "    page_content = \"Apple, Pear, Watermelon\",\n",
    "    metadata = {'category':'fruit'}   # filter first before similarity computation\n",
    ")\n",
    "d2 = Document(\n",
    "    id = '2',\n",
    "    page_content = 'Python, C++, Java, C#, Rust',\n",
    "    metadata = {'category':'IT'}\n",
    ")\n",
    "d3 = Document(\n",
    "    id = '3',\n",
    "    page_content = 'Football, Baseball, Basketball',\n",
    "    metadata = {'category':'sports'}\n",
    ")\n",
    "\n",
    "docs = [d1, d2, d3]\n",
    "\n",
    "vector_store.add_documents(documents = docs)"
   ]
  },
  {
   "cell_type": "code",
   "execution_count": 8,
   "id": "fd33be30",
   "metadata": {},
   "outputs": [],
   "source": [
    "# DB connections and Document upsertion AT THE SAME TIME.\n",
    "# Note document ID settings.\n",
    "vector_store2 = InMemoryVectorStore.from_documents(\n",
    "    documents = docs,   \n",
    "    embedding = embedding_model\n",
    ")"
   ]
  },
  {
   "cell_type": "code",
   "execution_count": 52,
   "id": "5bc712f0",
   "metadata": {},
   "outputs": [],
   "source": [
    "# EXERCISE: \n",
    "\n",
    "query = \"SQL\"\n",
    "query = \"야구\"\n",
    "query = \"오렌지\"\n",
    "\n",
    "result = vector_store.similarity_search(    # InMemory: cosine similarity\n",
    "    query = query,\n",
    "    k = 2\n",
    ")"
   ]
  },
  {
   "cell_type": "code",
   "execution_count": 53,
   "id": "dc915d7c",
   "metadata": {},
   "outputs": [
    {
     "data": {
      "text/plain": [
       "[Document(id='1', metadata={'category': 'fruit'}, page_content='Apple, Pear, Watermelon'),\n",
       " Document(id='2', metadata={'category': 'IT'}, page_content='Python, C++, Java, C#, Rust')]"
      ]
     },
     "execution_count": 53,
     "metadata": {},
     "output_type": "execute_result"
    }
   ],
   "source": [
    "result"
   ]
  },
  {
   "cell_type": "code",
   "execution_count": 54,
   "id": "5fccd55f",
   "metadata": {},
   "outputs": [],
   "source": [
    "result_with_score = vector_store.similarity_search_with_score(\n",
    "    query = query,\n",
    "    k = 2\n",
    ")"
   ]
  },
  {
   "cell_type": "code",
   "execution_count": 55,
   "id": "c962f523",
   "metadata": {},
   "outputs": [
    {
     "data": {
      "text/plain": [
       "[(Document(id='1', metadata={'category': 'fruit'}, page_content='Apple, Pear, Watermelon'),\n",
       "  0.16778401954574282),\n",
       " (Document(id='2', metadata={'category': 'IT'}, page_content='Python, C++, Java, C#, Rust'),\n",
       "  0.11885568967377566)]"
      ]
     },
     "execution_count": 55,
     "metadata": {},
     "output_type": "execute_result"
    }
   ],
   "source": [
    "result_with_score"
   ]
  },
  {
   "cell_type": "markdown",
   "id": "15922fe4",
   "metadata": {},
   "source": [
    "### TODO\n",
    "\n",
    "* `data/olympic.txt`\n",
    "\n",
    "1. text loading\n",
    "\n",
    "2. text split\n",
    "\n",
    "3. embedding + vector store\n",
    "\n",
    "4. querying"
   ]
  },
  {
   "cell_type": "code",
   "execution_count": 57,
   "id": "e5b7d61f",
   "metadata": {},
   "outputs": [
    {
     "data": {
      "text/plain": [
       "True"
      ]
     },
     "execution_count": 57,
     "metadata": {},
     "output_type": "execute_result"
    }
   ],
   "source": [
    "from dotenv import load_dotenv\n",
    "\n",
    "load_dotenv()"
   ]
  },
  {
   "cell_type": "code",
   "execution_count": 56,
   "id": "c1c6ad6a",
   "metadata": {},
   "outputs": [
    {
     "data": {
      "text/plain": [
       "'올림픽\\n올림픽(영어: Olympic Games, 프랑스어: Jeux olympiques)은'"
      ]
     },
     "execution_count": 56,
     "metadata": {},
     "output_type": "execute_result"
    }
   ],
   "source": [
    "with open('data/olympic.txt', 'r') as f:\n",
    "    raw_text = f.read()\n",
    "\n",
    "raw_text[:50]"
   ]
  },
  {
   "cell_type": "code",
   "execution_count": null,
   "id": "250cf616",
   "metadata": {},
   "outputs": [],
   "source": [
    "# Need Korean-compatible Embedding Model"
   ]
  },
  {
   "cell_type": "code",
   "execution_count": null,
   "id": "b58c1849",
   "metadata": {},
   "outputs": [],
   "source": [
    "from langchain_community.document_loaders import TextLoader\n",
    "from langchain.text_splitter import RecursiveCharacterTextSplitter\n",
    "\n",
    "loader = TextLoader('data/olympic.txt', encoding = 'utf-8')\n",
    "\n",
    "# list[Document]\n",
    "chunks = loader.load_and_split(\n",
    "    text_splitter = RecursiveCharacterTextSplitter(\n",
    "        chunk_size = 70,\n",
    "        chunk_overlap = 20\n",
    "    )\n",
    ")"
   ]
  },
  {
   "cell_type": "code",
   "execution_count": 35,
   "id": "50f48fc8",
   "metadata": {},
   "outputs": [
    {
     "name": "stdout",
     "output_type": "stream",
     "text": [
      "390 <class 'list'> <class 'langchain_core.documents.base.Document'>\n",
      "1   올림픽(영어: Olympic Games, 프랑스어: Jeux olympiques)은 전 세계 각 대륙 각국에서 모인 수천\n",
      "2   세계 각 대륙 각국에서 모인 수천 명의 선수가 참가해 여름과 겨울에 스포츠 경기를 하는 국제적인 대회이다. 전 세계에서 가장\n",
      "3   대회이다. 전 세계에서 가장 큰 지구촌 최대의 스포츠 축제인 올림픽은 세계에서 가장 인지도있는 국제 행사이다. 올림픽은\n",
      "4   인지도있는 국제 행사이다. 올림픽은 2년마다 하계 올림픽과 동계 올림픽이 번갈아 열리며, 국제 올림픽 위원회(IOC)가\n",
      "5   국제 올림픽 위원회(IOC)가 감독하고 있다. 또한 오늘날의 올림픽은 기원전 8세기부터 서기 5세기에 이르기까지 고대 그리스\n",
      "6   5세기에 이르기까지 고대 그리스 올림피아에서 열렸던 올림피아 제전에서 비롯되었다. 그리고 19세기 말에 피에르 드 쿠베르탱\n",
      "7   19세기 말에 피에르 드 쿠베르탱 남작이 고대 올림피아 제전에서 영감을 얻어, 근대 올림픽을 부활시켰다. 이를 위해 쿠베르탱\n",
      "8   부활시켰다. 이를 위해 쿠베르탱 남작은 1894년에 IOC를 창설했으며, 2년 뒤인 1896년에 그리스 아테네에서 제 1회\n",
      "9   그리스 아테네에서 제 1회 올림픽이 열렸다. 이때부터 IOC는 올림픽 운동의 감독 기구가 되었으며, 조직과 활동은 올림픽\n",
      "10  되었으며, 조직과 활동은 올림픽 헌장을 따른다. 오늘날 전 세계 대부분의 국가에서 올림픽 메달은 매우 큰 영예이며, 특히\n"
     ]
    }
   ],
   "source": [
    "print(len(chunks), type(chunks), type(chunks[0]))\n",
    "for i in range(1,11):\n",
    "    print(f\"{i:<3}\", chunks[i].page_content)"
   ]
  },
  {
   "cell_type": "code",
   "execution_count": null,
   "id": "1a8f79f2",
   "metadata": {},
   "outputs": [],
   "source": [
    "# cross encoder"
   ]
  },
  {
   "cell_type": "code",
   "execution_count": 42,
   "id": "a0b18b80",
   "metadata": {},
   "outputs": [
    {
     "data": {
      "text/plain": [
       "GoogleGenerativeAIEmbeddings(client=<google.ai.generativelanguage_v1beta.services.generative_service.client.GenerativeServiceClient object at 0x00000198360BCF80>, model='models/embedding-001', task_type=None, google_api_key=SecretStr('**********'), credentials=None, client_options=None, transport=None, request_options=None)"
      ]
     },
     "execution_count": 42,
     "metadata": {},
     "output_type": "execute_result"
    }
   ],
   "source": [
    "from langchain_google_genai import GoogleGenerativeAIEmbeddings\n",
    "\n",
    "embedder = GoogleGenerativeAIEmbeddings(model = 'models/embedding-001')\n",
    "\n",
    "embedder"
   ]
  },
  {
   "cell_type": "code",
   "execution_count": null,
   "id": "57390486",
   "metadata": {},
   "outputs": [
    {
     "name": "stdout",
     "output_type": "stream",
     "text": [
      "<class 'list'> <class 'list'>\n"
     ]
    }
   ],
   "source": [
    "chunk_list = []   # List[str]\n",
    "\n",
    "for chunk in chunks:\n",
    "    chunk_list.append(chunk.page_content)\n",
    "\n",
    "embedded_chunks = embedder.embed_documents(chunk_list)\n",
    "print(type(embedded_chunks), type(embedded_chunks[0]))"
   ]
  },
  {
   "cell_type": "code",
   "execution_count": 60,
   "id": "973661ae",
   "metadata": {},
   "outputs": [
    {
     "data": {
      "text/plain": [
       "['1409ea21-e93d-43ae-87c4-dda668956005',\n",
       " '541d7bc2-b8f3-4b00-a4fa-bc236b133a7e',\n",
       " '5b280312-334d-491c-b8f5-ad601ef61658',\n",
       " 'f6483402-971f-4a2e-9d9c-8d3e96f59550',\n",
       " '33d26ca8-74d9-4042-b714-2e03b1a1c3ea',\n",
       " '53513e0d-035b-4cd0-8e07-7268d0def297',\n",
       " 'bb0f8612-ab2d-4c0a-9f40-b01a2de17409',\n",
       " '33088c28-4818-403c-a151-3fb88dd92a23',\n",
       " 'c213d6d2-45ca-47ab-bd14-39317f37e8ef',\n",
       " '7715bf6f-de67-4933-971f-a44520053f6e',\n",
       " '7e330be1-ae30-4e6e-a3de-d07f4f4855a5',\n",
       " 'c964c754-c4a9-4756-a11e-86b8e37b4081',\n",
       " '8c8a7f25-3fe1-43b3-b225-cc129f9a6229',\n",
       " 'edffdf57-d82d-4da1-9268-589539af45be',\n",
       " '9854dbc3-a9ef-47dc-8aef-755a86a3f436',\n",
       " 'a9e9c959-eb7d-4a83-930e-3a69d00d522e',\n",
       " '95ee7922-ee5e-473d-a524-680e1ea9abaf',\n",
       " '239a81c1-e35a-48cf-8247-afa03dfcfb8e',\n",
       " 'fc3262bd-561c-4d4f-8c52-5a66f42f3759',\n",
       " '22884b06-70be-4a53-932d-b6db0c6c1bd1',\n",
       " '0aa7ac37-51b2-492c-9ca5-148d2d247d42',\n",
       " '6a84acfb-b39f-42c6-a2a2-1bed42907e08',\n",
       " 'd05f0bcd-657f-46f7-b9ed-669e56af1bf3',\n",
       " '8e4ae5ae-a1b1-46c7-9a21-7d95e1605085',\n",
       " '010d79dc-f966-49ab-bb36-6882649a737f',\n",
       " '02e24c7f-809b-4e47-a90d-483129a7596a',\n",
       " '628b055f-7546-4569-89eb-99de13cff664',\n",
       " '97e25371-e9b8-4653-8b6c-3f11239e42b5',\n",
       " '4652f7c3-8982-4551-8487-69dc3cab47ac',\n",
       " '73957591-0ff9-47d5-bab3-32d3eb51d8eb',\n",
       " 'aa365096-01ac-4c76-a7f0-ac3fc9a4db85',\n",
       " '545a9127-8dc3-453b-9db4-816b520d672a',\n",
       " '9fc92275-5e8c-4af4-a4fa-79530f25f835',\n",
       " 'ba76ef5b-a54c-4d8c-b157-9132281ce9cf',\n",
       " 'dd9f919e-9478-48c8-9944-6f1734b33b63',\n",
       " 'dc4c1db5-2146-416d-8bb8-bc60e7f7e14d',\n",
       " '26d8932f-e3aa-491e-8d3d-7f7975376e1e',\n",
       " 'fe754614-9f78-4a5c-9d83-ae867eba0b94',\n",
       " '62cb3419-874a-4c57-aa2b-99a7efc0f472',\n",
       " '68b94223-7001-4060-89a8-9b682af8cb37',\n",
       " 'f6059371-1178-4924-bc50-81c6a03eb575',\n",
       " '0b50f2b7-050d-4429-b14d-4b923a129a9c',\n",
       " '3466e7ef-aa03-4ad9-9fc7-13c52afa473d',\n",
       " '8c99f545-6439-4124-9df4-fb466d08827d',\n",
       " '616118c6-4f81-41d1-9223-5dfbb8bf2d57',\n",
       " '04509b27-712e-4dda-b802-fed7171cc22b',\n",
       " '473636be-5298-4e49-8d0c-e6fa20da97e0',\n",
       " '92d81546-a761-4d56-9340-2809ec37a7a8',\n",
       " '9e5e8dcc-5fe5-40bb-82e6-3ab745417459',\n",
       " '98a8365f-3cc7-491f-a2fb-ae36498fb41c',\n",
       " 'fd99b926-d74b-4254-8790-7864467f444e',\n",
       " '595c4535-ddac-469f-965f-e655201122fd',\n",
       " 'c826dee1-54fa-48f4-b535-70589ee084c7',\n",
       " '982fb5f4-1d25-482c-adf0-d83b61b56fd8',\n",
       " 'f5461844-bbea-4088-a35a-5a132cf5cf30',\n",
       " '5a8636c7-ddc8-4fa2-9f6c-e3c334738927',\n",
       " 'b5b0eacc-e026-4920-b782-6a82354d5627',\n",
       " '968cf293-ac8b-4c61-a23a-c66f760c061e',\n",
       " '120b48f3-3bc1-480b-8f54-c9d7860bd16f',\n",
       " 'bcb89d9b-9bef-4be8-b2f5-95d8d8c2f4e3',\n",
       " '2bb08134-a6bd-4c11-8aae-5630238d44b2',\n",
       " '71955527-194e-430f-9d93-b3d46923c97a',\n",
       " '7753b0f2-170e-4e3f-9e4a-c19b60bf9ba0',\n",
       " '65537093-8257-4116-9f90-b38dc33c3395',\n",
       " '01c5b942-d81c-4202-8aac-7a57bb2bb4b1',\n",
       " '191d5c90-6e27-4a08-aa53-c67c8aeb4eea',\n",
       " 'c5a63d95-2c34-4f9e-a41e-12e59ab22105',\n",
       " 'fcbcda11-26c1-456d-9406-a3a2efc2a327',\n",
       " '3fad9348-2631-4e64-9124-c3a0426e5fe7',\n",
       " '426b52a5-2eff-4f5b-9492-0ce65fcc957f',\n",
       " 'd2daf327-da05-4538-9a69-e10e88ed44e2',\n",
       " '3e1541ee-1361-4805-a0f7-2e3a274a8297',\n",
       " '17b9efb2-c5fb-4a58-80ee-cb7b9fa28b82',\n",
       " '089b144f-7857-4150-9ace-8f26768208f7',\n",
       " 'e5b8c0f2-8f4f-43a6-974d-1221976766dd',\n",
       " '3e81e600-2396-4e77-9b90-498272009f1a',\n",
       " '5c3829aa-bc02-4e9d-a544-8a8b7ec1f11a',\n",
       " 'c669e1c8-8534-40de-bce4-393ce6b3850d',\n",
       " 'c1622c4e-62e1-49a4-b573-c6e4c272aca8',\n",
       " '90887020-2aff-4789-a8b5-120753a8dcbd',\n",
       " 'be381a3a-e448-48a3-a932-765879afb9a6',\n",
       " '24f36958-0451-43b2-8353-42d36acef1f2',\n",
       " '81841438-f890-4a54-8d6e-c04bf2eeac58',\n",
       " '7cc406ce-1def-4f24-8fbc-54f2b1b43a3d',\n",
       " '7ceb58c3-a2ce-4373-a424-ae1669b92041',\n",
       " 'd399c34a-c6b9-46b2-b974-7ac8326bccaa',\n",
       " '79389613-3bd0-483c-90aa-c8ba22e66f3a',\n",
       " '4a0bd558-2787-407e-84f6-7ad908e150d7',\n",
       " '6fe49cf4-184a-4ca9-8358-9c4be00d3548',\n",
       " '7f2e2009-67b1-416c-a4b8-0933d5dc78fe',\n",
       " 'f20aa820-b1d1-4779-81f8-bf72163eb61a',\n",
       " 'f20d111d-8d4d-4cbf-a10d-985c66b1bf6f',\n",
       " '693d4071-cd0d-48ca-af03-2f77b590e3ca',\n",
       " '019b85c9-c148-4920-880a-856c0ed7e265',\n",
       " '32322acd-2641-41c8-9b52-531bca02aaec',\n",
       " '48071f10-34da-4bb3-82e4-d3b4f58b62de',\n",
       " 'a7c2ff36-4333-4d85-8dfa-8da949077932',\n",
       " '6ad21657-f667-4f61-90af-c10794ee909c',\n",
       " '9168f536-56a0-49e5-910e-5b2e2b854162',\n",
       " 'be7b4197-f391-4a49-9f25-a51bd70d8ab1',\n",
       " 'f3772b7d-f4c7-4fbe-8d37-2de2dee8cf26',\n",
       " 'd8a993f2-bbf8-4513-ac08-e9dde61b1453',\n",
       " 'e5c706f9-215f-4cc7-a2cd-80a9a3af099d',\n",
       " 'd74544ef-37d3-43db-a77b-95d4597d93e9',\n",
       " '0a1bf144-5856-45a2-8426-e6ef551ed2dc',\n",
       " '20b02cc7-b0e8-41ab-a6bd-39e5446a1f76',\n",
       " '7da9606f-50ad-4325-8ed2-77da7176e1a3',\n",
       " '58b2f45b-e8df-4ae7-90ae-59949e144dc4',\n",
       " '84429e55-3f45-473f-ad0f-9908e87d5942',\n",
       " '02bb636e-9f1a-4fe5-acc9-411602e11b3a',\n",
       " 'cc7f82ae-e411-4ab5-b0ee-21b1a520ddd3',\n",
       " '6cd847f4-3bf4-4cf8-9bde-d17c7c7f3ae9',\n",
       " '9c48c1a2-5254-4c0b-a2eb-d7b08eea0853',\n",
       " '0b339dc2-ea36-408c-bd63-a76e84129334',\n",
       " 'd4a62e68-0f2d-4079-b029-691658339ede',\n",
       " '3fedd452-8a6a-41da-bd11-29a1a24e4378',\n",
       " 'e1e2380d-ceb9-4a32-ab48-4ff05486bf08',\n",
       " 'fb2b38bd-ab5d-412b-aa14-8fa75127fae5',\n",
       " 'b81176f0-12a6-47b3-a9b6-682bc5afb00b',\n",
       " '28a78b7b-6aec-481f-b1fe-6cab619aec9d',\n",
       " 'ec7cd7ec-04f8-4a89-9d3d-d9be4d25bb76',\n",
       " '43934bf5-8568-4c5e-9133-573cdf4d8d7f',\n",
       " '01727f95-0846-4c26-9a47-7824486399c7',\n",
       " 'bf64c8d1-45e2-44c7-b84e-942223954b03',\n",
       " '68c00c12-c6b0-4965-8438-55300bbecd06',\n",
       " '2be3d6b5-ee34-45c8-a329-a6d5c800544b',\n",
       " '79fc1388-8130-4373-844a-a5b2ce610561',\n",
       " '461c8126-55f9-4a6a-a061-18f4cad68d6a',\n",
       " 'd6dd8207-b697-443a-8b1a-a9438bfd56df',\n",
       " '07e2e71d-2731-4096-b12e-bfa76a4b8b4c',\n",
       " 'ad106037-aead-453f-b58f-34b7a6ff3a05',\n",
       " '4ff33130-ea04-4d4c-b2b4-a5a037be98e7',\n",
       " 'ae9d3ee6-7962-4e9f-aedb-26bed7515966',\n",
       " '79f44cdb-f556-42ed-b227-56af257781f3',\n",
       " '316273a3-4af1-4d8e-a082-605670d7baa1',\n",
       " 'd9997522-a27f-498e-9b8d-95bb718331df',\n",
       " 'b44860ed-ed6d-48ae-9d3a-fac636c3ad79',\n",
       " '3c30a095-1c98-4cce-9e0f-cb14c4ad49f4',\n",
       " '94b3ea65-b17e-4a55-985b-32d4c39f7788',\n",
       " '3ec193ea-2529-4638-89be-5b720a945ab9',\n",
       " '19ff5aca-5140-4f0d-99ac-60374668c914',\n",
       " '1b359297-f9e0-44d6-b02b-697b00326d9b',\n",
       " 'b01d4254-e712-49d3-a939-48b7c59d34c2',\n",
       " '26a0c7e1-2468-4c88-9672-a14bc355608a',\n",
       " '83ed4aaa-6c7b-4c7f-ba11-ed71075269f7',\n",
       " '6239778b-5111-432c-b34f-12837174dd33',\n",
       " '15db6bf3-8c90-4eae-9e37-91f453f59744',\n",
       " 'd5ca5e23-2523-4e01-9360-e1149d4c917c',\n",
       " '0e495555-ec5d-4929-8047-37ea68b70705',\n",
       " '43babbea-60f9-4b86-bcaa-81d6ee9bc4ea',\n",
       " '009af721-daee-4408-a760-33169aef794f',\n",
       " '5cdebe85-7f10-4bdb-824a-66c9c3239d88',\n",
       " '44074b7b-6b7f-415f-a6c7-3658baf3bda9',\n",
       " '2d9ed858-2e62-460e-8b08-9a2eae26eec3',\n",
       " 'f457655d-0451-4b94-b596-963bdba00c7e',\n",
       " 'affd0ab7-06c8-4fe9-9b32-61bbed8ea7b7',\n",
       " '5156d5d0-a0b6-4eb9-a2d0-176746df123b',\n",
       " '44875cc0-89db-4383-b0d5-bc7240e7498c',\n",
       " 'a114883a-b260-4a8c-8ff3-3906564efe89',\n",
       " '0d2efbaf-0966-427e-99df-4161434358d6',\n",
       " 'acd49332-3283-4a12-a08a-f274aeb1c463',\n",
       " '7c09e3bf-8013-4154-aa28-cad7b2de7d29',\n",
       " 'f0bb4065-b019-42bd-9c6a-e75106889544',\n",
       " '805446e2-2fcc-43b3-9ac1-065cc3116bfb',\n",
       " 'ac080b2a-c275-4220-ba5b-631a83873c69',\n",
       " '52b15ea3-dc28-4162-8fbc-5d1b4f3d4078',\n",
       " 'd24580d7-9ce5-4f7f-bd12-2ba0b8d79bfd',\n",
       " '96ed44a6-c8f7-43a4-a322-eccab650550b',\n",
       " '55b3aa27-a8bb-46c6-a67d-6883532cf678',\n",
       " '39dd957d-23ac-451e-9772-bb26f9834054',\n",
       " 'c276fc2a-6ad5-49f7-b62a-5f4113f52cda',\n",
       " '8eea5fd3-5878-43c7-b600-e5a7eef4f54b',\n",
       " '72010376-fb3d-459d-b3ea-7b4b2335af1a',\n",
       " '33c6928b-aacd-4454-8c1e-747072ea18cf',\n",
       " '74533a99-2a72-480d-9dbf-21d177a209f8',\n",
       " '89d1be81-e25d-4847-bd53-82db6a43b5f3',\n",
       " 'eaefcc1b-1a56-4a82-bcb5-67109ace4c6b',\n",
       " '6bf8e8e8-61d1-4f0d-80f2-cd7eae2af7f7',\n",
       " '25c63ad1-5c06-4d57-beb6-a862bc06ce0c',\n",
       " '33df0135-57a7-4c48-a0d0-bcb76df5c7cd',\n",
       " '02dc39c5-2750-4587-8cde-568848eeb36b',\n",
       " '2754ae5f-5edb-4344-bbe9-75d8fc2957d6',\n",
       " '71f0c975-9b7a-46c8-8933-d1826eea48a0',\n",
       " 'd7dd9d25-8d1b-4d0c-9d79-45dae1c3a69a',\n",
       " '4bd9c93e-1406-4129-8448-f75b6c31a44a',\n",
       " '8223c4e2-f856-4bdb-b848-de1d6782dae9',\n",
       " '0a63ba44-ca23-467a-a9dc-e2d6c7a49a50',\n",
       " 'fe5f5646-4575-4b55-9b7b-e86e9a60d0f1',\n",
       " '25a7700c-64e7-41be-a55a-8ddd4dbb5f01',\n",
       " '2f60768d-58e6-439a-b8cc-dcfb1f09ac72',\n",
       " '75aa1d4d-0ccb-4409-a7a1-f6ae92d29bce',\n",
       " '9b0a0a67-0b28-4425-9192-5d3af2822ec4',\n",
       " 'c58e4051-9522-4e5c-9c5b-c44c19197ee4',\n",
       " '7bb41c76-e1d6-4084-ba9b-7f89a85285cb',\n",
       " '7d767cf5-5a7e-4cbd-9ee1-a696e959b71c',\n",
       " '783a706c-3638-4b2a-a060-caff045470b9',\n",
       " '8ea60949-a765-4bdf-9e25-d4ef98e8f622',\n",
       " '1fc94c51-b437-4d3e-9791-d995d54e5639',\n",
       " '75df497d-db20-4083-9691-5046d23a226a',\n",
       " 'd59dfe4a-3769-444a-b861-626e4eba5a0c',\n",
       " '90073ef0-4025-4738-8c93-b4dcefcedf68',\n",
       " '3f1f791b-a07a-4b51-9ee5-6a5af7f088b3',\n",
       " '57a07bbb-17de-47c3-b968-c8220f7ba436',\n",
       " '19084ba8-9e1f-47d8-b212-feec66591923',\n",
       " '7bcbd99e-39e1-4aad-85e6-beb50c8994d0',\n",
       " '165c01f8-6059-4496-afed-98baa3fe188b',\n",
       " '6e033799-f890-470b-b7bd-e7e29eb2dbab',\n",
       " '828adce9-2eba-48e2-b583-477ee302e9a7',\n",
       " '5dffc969-cd4d-48c4-a8fd-1fa08912fbc4',\n",
       " '11f25c2e-1db7-423c-831a-7dc88790e745',\n",
       " '1fdd24d9-af7c-473e-b0bd-5dbe6bc95981',\n",
       " '91a15cbd-a59f-4bc6-9cc0-ba564dbe49f5',\n",
       " 'c19075a4-f8af-4a87-88f7-3587f16d7285',\n",
       " 'dbac99b4-7f31-4ebb-af4b-24b9c7da0104',\n",
       " '73e7eed4-f657-4712-96d5-cf474a9860b6',\n",
       " '666189ba-a52a-4837-9ec4-4088d6a2eec7',\n",
       " 'c8fdc10e-c102-454b-a060-2f0a72fde27e',\n",
       " '405d80ea-215b-4f72-b6fc-7071fbe4b6bf',\n",
       " '9de0c95c-a03f-460d-9662-1301cc1e2432',\n",
       " '1a7ba8e1-ef48-42ef-86f2-c2fcab2ba5bd',\n",
       " 'b97412b3-b337-41e5-801d-af9e6dd87d8b',\n",
       " '2bd632d3-e8e0-4f2d-b57e-b3d5f1c94dcc',\n",
       " '83f2b54a-876b-4429-bcde-67c75dc0c606',\n",
       " '99dc015b-7b71-44f5-a56a-41bf1e1cdbe7',\n",
       " '7f88ba49-beab-44d3-931e-90f18cfec40d',\n",
       " 'af75d627-6b34-4549-96e5-1c7db3187bbb',\n",
       " '5b469013-7656-468d-b47d-10eaa5576d8f',\n",
       " 'a5bfd96a-df88-427e-883f-7e79970c97a2',\n",
       " '4b536bc5-a187-47b6-865e-803000620dab',\n",
       " 'db994d85-326f-4b90-82f2-4a429e475cfc',\n",
       " 'a96645dc-123b-4566-a528-8a468d061f61',\n",
       " '17764f2a-7f09-41fa-b777-4f64b567f8d7',\n",
       " '1370d05d-59c8-47e1-85ab-90a266dcc358',\n",
       " 'f84385c4-2273-449e-9e36-c74c05d299f0',\n",
       " 'e44add81-dd66-4ad4-968d-510acb74396b',\n",
       " '8eec6f67-8ec9-4d5b-82b6-e38b438bb1f2',\n",
       " '8cf99a11-cc5f-4dd3-9d4c-c06fc84acdcc',\n",
       " 'b0f9dd29-cbf8-4dd5-ae3e-3e2d3a18074b',\n",
       " '0b4e758a-3ce4-454a-a855-1dfa03fe5b78',\n",
       " '9e642a52-e63d-4890-8b91-da71e916a6e3',\n",
       " '6059485d-c66d-448f-a72e-2738d0859887',\n",
       " 'cdc85a38-aa11-41b1-8bfd-7e4274b4d899',\n",
       " '42e36258-c988-41a4-9d1c-f8e4fabf354b',\n",
       " '4acdb0ff-6f37-45d6-a269-03aa795ae78b',\n",
       " 'f414a125-1300-4a86-ba87-49188814454e',\n",
       " 'e0f00433-c05e-4d32-9a26-a793588d1425',\n",
       " 'eb6ae167-e7b1-4f98-b966-3651f082c71d',\n",
       " 'fad51d28-2090-4cb6-b5af-616b5b8f209e',\n",
       " 'b78960d7-0a0a-4ead-9392-10aaad73c225',\n",
       " 'f9930509-e60c-4120-b88b-9a4cb5081097',\n",
       " 'bc106e39-24da-444d-bcfd-f5dd30c55ed3',\n",
       " '6122c32b-1864-487a-aac7-19e9e9348f8a',\n",
       " 'bdf8632a-d454-4ccc-8be2-6c3514174bc1',\n",
       " '0f786415-f42d-44e3-bc3e-42b4c3ea8555',\n",
       " '75a41a62-b0a4-4b2c-a424-4b54137da3a6',\n",
       " 'a2f3a2d1-1665-4038-b3df-8875ae830cf0',\n",
       " 'f1b5fbc8-8511-43c9-9a40-6328804adb6b',\n",
       " 'bcb227c1-a638-41b3-9dfb-e438ec85fb41',\n",
       " 'ad63eae1-fa98-4fc3-98bf-62bbdb702fb9',\n",
       " '4ba72588-2fa8-40d7-a5f9-64e1e32b1fe0',\n",
       " 'c51b013e-ca3d-4fb0-8323-2ed06b089165',\n",
       " '2a75959d-e0d7-46ba-8731-9adb55eab3f0',\n",
       " 'bd5709e1-7593-4b39-832d-5fc5e8b11613',\n",
       " '281650c8-2620-4c8c-9a52-d60496667551',\n",
       " '6ec77bb2-cfa1-45c5-baee-b35e95b18788',\n",
       " '54cdaa78-03ab-432d-8fe0-f969bb5dc25b',\n",
       " 'c048dcec-822e-4db8-98c9-7613645b1bee',\n",
       " '924e7f21-3d78-480c-b792-cbc851678c32',\n",
       " 'c43d8ad4-3dd7-4ed2-8bad-8d8fa9334f42',\n",
       " 'f85cef71-8472-4152-b8be-df4cc6468c35',\n",
       " '25734ff3-e874-428b-be19-f01501f1a2a9',\n",
       " 'adfd9f34-e6a1-4638-b2b2-ccb9119f495c',\n",
       " 'ebbdf91f-2dee-40e9-b7ba-92004598a38e',\n",
       " '27d16ff1-d8d1-4dcb-ae0f-42f8331251c1',\n",
       " '4c52ceb0-b15d-444a-937a-4e1f36d9fa10',\n",
       " 'fa19a185-d9c6-493f-9530-9d59ed38c8ec',\n",
       " 'da547d5f-ca01-438d-a253-90f379836a72',\n",
       " '9fd77911-5fca-4c6a-9331-9240543f3ec9',\n",
       " '0f4c846e-ff76-44e2-9c0b-e5db452cdd70',\n",
       " 'c5155dcd-1617-463f-ac8f-ffd170a8e70f',\n",
       " '5d7348df-b3ca-4f6e-94f1-1e0fb3308a41',\n",
       " '0f5daa08-0482-4960-b568-3843f1b5718e',\n",
       " '1347e738-439c-4bce-8ae4-f21f28ba39c0',\n",
       " 'cbd9fcc6-b622-4bbd-904e-221714700824',\n",
       " '4314dcb1-c652-4bfb-91c8-8dbd46bea800',\n",
       " 'c1d1c318-db49-49ed-bec2-5bd5c63203ff',\n",
       " '25383188-903f-4f05-94f4-8048e1ca4c72',\n",
       " '365e33e3-8af9-4caf-9248-38bf8a114b15',\n",
       " '1163f711-442e-44c1-b4ca-5648041a9a70',\n",
       " '9a5fcdd9-3451-4526-a254-aaada37e6659',\n",
       " 'ad8f9d67-5fa2-4757-ac50-af02d0343c0b',\n",
       " 'f7ea06dd-9511-44a2-b2a7-47db870f6e26',\n",
       " 'f35f9dd2-ed24-4c27-8196-c278199369ee',\n",
       " 'efba6c49-d94e-4e71-897c-cf997f81d41e',\n",
       " '89710f77-9d38-4def-b950-99c2dd2c7cfe',\n",
       " 'ccea7d44-e762-469c-b48d-2f875b96dad0',\n",
       " '266a3904-9b3c-4af8-a972-7976902d99f7',\n",
       " '137f0a8e-42a4-4eaf-883e-c834bb8ac918',\n",
       " '99580ec1-010e-4235-ac93-0854f551fb6f',\n",
       " '5cd9c682-d2e2-4984-b963-6f09553a0a70',\n",
       " '290c67a8-f5b1-48b1-b009-4a9221868dd1',\n",
       " '74eeb7a6-5053-4bb8-a495-cfc9dfa8e8c1',\n",
       " 'fe18db99-5428-40b6-a119-7ae9a7e8a89e',\n",
       " 'a2636aa6-06e5-4edc-86b3-98bdc048ce06',\n",
       " 'dadb62c8-8e16-469e-bee5-0ac8a44162bb',\n",
       " 'd76c3c5a-cdd2-4514-b73a-1fcc4b5b30f9',\n",
       " '9a9296bd-b9e2-4363-9fd4-d9cefa2f7ff1',\n",
       " '79354a5c-59be-4a79-a1ad-2cfaac58fb4f',\n",
       " '8e386f70-3dde-44b7-8125-d428cafb5501',\n",
       " 'fff08c0e-71f5-4c59-8343-bde134b1a002',\n",
       " '31044917-6219-4498-bd85-dfe5bc1760d5',\n",
       " '0c7442c6-ed99-4b60-aeea-91eb445032a1',\n",
       " '8abbdbd2-c31e-4f82-8e3c-047128f2a4ea',\n",
       " '2e06608a-d33b-432b-90cc-c00e76a20a95',\n",
       " 'a91af48e-2d5b-4f8d-a871-60383c39ea01',\n",
       " '7a05c500-1a34-4e12-9319-e96d182c0624',\n",
       " 'dfa2c76f-0390-45ce-9e63-7713d8a6292d',\n",
       " 'be58e1d8-3583-46ca-905d-d59b24e2cdcb',\n",
       " 'b46095be-cc34-400a-ba8e-5f1db0389f61',\n",
       " '756296fc-7710-45b3-801a-cce1434868a1',\n",
       " '2c3c7843-a0a8-4f29-8d31-1db07618c83d',\n",
       " 'd7cd934d-0129-478e-acf1-23b8442e7034',\n",
       " '21e7516b-4fe5-4ffa-be86-c79aaf8634fb',\n",
       " '8d623c52-b062-4bd6-8a8e-1487f208e960',\n",
       " '6c32b248-ffab-4556-abe7-198deec820bf',\n",
       " 'c59b1179-e8a0-4555-a105-81858050bc55',\n",
       " '4d0ab578-ea96-4aa6-82b8-2bd395147dc0',\n",
       " '0489327e-1b53-4f67-8f3e-a61d048fcbc2',\n",
       " 'f41cc786-9853-420f-b5fa-51cdbb2e9c0b',\n",
       " 'a4d225d7-2754-45c7-837b-a6b266815fc0',\n",
       " 'd3324f66-a1c2-42e3-be14-b7cf29640b84',\n",
       " '38f1f862-d1cb-4205-a57e-dacac1f11ac5',\n",
       " 'd3f60670-ba1f-46ee-85b1-4511038defd7',\n",
       " '1423b83c-d3f6-45aa-bff2-e11cca726e71',\n",
       " 'aed80f53-0ab5-41b8-bd8e-f39007675d46',\n",
       " 'fbaa95ef-895d-461d-a16e-a5a649624d88',\n",
       " 'd6dd70f5-0d3d-4fd3-9814-cd8d3869e040',\n",
       " '20dc638c-5f94-4e15-9fc2-81aeae8ad7f9',\n",
       " '999323a1-eae2-480d-91f5-946cbd6e83ff',\n",
       " 'd7e8f18b-59a9-4b6a-acc6-8b4eee913a6a',\n",
       " 'd3191cca-af6c-4292-96eb-694a586831e7',\n",
       " '8da6d4a7-1819-482d-a9cd-b2117cf95566',\n",
       " 'a3c2de4c-80e7-44a6-8538-dd056665beec',\n",
       " '330ed083-893b-4c57-8cec-87364a722f71',\n",
       " 'c91aee72-b664-4dbe-a841-f4c302e9ab75',\n",
       " '749093e6-d07d-47ad-a0c2-2ea09531938f',\n",
       " '2a8ca75f-3d11-43c5-a338-46d5631a78f1',\n",
       " '97516ab9-d148-4af8-8203-abbb946d9596',\n",
       " 'dbae8605-f74b-4ef8-926d-0b7cc07fa045',\n",
       " 'd7af0b6c-91ab-40cb-82b7-1ea2edf68e4d',\n",
       " 'edb0f84e-7425-45e6-a77a-0fff937aa315',\n",
       " 'af79346a-78cf-4041-9e9a-2b37cbe1cdef',\n",
       " '70d042ff-3fca-444f-bf78-7fe7aac14715',\n",
       " 'b0073395-99c0-4986-8eae-01db9e0a39a0',\n",
       " '91fdbb83-ca9b-4337-8053-79cb32c2194c',\n",
       " 'cf316728-502c-46b9-9809-d868c105b50c',\n",
       " '0913dcca-2c2f-4028-824b-0d5b61f73a17',\n",
       " 'e851cb24-fde0-414a-9b5b-54776151e660',\n",
       " '8c8a36d2-e8d1-4071-8a7c-c96919f31299',\n",
       " '7d6d57c6-8471-48ec-a865-ab2b00566b48',\n",
       " '7d0af268-1da2-4fbb-89a5-900348d1016b',\n",
       " 'facbf172-9785-4428-bdeb-766c826e54f6',\n",
       " '75bf6abf-5e66-4280-a792-eb28c220a644',\n",
       " '85ad9051-9e12-4941-81b4-8a15464f0eed',\n",
       " '965bf23f-d1cd-4dbf-8c0e-3f4a678145d6',\n",
       " '2436694e-a523-4fdf-ae8b-d08188baeec2',\n",
       " '83cdfc5c-d2ca-41ad-b80a-95438aa77801',\n",
       " 'e4bce2c2-452f-4c3a-bb94-736c90eaa546',\n",
       " '829107c7-d662-4f91-8b79-c74927c9c6bd',\n",
       " 'e93f9a90-bfdc-4846-b7fc-280ca9e1ce70',\n",
       " 'ca72eee1-6665-4c92-a7ab-9d52189be386',\n",
       " '46ecef73-df55-4257-ab58-4f933c060a17',\n",
       " 'bd10889e-3cbc-48a5-8a2a-d70e18fbf482',\n",
       " '28417081-ce50-451b-9a3b-d93d79ad7686',\n",
       " '8a9dbf79-722d-4f04-889c-764d2bc90870',\n",
       " 'e1cd3674-646c-413a-9906-31ae35165d8f',\n",
       " '6969d9f1-255f-4d77-b9ae-3f66de394a2f',\n",
       " '7a5c345e-36cd-4cbc-8b87-2b53d259c486',\n",
       " '2095164c-ef81-43af-baf5-b2b5449ba54d',\n",
       " '4bef1423-c6f5-49ac-aaea-7b4f69c54a0a',\n",
       " '730ab586-6d27-4201-bb80-f9f3d25ab24b',\n",
       " 'de94db9a-afd1-4701-b7cf-b43a06a73c19',\n",
       " '43465f24-21af-4d29-ace8-b18d18a38337',\n",
       " '85a99a50-0229-4a33-86c6-8d7de1a8ded1',\n",
       " '51dce174-ca1d-4e03-b9d4-0b5e06e69a7b',\n",
       " '945316f7-dd22-47bc-87ba-91293dbba598',\n",
       " '2542af01-45bf-4122-97de-2654458059b4',\n",
       " '5fdb8783-06f8-4278-a235-352855e76b0b',\n",
       " 'e3c3e23e-e6ef-4205-acc8-6c8a9963eab0',\n",
       " '953c0f65-f9e9-4bb5-8274-1ccade051959']"
      ]
     },
     "execution_count": 60,
     "metadata": {},
     "output_type": "execute_result"
    }
   ],
   "source": [
    "from langchain_core.vectorstores import InMemoryVectorStore\n",
    "\n",
    "vector_store = InMemoryVectorStore(embedding = embedder)\n",
    "vector_store.add_documents(\n",
    "    documents = chunks,  # Document\n",
    ")"
   ]
  },
  {
   "cell_type": "code",
   "execution_count": 57,
   "id": "bfe8f9b6",
   "metadata": {},
   "outputs": [
    {
     "data": {
      "text/plain": [
       "<langchain_core.vectorstores.in_memory.InMemoryVectorStore at 0x198361d3b00>"
      ]
     },
     "execution_count": 57,
     "metadata": {},
     "output_type": "execute_result"
    }
   ],
   "source": [
    "vector_store"
   ]
  },
  {
   "cell_type": "code",
   "execution_count": 74,
   "id": "44e93072",
   "metadata": {},
   "outputs": [
    {
     "name": "stdout",
     "output_type": "stream",
     "text": [
      "1    시작했다. 결국 프로선수들의 출전은 국제경기연맹(IF)에서 결정짓도록 되었다. 2008년 기준으로 아마추어 선수만 출전하고 similarity: 0.6993\n",
      "2    올림픽은 국제경기연맹(IF), 국가 올림픽 위원회(NOC), 각 올림픽의 위원회(예-벤쿠버동계올림픽조직위원회)로 구성된다. similarity: 0.6973\n",
      "3    휴전'(그리스어: ἐκεχειρία 에케케이리아[*])이라는 고대 그리스의 관념이 최초의 올림피아 경기와 관련이 있다고 similarity: 0.6914\n",
      "4    화환도 같이 수여했다. 국가 올림픽 위원회(NOC)와 방송사에서는 자국의 메달 현황을 실시간으로 전달하기도 한다. similarity: 0.6904\n",
      "5    약물 복용 검사를 했다. 몇몇 선수들은 국가 올림픽 위원회(NOC)에 의해 올림픽이 시작되기 전에 출전금지 조치를 당했고, similarity: 0.6903\n"
     ]
    }
   ],
   "source": [
    "while True:\n",
    "    query = input()\n",
    "    if query == \"!q\":\n",
    "        break\n",
    "    top_5_sim = vector_store.similarity_search_with_score(\n",
    "        query = query,\n",
    "        k = 5\n",
    "    )\n",
    "    for idx, doc in enumerate(top_5_sim, 1):\n",
    "        print(f\"{idx:<3}  {doc[0].page_content} similarity: {round(doc[1], 4)}\")"
   ]
  }
 ],
 "metadata": {
  "kernelspec": {
   "display_name": "lang_env",
   "language": "python",
   "name": "python3"
  },
  "language_info": {
   "codemirror_mode": {
    "name": "ipython",
    "version": 3
   },
   "file_extension": ".py",
   "mimetype": "text/x-python",
   "name": "python",
   "nbconvert_exporter": "python",
   "pygments_lexer": "ipython3",
   "version": "3.12.11"
  }
 },
 "nbformat": 4,
 "nbformat_minor": 5
}
